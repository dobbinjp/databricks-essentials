{
 "cells": [
  {
   "cell_type": "code",
   "execution_count": 0,
   "metadata": {
    "application/vnd.databricks.v1+cell": {
     "cellMetadata": {
      "byteLimit": 2048000,
      "rowLimit": 10000
     },
     "inputWidgets": {},
     "nuid": "60bfa8cb-225d-4f2d-930c-51b0273474fe",
     "showTitle": false,
     "title": ""
    }
   },
   "outputs": [],
   "source": [
    "# list all secret scopes in the workspace\n",
    "dbutils.secrets.listScopes()\n"
   ]
  },
  {
   "cell_type": "code",
   "execution_count": 0,
   "metadata": {
    "application/vnd.databricks.v1+cell": {
     "cellMetadata": {
      "byteLimit": 2048000,
      "rowLimit": 10000
     },
     "inputWidgets": {},
     "nuid": "96876702-fe1f-4cc2-997f-ec53c4f7bfc1",
     "showTitle": false,
     "title": ""
    }
   },
   "outputs": [],
   "source": [
    "# create a variable called myusername, and assign it to a value from the secret az-sql-username\n",
    "myusername = dbutils.secrets.get(scope=\"key-vault-secret\", key=\"az-sql-username\")"
   ]
  },
  {
   "cell_type": "code",
   "execution_count": 0,
   "metadata": {
    "application/vnd.databricks.v1+cell": {
     "cellMetadata": {
      "byteLimit": 2048000,
      "rowLimit": 10000
     },
     "inputWidgets": {},
     "nuid": "579b6942-9b0f-4ae4-b6de-39c118d2ff44",
     "showTitle": false,
     "title": ""
    }
   },
   "outputs": [],
   "source": [
    "# try to print the variable to confirm it is redacted\n",
    "print(myusername)"
   ]
  }
 ],
 "metadata": {
  "application/vnd.databricks.v1+notebook": {
   "dashboards": [],
   "environmentMetadata": null,
   "language": "python",
   "notebookMetadata": {
    "pythonIndentUnit": 4
   },
   "notebookName": "Working with secrets",
   "widgets": {}
  }
 },
 "nbformat": 4,
 "nbformat_minor": 0
}
