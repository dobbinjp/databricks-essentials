{
 "cells": [
  {
   "cell_type": "markdown",
   "metadata": {
    "application/vnd.databricks.v1+cell": {
     "cellMetadata": {
      "byteLimit": 2048000,
      "rowLimit": 10000
     },
     "inputWidgets": {},
     "nuid": "764b3be9-f8c1-4e18-aa20-4bae297c0cd3",
     "showTitle": false,
     "title": ""
    }
   },
   "source": [
    "This notebook references documentation at: \n",
    "https://learn.microsoft.com/en-us/azure/databricks/storage/azure-storage#--access-azure-data-lake-storage-gen2-or-blob-storage-using-oauth-20-with-an-azure-service-principal"
   ]
  },
  {
   "cell_type": "markdown",
   "metadata": {
    "application/vnd.databricks.v1+cell": {
     "cellMetadata": {
      "byteLimit": 2048000,
      "rowLimit": 10000
     },
     "inputWidgets": {},
     "nuid": "a9005941-25e7-4674-8e0d-f0e735523fa1",
     "showTitle": false,
     "title": ""
    }
   },
   "source": [
    "###Account Key Access"
   ]
  },
  {
   "cell_type": "code",
   "execution_count": null,
   "metadata": {
    "application/vnd.databricks.v1+cell": {
     "cellMetadata": {
      "byteLimit": 2048000,
      "implicitDf": true,
      "rowLimit": 10000
     },
     "inputWidgets": {},
     "nuid": "af94c85e-a544-4148-bdd7-8099e1181dc9",
     "showTitle": false,
     "title": ""
    }
   },
   "outputs": [
    {
     "data": {
      "text/html": [
       "<style scoped>\n",
       "  .table-result-container {\n",
       "    max-height: 300px;\n",
       "    overflow: auto;\n",
       "  }\n",
       "  table, th, td {\n",
       "    border: 1px solid black;\n",
       "    border-collapse: collapse;\n",
       "  }\n",
       "  th, td {\n",
       "    padding: 5px;\n",
       "  }\n",
       "  th {\n",
       "    text-align: left;\n",
       "  }\n",
       "</style><div class='table-result-container'><table class='table-result'><thead style='background-color: white'><tr><th>key</th><th>value</th></tr></thead><tbody><tr><td>spark.databricks.delta.properties.defaults.enableChangeDataFeed</td><td>true</td></tr></tbody></table></div>"
      ]
     },
     "metadata": {
      "application/vnd.databricks.v1+output": {
       "addedWidgets": {},
       "aggData": [],
       "aggError": "",
       "aggOverflow": false,
       "aggSchema": [],
       "aggSeriesLimitReached": false,
       "aggType": "",
       "arguments": {},
       "columnCustomDisplayInfos": {},
       "data": [
        [
         "spark.databricks.delta.properties.defaults.enableChangeDataFeed",
         "true"
        ]
       ],
       "datasetInfos": [],
       "dbfsResultPath": null,
       "isJsonSchema": true,
       "metadata": {
        "dataframeName": "_sqldf",
        "executionCount": 1
       },
       "overflow": false,
       "plotOptions": {
        "customPlotOptions": {},
        "displayType": "table",
        "pivotAggregation": null,
        "pivotColumns": null,
        "xColumns": null,
        "yColumns": null
       },
       "removedWidgets": [],
       "schema": [
        {
         "metadata": "{}",
         "name": "key",
         "type": "\"string\""
        },
        {
         "metadata": "{}",
         "name": "value",
         "type": "\"string\""
        }
       ],
       "type": "table"
      }
     },
     "output_type": "display_data"
    }
   ],
   "source": [
    "%sql\n",
    "--this will enable the change data feed for all tables\n",
    "set spark.databricks.delta.properties.defaults.enableChangeDataFeed = true;"
   ]
  },
  {
   "cell_type": "code",
   "execution_count": null,
   "metadata": {
    "application/vnd.databricks.v1+cell": {
     "cellMetadata": {
      "byteLimit": 2048000,
      "rowLimit": 10000
     },
     "inputWidgets": {},
     "nuid": "f6b67f34-ec4e-4765-96f5-78b1cce2eab0",
     "showTitle": false,
     "title": ""
    }
   },
   "outputs": [],
   "source": [
    "storage_account = dbutils.widgets.get(\"storage_account_name\")\n",
    "container = dbutils.widgets.get(\"container_name\")\n",
    "folder = dbutils.widgets.get(\"folder_name\")\n",
    "# account key below, this would be replaced with a secret retrieval rather than hard code into the notebook\n",
    "# your instructor will give you the account key prior to running this lab\n",
    "# CHALLENGE: create a secret in the key vault and retrieve it from there\n",
    "account_key = \"<<ask your instructor for this key value>>\"\n",
    "\n",
    "spark.conf.set(\n",
    "    f\"fs.azure.account.key.{storage_account}.dfs.core.windows.net\",\n",
    "    f\"{account_key}\"\n",
    "    )"
   ]
  },
  {
   "cell_type": "code",
   "execution_count": null,
   "metadata": {
    "application/vnd.databricks.v1+cell": {
     "cellMetadata": {
      "byteLimit": 2048000,
      "rowLimit": 10000
     },
     "inputWidgets": {},
     "nuid": "6ba880e5-eab1-4ef9-80fa-f140786b99ea",
     "showTitle": false,
     "title": ""
    }
   },
   "outputs": [
    {
     "data": {
      "text/html": [
       "<style scoped>\n",
       "  .table-result-container {\n",
       "    max-height: 300px;\n",
       "    overflow: auto;\n",
       "  }\n",
       "  table, th, td {\n",
       "    border: 1px solid black;\n",
       "    border-collapse: collapse;\n",
       "  }\n",
       "  th, td {\n",
       "    padding: 5px;\n",
       "  }\n",
       "  th {\n",
       "    text-align: left;\n",
       "  }\n",
       "</style><div class='table-result-container'><table class='table-result'><thead style='background-color: white'><tr><th>path</th><th>name</th><th>size</th><th>modificationTime</th></tr></thead><tbody><tr><td>abfss://raw@jdobbinsidoc.dfs.core.windows.net/saleslt/address/</td><td>address/</td><td>0</td><td>1715808618000</td></tr><tr><td>abfss://raw@jdobbinsidoc.dfs.core.windows.net/saleslt/customer/</td><td>customer/</td><td>0</td><td>1715808615000</td></tr><tr><td>abfss://raw@jdobbinsidoc.dfs.core.windows.net/saleslt/customeraddress/</td><td>customeraddress/</td><td>0</td><td>1715808618000</td></tr><tr><td>abfss://raw@jdobbinsidoc.dfs.core.windows.net/saleslt/product/</td><td>product/</td><td>0</td><td>1715808616000</td></tr><tr><td>abfss://raw@jdobbinsidoc.dfs.core.windows.net/saleslt/productcategory/</td><td>productcategory/</td><td>0</td><td>1715808615000</td></tr><tr><td>abfss://raw@jdobbinsidoc.dfs.core.windows.net/saleslt/productdescription/</td><td>productdescription/</td><td>0</td><td>1715808617000</td></tr><tr><td>abfss://raw@jdobbinsidoc.dfs.core.windows.net/saleslt/productmodel/</td><td>productmodel/</td><td>0</td><td>1715808615000</td></tr><tr><td>abfss://raw@jdobbinsidoc.dfs.core.windows.net/saleslt/productmodelproductdescription/</td><td>productmodelproductdescription/</td><td>0</td><td>1715808618000</td></tr><tr><td>abfss://raw@jdobbinsidoc.dfs.core.windows.net/saleslt/salesorderdetail/</td><td>salesorderdetail/</td><td>0</td><td>1715808616000</td></tr><tr><td>abfss://raw@jdobbinsidoc.dfs.core.windows.net/saleslt/salesorderheader/</td><td>salesorderheader/</td><td>0</td><td>1715808617000</td></tr></tbody></table></div>"
      ]
     },
     "metadata": {
      "application/vnd.databricks.v1+output": {
       "addedWidgets": {},
       "aggData": [],
       "aggError": "",
       "aggOverflow": false,
       "aggSchema": [],
       "aggSeriesLimitReached": false,
       "aggType": "",
       "arguments": {},
       "columnCustomDisplayInfos": {},
       "data": [
        [
         "abfss://raw@jdobbinsidoc.dfs.core.windows.net/saleslt/address/",
         "address/",
         0,
         1715808618000
        ],
        [
         "abfss://raw@jdobbinsidoc.dfs.core.windows.net/saleslt/customer/",
         "customer/",
         0,
         1715808615000
        ],
        [
         "abfss://raw@jdobbinsidoc.dfs.core.windows.net/saleslt/customeraddress/",
         "customeraddress/",
         0,
         1715808618000
        ],
        [
         "abfss://raw@jdobbinsidoc.dfs.core.windows.net/saleslt/product/",
         "product/",
         0,
         1715808616000
        ],
        [
         "abfss://raw@jdobbinsidoc.dfs.core.windows.net/saleslt/productcategory/",
         "productcategory/",
         0,
         1715808615000
        ],
        [
         "abfss://raw@jdobbinsidoc.dfs.core.windows.net/saleslt/productdescription/",
         "productdescription/",
         0,
         1715808617000
        ],
        [
         "abfss://raw@jdobbinsidoc.dfs.core.windows.net/saleslt/productmodel/",
         "productmodel/",
         0,
         1715808615000
        ],
        [
         "abfss://raw@jdobbinsidoc.dfs.core.windows.net/saleslt/productmodelproductdescription/",
         "productmodelproductdescription/",
         0,
         1715808618000
        ],
        [
         "abfss://raw@jdobbinsidoc.dfs.core.windows.net/saleslt/salesorderdetail/",
         "salesorderdetail/",
         0,
         1715808616000
        ],
        [
         "abfss://raw@jdobbinsidoc.dfs.core.windows.net/saleslt/salesorderheader/",
         "salesorderheader/",
         0,
         1715808617000
        ]
       ],
       "datasetInfos": [],
       "dbfsResultPath": null,
       "isJsonSchema": true,
       "metadata": {},
       "overflow": false,
       "plotOptions": {
        "customPlotOptions": {},
        "displayType": "table",
        "pivotAggregation": null,
        "pivotColumns": null,
        "xColumns": null,
        "yColumns": null
       },
       "removedWidgets": [],
       "schema": [
        {
         "metadata": "{}",
         "name": "path",
         "type": "\"string\""
        },
        {
         "metadata": "{}",
         "name": "name",
         "type": "\"string\""
        },
        {
         "metadata": "{}",
         "name": "size",
         "type": "\"long\""
        },
        {
         "metadata": "{}",
         "name": "modificationTime",
         "type": "\"long\""
        }
       ],
       "type": "table"
      }
     },
     "output_type": "display_data"
    }
   ],
   "source": [
    "# list the subfolders in the given storage account, container and folder\n",
    "# store the results in an array, pfolders\n",
    "\n",
    "pfolders = dbutils.fs.ls(f\"abfss://{container}@{storage_account}.dfs.core.windows.net/{folder}\")\n",
    "display(pfolders)"
   ]
  },
  {
   "cell_type": "code",
   "execution_count": null,
   "metadata": {
    "application/vnd.databricks.v1+cell": {
     "cellMetadata": {
      "byteLimit": 2048000,
      "rowLimit": 10000
     },
     "inputWidgets": {},
     "nuid": "70e26c76-1c26-4ff7-8e1b-efc4b3c4edf4",
     "showTitle": false,
     "title": ""
    }
   },
   "outputs": [
    {
     "data": {
      "text/plain": [
       "[FileInfo(path='abfss://raw@jdobbinsidoc.dfs.core.windows.net/saleslt/address/SalesLT.Address.parquet', name='SalesLT.Address.parquet', size=35577, modificationTime=1715808618000)]"
      ]
     },
     "execution_count": 4,
     "metadata": {},
     "output_type": "execute_result"
    }
   ],
   "source": [
    "# copy the link of one of the folders above and list the contents, what kind of file is this?\n",
    "dbutils.fs.ls('abfss://raw@jdobbinsidoc.dfs.core.windows.net/saleslt/address/')"
   ]
  },
  {
   "cell_type": "code",
   "execution_count": null,
   "metadata": {
    "application/vnd.databricks.v1+cell": {
     "cellMetadata": {
      "byteLimit": 2048000,
      "rowLimit": 10000
     },
     "inputWidgets": {},
     "nuid": "7c822130-0543-4617-a864-70447fa19ffa",
     "showTitle": false,
     "title": ""
    }
   },
   "outputs": [
    {
     "name": "stdout",
     "output_type": "stream",
     "text": [
      "reading address...\n",
      "reading customer...\n",
      "reading customeraddress...\n",
      "reading product...\n",
      "reading productcategory...\n",
      "reading productdescription...\n",
      "reading productmodel...\n",
      "reading productmodelproductdescription...\n",
      "reading salesorderdetail...\n",
      "reading salesorderheader...\n",
      " \n",
      "all temporary views successfully created\n"
     ]
    }
   ],
   "source": [
    "# create temporary views for each of the subfolders containing parquet files\n",
    "for p in pfolders:\n",
    "  table_name = p.name.replace('/','')\n",
    "  print('reading ' + table_name + '...')\n",
    "  df = spark.read.format(\"parquet\").load(p.path)\n",
    "  df.createOrReplaceTempView(table_name)  \n",
    "\n",
    "print(' ')\n",
    "print('all temporary views successfully created')"
   ]
  },
  {
   "cell_type": "code",
   "execution_count": null,
   "metadata": {
    "application/vnd.databricks.v1+cell": {
     "cellMetadata": {
      "byteLimit": 2048000,
      "implicitDf": true,
      "rowLimit": 10000
     },
     "inputWidgets": {},
     "nuid": "bbce8075-06fb-405d-939a-309d5ca7f349",
     "showTitle": false,
     "title": ""
    }
   },
   "outputs": [
    {
     "data": {
      "text/html": [
       "<style scoped>\n",
       "  .table-result-container {\n",
       "    max-height: 300px;\n",
       "    overflow: auto;\n",
       "  }\n",
       "  table, th, td {\n",
       "    border: 1px solid black;\n",
       "    border-collapse: collapse;\n",
       "  }\n",
       "  th, td {\n",
       "    padding: 5px;\n",
       "  }\n",
       "  th {\n",
       "    text-align: left;\n",
       "  }\n",
       "</style><div class='table-result-container'><table class='table-result'><thead style='background-color: white'><tr><th>namespace</th><th>viewName</th><th>isTemporary</th><th>isMaterialized</th></tr></thead><tbody><tr><td></td><td>address</td><td>true</td><td>false</td></tr><tr><td></td><td>customer</td><td>true</td><td>false</td></tr><tr><td></td><td>customeraddress</td><td>true</td><td>false</td></tr><tr><td></td><td>product</td><td>true</td><td>false</td></tr><tr><td></td><td>productcategory</td><td>true</td><td>false</td></tr><tr><td></td><td>productdescription</td><td>true</td><td>false</td></tr><tr><td></td><td>productmodel</td><td>true</td><td>false</td></tr><tr><td></td><td>productmodelproductdescription</td><td>true</td><td>false</td></tr><tr><td></td><td>salesorderdetail</td><td>true</td><td>false</td></tr><tr><td></td><td>salesorderheader</td><td>true</td><td>false</td></tr></tbody></table></div>"
      ]
     },
     "metadata": {
      "application/vnd.databricks.v1+output": {
       "addedWidgets": {},
       "aggData": [],
       "aggError": "",
       "aggOverflow": false,
       "aggSchema": [],
       "aggSeriesLimitReached": false,
       "aggType": "",
       "arguments": {},
       "columnCustomDisplayInfos": {},
       "data": [
        [
         "",
         "address",
         true,
         false
        ],
        [
         "",
         "customer",
         true,
         false
        ],
        [
         "",
         "customeraddress",
         true,
         false
        ],
        [
         "",
         "product",
         true,
         false
        ],
        [
         "",
         "productcategory",
         true,
         false
        ],
        [
         "",
         "productdescription",
         true,
         false
        ],
        [
         "",
         "productmodel",
         true,
         false
        ],
        [
         "",
         "productmodelproductdescription",
         true,
         false
        ],
        [
         "",
         "salesorderdetail",
         true,
         false
        ],
        [
         "",
         "salesorderheader",
         true,
         false
        ]
       ],
       "datasetInfos": [],
       "dbfsResultPath": null,
       "isJsonSchema": true,
       "metadata": {
        "dataframeName": "_sqldf",
        "executionCount": 6
       },
       "overflow": false,
       "plotOptions": {
        "customPlotOptions": {},
        "displayType": "table",
        "pivotAggregation": null,
        "pivotColumns": null,
        "xColumns": null,
        "yColumns": null
       },
       "removedWidgets": [],
       "schema": [
        {
         "metadata": "{}",
         "name": "namespace",
         "type": "\"string\""
        },
        {
         "metadata": "{}",
         "name": "viewName",
         "type": "\"string\""
        },
        {
         "metadata": "{}",
         "name": "isTemporary",
         "type": "\"boolean\""
        },
        {
         "metadata": "{}",
         "name": "isMaterialized",
         "type": "\"boolean\""
        }
       ],
       "type": "table"
      }
     },
     "output_type": "display_data"
    }
   ],
   "source": [
    "%sql\n",
    "--see all temporary views available\n",
    "SHOW VIEWS"
   ]
  },
  {
   "cell_type": "code",
   "execution_count": null,
   "metadata": {
    "application/vnd.databricks.v1+cell": {
     "cellMetadata": {
      "byteLimit": 2048000,
      "implicitDf": true,
      "rowLimit": 10000
     },
     "inputWidgets": {},
     "nuid": "31ad42f9-312b-4086-8168-e84637c79daa",
     "showTitle": false,
     "title": ""
    }
   },
   "outputs": [
    {
     "data": {
      "text/html": [
       "<style scoped>\n",
       "  .table-result-container {\n",
       "    max-height: 300px;\n",
       "    overflow: auto;\n",
       "  }\n",
       "  table, th, td {\n",
       "    border: 1px solid black;\n",
       "    border-collapse: collapse;\n",
       "  }\n",
       "  th, td {\n",
       "    padding: 5px;\n",
       "  }\n",
       "  th {\n",
       "    text-align: left;\n",
       "  }\n",
       "</style><div class='table-result-container'><table class='table-result'><thead style='background-color: white'><tr><th>SalesOrderID</th><th>SalesOrderDetailID</th><th>OrderQty</th><th>ProductID</th><th>UnitPrice</th><th>UnitPriceDiscount</th><th>LineTotal</th><th>rowguid</th><th>ModifiedDate</th></tr></thead><tbody><tr><td>71774</td><td>110562</td><td>1</td><td>836</td><td>356.8980</td><td>0.0000</td><td>356.898000</td><td>e3a1994c-7a68-4ce8-96a3-77fdd3bbd730</td><td>2008-06-01T00:00:00Z</td></tr><tr><td>71774</td><td>110563</td><td>1</td><td>822</td><td>356.8980</td><td>0.0000</td><td>356.898000</td><td>5c77f557-fdb6-43ba-90b9-9a7aec55ca32</td><td>2008-06-01T00:00:00Z</td></tr><tr><td>71776</td><td>110567</td><td>1</td><td>907</td><td>63.9000</td><td>0.0000</td><td>63.900000</td><td>6dbfe398-d15d-425e-aa58-88178fe360e5</td><td>2008-06-01T00:00:00Z</td></tr><tr><td>71780</td><td>110616</td><td>4</td><td>905</td><td>218.4540</td><td>0.0000</td><td>873.816000</td><td>377246c9-4483-48ed-a5b9-e56f005364e0</td><td>2008-06-01T00:00:00Z</td></tr><tr><td>71780</td><td>110617</td><td>2</td><td>983</td><td>461.6940</td><td>0.0000</td><td>923.388000</td><td>43a54bcd-536d-4a1b-8e69-24d083507a14</td><td>2008-06-01T00:00:00Z</td></tr><tr><td>71780</td><td>110618</td><td>6</td><td>988</td><td>112.9980</td><td>0.4000</td><td>406.792800</td><td>12706fab-f3a2-48c6-b7c7-1ccde4081f18</td><td>2008-06-01T00:00:00Z</td></tr><tr><td>71780</td><td>110619</td><td>2</td><td>748</td><td>818.7000</td><td>0.0000</td><td>1637.400000</td><td>b12f0d3b-5b4e-4f1f-b2f0-f7cde99dd826</td><td>2008-06-01T00:00:00Z</td></tr><tr><td>71780</td><td>110620</td><td>1</td><td>990</td><td>323.9940</td><td>0.0000</td><td>323.994000</td><td>f117a449-039d-44b8-a4b2-b12001dacc01</td><td>2008-06-01T00:00:00Z</td></tr><tr><td>71780</td><td>110621</td><td>1</td><td>926</td><td>149.8740</td><td>0.0000</td><td>149.874000</td><td>92e5052b-72d0-4c91-9a8c-42591803667e</td><td>2008-06-01T00:00:00Z</td></tr><tr><td>71780</td><td>110622</td><td>1</td><td>743</td><td>809.7600</td><td>0.0000</td><td>809.760000</td><td>8bd33bed-c4f6-4d44-84fb-a7d04afcd794</td><td>2008-06-01T00:00:00Z</td></tr><tr><td>71780</td><td>110623</td><td>4</td><td>782</td><td>1376.9940</td><td>0.0000</td><td>5507.976000</td><td>686999fb-42e6-4d00-9a14-83ffa86833e3</td><td>2008-06-01T00:00:00Z</td></tr><tr><td>71780</td><td>110624</td><td>2</td><td>918</td><td>158.4300</td><td>0.0000</td><td>316.860000</td><td>82940b03-c70b-4183-8660-6b3418908429</td><td>2008-06-01T00:00:00Z</td></tr><tr><td>71780</td><td>110625</td><td>4</td><td>780</td><td>1391.9940</td><td>0.0000</td><td>5567.976000</td><td>644b0cd6-b2c3-4e4d-ab43-091c2ef6c829</td><td>2008-06-01T00:00:00Z</td></tr><tr><td>71780</td><td>110626</td><td>1</td><td>937</td><td>48.5940</td><td>0.0000</td><td>48.594000</td><td>7f5feb17-8ef4-4236-9f1c-15046d9638f0</td><td>2008-06-01T00:00:00Z</td></tr><tr><td>71780</td><td>110627</td><td>6</td><td>867</td><td>41.9940</td><td>0.0000</td><td>251.964000</td><td>ac78838d-b503-41a5-9791-480e528f028c</td><td>2008-06-01T00:00:00Z</td></tr><tr><td>71780</td><td>110628</td><td>1</td><td>985</td><td>112.9980</td><td>0.4000</td><td>67.798800</td><td>2c10a282-a13d-442a-8f45-f4d6b23a7d9c</td><td>2008-06-01T00:00:00Z</td></tr><tr><td>71780</td><td>110629</td><td>2</td><td>989</td><td>323.9940</td><td>0.0000</td><td>647.988000</td><td>654fb79e-70df-4b92-9832-9fa67013215b</td><td>2008-06-01T00:00:00Z</td></tr><tr><td>71780</td><td>110630</td><td>3</td><td>991</td><td>323.9940</td><td>0.0000</td><td>971.982000</td><td>3d6ca7ab-055e-4536-8940-76234cc9bcde</td><td>2008-06-01T00:00:00Z</td></tr><tr><td>71780</td><td>110631</td><td>1</td><td>992</td><td>323.9940</td><td>0.0000</td><td>323.994000</td><td>560feee1-dd54-4c34-abb1-4f8841d0aa41</td><td>2008-06-01T00:00:00Z</td></tr><tr><td>71780</td><td>110632</td><td>2</td><td>993</td><td>323.9940</td><td>0.0000</td><td>647.988000</td><td>19570052-4023-4658-bc56-dc5c619bd00e</td><td>2008-06-01T00:00:00Z</td></tr><tr><td>71780</td><td>110633</td><td>2</td><td>984</td><td>112.9980</td><td>0.4000</td><td>135.597600</td><td>27562675-f8c3-4a38-bd9e-b366b83e5204</td><td>2008-06-01T00:00:00Z</td></tr><tr><td>71780</td><td>110634</td><td>3</td><td>986</td><td>112.9980</td><td>0.4000</td><td>203.396400</td><td>e193ce39-ef33-4969-87b1-468d2f7b48ad</td><td>2008-06-01T00:00:00Z</td></tr><tr><td>71780</td><td>110635</td><td>3</td><td>987</td><td>112.9980</td><td>0.4000</td><td>203.396400</td><td>e38e076f-5072-437a-a771-ada53b5ab803</td><td>2008-06-01T00:00:00Z</td></tr><tr><td>71780</td><td>110636</td><td>2</td><td>981</td><td>461.6940</td><td>0.0000</td><td>923.388000</td><td>26c00b7d-6e19-4fbf-b9f1-23c2609e8893</td><td>2008-06-01T00:00:00Z</td></tr><tr><td>71780</td><td>110637</td><td>3</td><td>982</td><td>461.6940</td><td>0.0000</td><td>1385.082000</td><td>6666a81b-90a1-4204-a39e-9f660ca43e5f</td><td>2008-06-01T00:00:00Z</td></tr><tr><td>71780</td><td>110638</td><td>5</td><td>783</td><td>1376.9940</td><td>0.0000</td><td>6884.970000</td><td>332dcf9e-dfd2-4345-9015-f4b53ac396ee</td><td>2008-06-01T00:00:00Z</td></tr><tr><td>71780</td><td>110639</td><td>3</td><td>809</td><td>37.1520</td><td>0.0000</td><td>111.456000</td><td>c2b08405-a9be-4f71-906c-5d7b1e26bde4</td><td>2008-06-01T00:00:00Z</td></tr><tr><td>71780</td><td>110640</td><td>1</td><td>810</td><td>72.1620</td><td>0.0000</td><td>72.162000</td><td>351a29fb-ceb1-4ca6-bb36-506d87b82a95</td><td>2008-06-01T00:00:00Z</td></tr><tr><td>71780</td><td>110641</td><td>2</td><td>935</td><td>24.2940</td><td>0.0000</td><td>48.588000</td><td>1918cfd2-69e8-4593-b4d6-8677f18b8f62</td><td>2008-06-01T00:00:00Z</td></tr><tr><td>71780</td><td>110642</td><td>1</td><td>925</td><td>149.8740</td><td>0.0000</td><td>149.874000</td><td>21624302-ca0f-402f-8a46-5a3fffa7d5f3</td><td>2008-06-01T00:00:00Z</td></tr><tr><td>71780</td><td>110643</td><td>7</td><td>869</td><td>41.9940</td><td>0.0000</td><td>293.958000</td><td>169c75f6-a364-46e3-8ddb-033528177458</td><td>2008-06-01T00:00:00Z</td></tr><tr><td>71780</td><td>110644</td><td>1</td><td>880</td><td>32.9940</td><td>0.0000</td><td>32.994000</td><td>c3fbb3ec-3ff6-4ee1-88cf-230e128815f3</td><td>2008-06-01T00:00:00Z</td></tr><tr><td>71782</td><td>110667</td><td>3</td><td>714</td><td>29.9940</td><td>0.0000</td><td>89.982000</td><td>e3b48ec1-8e67-4ef8-8ee0-8898167a3598</td><td>2008-06-01T00:00:00Z</td></tr><tr><td>71782</td><td>110668</td><td>3</td><td>956</td><td>1430.4420</td><td>0.0000</td><td>4291.326000</td><td>8f00f4bc-cfd1-473f-9fce-191b7eb5f1ad</td><td>2008-06-01T00:00:00Z</td></tr><tr><td>71782</td><td>110669</td><td>1</td><td>954</td><td>1430.4420</td><td>0.0000</td><td>1430.442000</td><td>8d3b14c1-df49-4919-942c-3bb379d7be42</td><td>2008-06-01T00:00:00Z</td></tr><tr><td>71782</td><td>110670</td><td>10</td><td>712</td><td>5.3940</td><td>0.0000</td><td>53.940000</td><td>a7873b73-b47e-4a06-afa4-805342a35e02</td><td>2008-06-01T00:00:00Z</td></tr><tr><td>71782</td><td>110671</td><td>10</td><td>877</td><td>4.7700</td><td>0.0000</td><td>47.700000</td><td>e7cb4bbf-3e8d-4c6e-8c87-c3d5a038266b</td><td>2008-06-01T00:00:00Z</td></tr><tr><td>71782</td><td>110672</td><td>4</td><td>996</td><td>72.8940</td><td>0.0000</td><td>291.576000</td><td>c4d69d25-2f3f-4978-b765-8255d489db8d</td><td>2008-06-01T00:00:00Z</td></tr><tr><td>71782</td><td>110673</td><td>6</td><td>864</td><td>38.1000</td><td>0.0000</td><td>228.600000</td><td>c216d216-86cd-4e33-a713-6a97d344fa91</td><td>2008-06-01T00:00:00Z</td></tr><tr><td>71782</td><td>110674</td><td>3</td><td>876</td><td>72.0000</td><td>0.0000</td><td>216.000000</td><td>fd409a4f-dab6-4499-81d2-07620f4aba08</td><td>2008-06-01T00:00:00Z</td></tr><tr><td>71782</td><td>110675</td><td>4</td><td>959</td><td>445.4100</td><td>0.0000</td><td>1781.640000</td><td>cacd0b0c-270a-42bb-a48e-34a69248b19a</td><td>2008-06-01T00:00:00Z</td></tr><tr><td>71782</td><td>110676</td><td>4</td><td>971</td><td>728.9100</td><td>0.0000</td><td>2915.640000</td><td>5edf45b8-d4fb-4714-957d-9666ea22f415</td><td>2008-06-01T00:00:00Z</td></tr><tr><td>71782</td><td>110677</td><td>6</td><td>870</td><td>2.9940</td><td>0.0000</td><td>17.964000</td><td>dc88bd9d-3de5-49a7-b874-bada950ab284</td><td>2008-06-01T00:00:00Z</td></tr><tr><td>71782</td><td>110678</td><td>1</td><td>978</td><td>445.4100</td><td>0.0000</td><td>445.410000</td><td>8bd27f52-34f9-498d-a838-366179f7075d</td><td>2008-06-01T00:00:00Z</td></tr><tr><td>71782</td><td>110679</td><td>1</td><td>955</td><td>1430.4420</td><td>0.0000</td><td>1430.442000</td><td>1d44bf7e-9c42-4ca1-afd6-e6ddf9d85bc5</td><td>2008-06-01T00:00:00Z</td></tr><tr><td>71782</td><td>110680</td><td>1</td><td>948</td><td>63.9000</td><td>0.0000</td><td>63.900000</td><td>083cdd70-a4df-44fd-863a-19b03deefba4</td><td>2008-06-01T00:00:00Z</td></tr><tr><td>71782</td><td>110681</td><td>1</td><td>994</td><td>32.3940</td><td>0.0000</td><td>32.394000</td><td>8ed3d829-95ad-4bed-8894-9b76d20981b9</td><td>2008-06-01T00:00:00Z</td></tr><tr><td>71782</td><td>110682</td><td>1</td><td>970</td><td>728.9100</td><td>0.0000</td><td>728.910000</td><td>74e94a04-5c2b-4821-8fc7-069204b0ba4a</td><td>2008-06-01T00:00:00Z</td></tr><tr><td>71782</td><td>110683</td><td>2</td><td>966</td><td>1430.4420</td><td>0.0000</td><td>2860.884000</td><td>4e0a7f8e-58da-4b23-8856-980fd461cff8</td><td>2008-06-01T00:00:00Z</td></tr><tr><td>71782</td><td>110684</td><td>4</td><td>884</td><td>32.3940</td><td>0.0000</td><td>129.576000</td><td>5324b298-176e-4e92-9fc6-ed0c4db55235</td><td>2008-06-01T00:00:00Z</td></tr><tr><td>71782</td><td>110685</td><td>2</td><td>885</td><td>602.3460</td><td>0.0000</td><td>1204.692000</td><td>598385dd-ea19-409e-8f17-03ab651165d0</td><td>2008-06-01T00:00:00Z</td></tr><tr><td>71782</td><td>110686</td><td>8</td><td>715</td><td>29.9940</td><td>0.0000</td><td>239.952000</td><td>4a23f5c7-d0c5-4703-8e42-69e9a280e9ef</td><td>2008-06-01T00:00:00Z</td></tr><tr><td>71782</td><td>110687</td><td>3</td><td>894</td><td>72.8760</td><td>0.0000</td><td>218.628000</td><td>eaaae38b-fb67-4509-abbd-fbac1cae2054</td><td>2008-06-01T00:00:00Z</td></tr><tr><td>71782</td><td>110688</td><td>1</td><td>957</td><td>1430.4420</td><td>0.0000</td><td>1430.442000</td><td>8d36d42e-5a61-4aa0-b8b7-a83deeeb3dde</td><td>2008-06-01T00:00:00Z</td></tr><tr><td>71782</td><td>110689</td><td>2</td><td>967</td><td>1430.4420</td><td>0.0000</td><td>2860.884000</td><td>406724b4-4733-4372-a4ac-84f4f493aa7e</td><td>2008-06-01T00:00:00Z</td></tr><tr><td>71782</td><td>110690</td><td>7</td><td>708</td><td>20.9940</td><td>0.0000</td><td>146.958000</td><td>4aa6f3da-060b-4c22-b6b5-3a29c370af8d</td><td>2008-06-01T00:00:00Z</td></tr><tr><td>71782</td><td>110691</td><td>3</td><td>961</td><td>445.4100</td><td>0.0000</td><td>1336.230000</td><td>35ba4320-0ef4-46c4-8e1b-71201d1f4fc5</td><td>2008-06-01T00:00:00Z</td></tr><tr><td>71782</td><td>110692</td><td>2</td><td>979</td><td>445.4100</td><td>0.0000</td><td>890.820000</td><td>bc718813-1d25-49c8-9369-4ec056c040d7</td><td>2008-06-01T00:00:00Z</td></tr><tr><td>71782</td><td>110693</td><td>2</td><td>958</td><td>445.4100</td><td>0.0000</td><td>890.820000</td><td>6a61199f-48c9-4dd1-8fc1-5825a1c8c7ae</td><td>2008-06-01T00:00:00Z</td></tr><tr><td>71782</td><td>110694</td><td>1</td><td>963</td><td>445.4100</td><td>0.0000</td><td>445.410000</td><td>48eada4b-b0a7-4cd4-bd00-e7b8eebbcfde</td><td>2008-06-01T00:00:00Z</td></tr><tr><td>71782</td><td>110695</td><td>1</td><td>953</td><td>728.9100</td><td>0.0000</td><td>728.910000</td><td>8c2be39e-66d9-437d-8d18-233702bc27b5</td><td>2008-06-01T00:00:00Z</td></tr><tr><td>71782</td><td>110696</td><td>2</td><td>968</td><td>1430.4420</td><td>0.0000</td><td>2860.884000</td><td>56f9396b-53f8-4386-8f08-6feb33125913</td><td>2008-06-01T00:00:00Z</td></tr><tr><td>71782</td><td>110697</td><td>2</td><td>951</td><td>242.9940</td><td>0.0000</td><td>485.988000</td><td>35d889d9-676a-4b95-a2ea-28da743c25a7</td><td>2008-06-01T00:00:00Z</td></tr><tr><td>71782</td><td>110698</td><td>2</td><td>945</td><td>54.8940</td><td>0.0000</td><td>109.788000</td><td>2d3aef50-9ace-4b59-be1f-b9d709ecbde2</td><td>2008-06-01T00:00:00Z</td></tr><tr><td>71782</td><td>110699</td><td>1</td><td>916</td><td>31.5840</td><td>0.0000</td><td>31.584000</td><td>20812393-5001-46eb-a7f6-69c537cbb76e</td><td>2008-06-01T00:00:00Z</td></tr><tr><td>71782</td><td>110700</td><td>1</td><td>886</td><td>200.0520</td><td>0.0000</td><td>200.052000</td><td>c09d7227-b5cb-4e1f-8489-c5456c71516e</td><td>2008-06-01T00:00:00Z</td></tr><tr><td>71782</td><td>110701</td><td>1</td><td>892</td><td>602.3460</td><td>0.0000</td><td>602.346000</td><td>00233509-2f29-4f6e-b84c-e1d38536d432</td><td>2008-06-01T00:00:00Z</td></tr><tr><td>71782</td><td>110702</td><td>1</td><td>893</td><td>602.3460</td><td>0.0000</td><td>602.346000</td><td>df0ff5ca-b71f-49ab-852e-f4f1c934ce7a</td><td>2008-06-01T00:00:00Z</td></tr><tr><td>71782</td><td>110703</td><td>6</td><td>881</td><td>32.3940</td><td>0.0000</td><td>194.364000</td><td>87172507-65ee-414f-a162-1bc35f7aff1f</td><td>2008-06-01T00:00:00Z</td></tr><tr><td>71782</td><td>110704</td><td>4</td><td>883</td><td>32.3940</td><td>0.0000</td><td>129.576000</td><td>a62b4ea2-985b-4c65-91d2-94e57a3b1a50</td><td>2008-06-01T00:00:00Z</td></tr><tr><td>71782</td><td>110705</td><td>1</td><td>859</td><td>14.6940</td><td>0.0000</td><td>14.694000</td><td>84402784-60d8-4a3b-b982-97661b060511</td><td>2008-06-01T00:00:00Z</td></tr><tr><td>71782</td><td>110706</td><td>4</td><td>865</td><td>38.1000</td><td>0.0000</td><td>152.400000</td><td>2fde7943-7f34-42e3-a6f6-d8d8ba64103e</td><td>2008-06-01T00:00:00Z</td></tr><tr><td>71782</td><td>110707</td><td>9</td><td>880</td><td>32.9940</td><td>0.0000</td><td>296.946000</td><td>bc88c745-58eb-4681-9381-68fef23d9334</td><td>2008-06-01T00:00:00Z</td></tr><tr><td>71782</td><td>110708</td><td>6</td><td>711</td><td>20.9940</td><td>0.0000</td><td>125.964000</td><td>c4df556d-3a50-4e6d-ba45-4ad9c58cb4d5</td><td>2008-06-01T00:00:00Z</td></tr><tr><td>71782</td><td>110709</td><td>3</td><td>707</td><td>20.9940</td><td>0.0000</td><td>62.982000</td><td>eeff1625-7749-4f51-a01d-3a9776b774f1</td><td>2008-06-01T00:00:00Z</td></tr><tr><td>71783</td><td>110710</td><td>4</td><td>738</td><td>202.3320</td><td>0.0000</td><td>809.328000</td><td>6600bd56-0e8e-4708-88ad-8b81cdde0c66</td><td>2008-06-01T00:00:00Z</td></tr><tr><td>71783</td><td>110711</td><td>6</td><td>939</td><td>37.2540</td><td>0.0000</td><td>223.524000</td><td>49ff2935-0b3d-4bed-91d0-454c71a2cbbe</td><td>2008-06-01T00:00:00Z</td></tr><tr><td>71783</td><td>110712</td><td>3</td><td>793</td><td>1466.0100</td><td>0.0000</td><td>4398.030000</td><td>a13c9fa5-a227-4d2e-b1b9-4982187edc65</td><td>2008-06-01T00:00:00Z</td></tr><tr><td>71783</td><td>110713</td><td>4</td><td>977</td><td>323.9940</td><td>0.0000</td><td>1295.976000</td><td>cf2858d7-f54f-4954-a9f2-87e132352d4e</td><td>2008-06-01T00:00:00Z</td></tr><tr><td>71783</td><td>110714</td><td>9</td><td>880</td><td>32.9940</td><td>0.0000</td><td>296.946000</td><td>bfbd21a7-253a-411a-9fe7-56884370529e</td><td>2008-06-01T00:00:00Z</td></tr><tr><td>71783</td><td>110715</td><td>7</td><td>859</td><td>14.6940</td><td>0.0000</td><td>102.858000</td><td>9ca42575-6bd2-4063-904a-f89dcdbfa00f</td><td>2008-06-01T00:00:00Z</td></tr><tr><td>71783</td><td>110716</td><td>25</td><td>976</td><td>850.4950</td><td>0.1000</td><td>19136.137500</td><td>f9e75552-b9d0-4cfe-ac23-abbffa8da03b</td><td>2008-06-01T00:00:00Z</td></tr><tr><td>71783</td><td>110717</td><td>6</td><td>714</td><td>29.9940</td><td>0.0000</td><td>179.964000</td><td>4003a2a8-7365-4f8b-9fef-53d14b022e42</td><td>2008-06-01T00:00:00Z</td></tr><tr><td>71783</td><td>110718</td><td>8</td><td>877</td><td>4.7700</td><td>0.0000</td><td>38.160000</td><td>3650c9ac-764f-4a62-bd44-c9c302643c49</td><td>2008-06-01T00:00:00Z</td></tr><tr><td>71783</td><td>110719</td><td>1</td><td>813</td><td>72.1620</td><td>0.0000</td><td>72.162000</td><td>15b9c1ad-c3de-474d-ac24-bf2062485549</td><td>2008-06-01T00:00:00Z</td></tr><tr><td>71783</td><td>110720</td><td>6</td><td>881</td><td>32.3940</td><td>0.0000</td><td>194.364000</td><td>7f2dc14d-5f9b-4d50-8a47-98ea49a83ce3</td><td>2008-06-01T00:00:00Z</td></tr><tr><td>71783</td><td>110721</td><td>6</td><td>873</td><td>1.3740</td><td>0.0000</td><td>8.244000</td><td>e447cabb-a2cd-4bb0-9927-a6285927baec</td><td>2008-06-01T00:00:00Z</td></tr><tr><td>71783</td><td>110722</td><td>10</td><td>870</td><td>2.9940</td><td>0.0000</td><td>29.940000</td><td>93d36328-d201-49c3-981b-0082f93f305a</td><td>2008-06-01T00:00:00Z</td></tr><tr><td>71783</td><td>110723</td><td>1</td><td>822</td><td>356.8980</td><td>0.0000</td><td>356.898000</td><td>710710b5-a4be-4a71-8965-b5ac0c3f8732</td><td>2008-06-01T00:00:00Z</td></tr><tr><td>71783</td><td>110724</td><td>1</td><td>799</td><td>672.2940</td><td>0.0000</td><td>672.294000</td><td>bd3a6bd9-2d94-4bb2-b033-2cb2b879b666</td><td>2008-06-01T00:00:00Z</td></tr><tr><td>71783</td><td>110725</td><td>2</td><td>858</td><td>14.6940</td><td>0.0000</td><td>29.388000</td><td>17d042f8-7e71-4c98-a9e8-c06c6b046b9f</td><td>2008-06-01T00:00:00Z</td></tr><tr><td>71783</td><td>110726</td><td>9</td><td>860</td><td>14.6940</td><td>0.0000</td><td>132.246000</td><td>69287890-5cf2-48d4-842e-1af037e8880b</td><td>2008-06-01T00:00:00Z</td></tr><tr><td>71783</td><td>110727</td><td>15</td><td>864</td><td>34.9250</td><td>0.0500</td><td>497.681250</td><td>95523468-78c9-4659-a9e2-408f6139c1bc</td><td>2008-06-01T00:00:00Z</td></tr><tr><td>71783</td><td>110728</td><td>3</td><td>938</td><td>24.2940</td><td>0.0000</td><td>72.882000</td><td>6a7322f6-6e11-45c2-8b9e-004714cd9716</td><td>2008-06-01T00:00:00Z</td></tr><tr><td>71783</td><td>110729</td><td>11</td><td>883</td><td>31.3142</td><td>0.0200</td><td>337.567076</td><td>2bc7d17c-cb36-4acd-a45e-5f6f0336a15a</td><td>2008-06-01T00:00:00Z</td></tr><tr><td>71783</td><td>110730</td><td>6</td><td>722</td><td>202.3320</td><td>0.0000</td><td>1213.992000</td><td>5e9d4a6a-6848-46c3-a6ed-4f5111b94302</td><td>2008-06-01T00:00:00Z</td></tr><tr><td>71783</td><td>110731</td><td>9</td><td>884</td><td>32.3940</td><td>0.0000</td><td>291.546000</td><td>443c9252-f746-4ec0-b838-2b02bee947f6</td><td>2008-06-01T00:00:00Z</td></tr><tr><td>71783</td><td>110732</td><td>7</td><td>998</td><td>323.9940</td><td>0.0000</td><td>2267.958000</td><td>db5fe5ad-ea68-4d7d-9b74-647141ac43b9</td><td>2008-06-01T00:00:00Z</td></tr><tr><td>71783</td><td>110733</td><td>5</td><td>999</td><td>323.9940</td><td>0.0000</td><td>1619.970000</td><td>abdb8300-ff35-45f5-b4ca-9f627024ee30</td><td>2008-06-01T00:00:00Z</td></tr><tr><td>71783</td><td>110734</td><td>4</td><td>797</td><td>672.2940</td><td>0.0000</td><td>2689.176000</td><td>8f859c8b-6996-4e2d-9f0f-0dd0f8fea8db</td><td>2008-06-01T00:00:00Z</td></tr><tr><td>71783</td><td>110735</td><td>1</td><td>798</td><td>672.2940</td><td>0.0000</td><td>672.294000</td><td>d27d3eb4-56c3-4877-9902-264b2a236ead</td><td>2008-06-01T00:00:00Z</td></tr><tr><td>71783</td><td>110736</td><td>1</td><td>801</td><td>672.2940</td><td>0.0000</td><td>672.294000</td><td>b9e766b8-ce94-4452-bb4b-02fa8138b193</td><td>2008-06-01T00:00:00Z</td></tr><tr><td>71783</td><td>110737</td><td>5</td><td>973</td><td>1020.5940</td><td>0.0000</td><td>5102.970000</td><td>22203517-0010-48f1-a777-5bb735226508</td><td>2008-06-01T00:00:00Z</td></tr><tr><td>71783</td><td>110738</td><td>13</td><td>974</td><td>986.5742</td><td>0.0200</td><td>12568.955308</td><td>ac5c5fc9-722c-4e0e-b1ca-bcf60ca65228</td><td>2008-06-01T00:00:00Z</td></tr><tr><td>71783</td><td>110739</td><td>4</td><td>940</td><td>48.5940</td><td>0.0000</td><td>194.376000</td><td>e09a8710-17cf-4e93-8d1b-89ad798e9058</td><td>2008-06-01T00:00:00Z</td></tr><tr><td>71783</td><td>110740</td><td>3</td><td>835</td><td>356.8980</td><td>0.0000</td><td>1070.694000</td><td>cc30cb7e-1260-48a9-8dec-b7d95cc5533e</td><td>2008-06-01T00:00:00Z</td></tr><tr><td>71783</td><td>110741</td><td>4</td><td>836</td><td>356.8980</td><td>0.0000</td><td>1427.592000</td><td>0a9a4bef-bb06-49b2-942d-c8a2cd010a84</td><td>2008-06-01T00:00:00Z</td></tr><tr><td>71783</td><td>110742</td><td>4</td><td>838</td><td>858.9000</td><td>0.0000</td><td>3435.600000</td><td>32e1242c-4571-46f4-b749-fdc8224186c8</td><td>2008-06-01T00:00:00Z</td></tr><tr><td>71783</td><td>110743</td><td>2</td><td>718</td><td>858.9000</td><td>0.0000</td><td>1717.800000</td><td>033a43f7-a88b-4d7c-8308-bc2ae7ec9779</td><td>2008-06-01T00:00:00Z</td></tr><tr><td>71783</td><td>110744</td><td>17</td><td>715</td><td>27.4945</td><td>0.0500</td><td>444.036175</td><td>b67b428a-14e3-4246-8d86-48ceec873e8b</td><td>2008-06-01T00:00:00Z</td></tr><tr><td>71783</td><td>110745</td><td>4</td><td>716</td><td>29.9940</td><td>0.0000</td><td>119.976000</td><td>00c305b1-2d9c-488c-ae9d-983dcda1df06</td><td>2008-06-01T00:00:00Z</td></tr><tr><td>71783</td><td>110746</td><td>1</td><td>875</td><td>5.3940</td><td>0.0000</td><td>5.394000</td><td>115cb3de-68bf-433c-934f-bf6ead607011</td><td>2008-06-01T00:00:00Z</td></tr><tr><td>71783</td><td>110747</td><td>10</td><td>865</td><td>38.1000</td><td>0.0000</td><td>381.000000</td><td>9d1dfc31-93d5-463a-b188-6de1a93a79b1</td><td>2008-06-01T00:00:00Z</td></tr><tr><td>71783</td><td>110748</td><td>11</td><td>712</td><td>5.2142</td><td>0.0200</td><td>56.209076</td><td>4dc0622c-e097-4b89-8466-148fcd95e6fb</td><td>2008-06-01T00:00:00Z</td></tr><tr><td>71783</td><td>110749</td><td>15</td><td>711</td><td>19.2445</td><td>0.0500</td><td>274.234125</td><td>e671d916-17c3-4dd1-b086-2b08b84877e2</td><td>2008-06-01T00:00:00Z</td></tr><tr><td>71783</td><td>110750</td><td>2</td><td>876</td><td>72.0000</td><td>0.0000</td><td>144.000000</td><td>65412ada-b387-4edf-b099-697ccf1f6cf7</td><td>2008-06-01T00:00:00Z</td></tr><tr><td>71783</td><td>110751</td><td>10</td><td>707</td><td>20.9940</td><td>0.0000</td><td>209.940000</td><td>d29b2630-1485-4fde-8a3f-7c677a3cc567</td><td>2008-06-01T00:00:00Z</td></tr><tr><td>71783</td><td>110752</td><td>11</td><td>708</td><td>20.2942</td><td>0.0200</td><td>218.771476</td><td>71f6fbbf-3b29-4f55-abd3-3577d6786501</td><td>2008-06-01T00:00:00Z</td></tr><tr><td>71784</td><td>110753</td><td>2</td><td>711</td><td>20.9940</td><td>0.0000</td><td>41.988000</td><td>d673a683-66c1-41d9-9c18-0f358e135ab7</td><td>2008-06-01T00:00:00Z</td></tr><tr><td>71784</td><td>110754</td><td>8</td><td>885</td><td>602.3460</td><td>0.0000</td><td>4818.768000</td><td>701cac38-5268-4ee9-a66f-ba5e0f578743</td><td>2008-06-01T00:00:00Z</td></tr><tr><td>71784</td><td>110755</td><td>2</td><td>954</td><td>1430.4420</td><td>0.0000</td><td>2860.884000</td><td>0f40ef26-3a85-46a8-bbb2-a9b063aa43dd</td><td>2008-06-01T00:00:00Z</td></tr><tr><td>71784</td><td>110756</td><td>11</td><td>870</td><td>2.8942</td><td>0.0200</td><td>31.199476</td><td>1e115c68-5af1-41d7-86c2-66f881153c6e</td><td>2008-06-01T00:00:00Z</td></tr><tr><td>71784</td><td>110757</td><td>8</td><td>865</td><td>38.1000</td><td>0.0000</td><td>304.800000</td><td>cc0c8be2-787b-4c97-a568-02facc05d55b</td><td>2008-06-01T00:00:00Z</td></tr><tr><td>71784</td><td>110758</td><td>4</td><td>970</td><td>728.9100</td><td>0.0000</td><td>2915.640000</td><td>3b529926-7ae8-4805-bc73-7ba460e5f1ab</td><td>2008-06-01T00:00:00Z</td></tr><tr><td>71784</td><td>110759</td><td>1</td><td>959</td><td>445.4100</td><td>0.0000</td><td>445.410000</td><td>d86eb183-494b-4be4-889d-e14a16c29c9d</td><td>2008-06-01T00:00:00Z</td></tr><tr><td>71784</td><td>110760</td><td>9</td><td>714</td><td>29.9940</td><td>0.0000</td><td>269.946000</td><td>847f0227-ded8-4717-8f6f-ddaeacdd7ca0</td><td>2008-06-01T00:00:00Z</td></tr><tr><td>71784</td><td>110761</td><td>10</td><td>712</td><td>5.3940</td><td>0.0000</td><td>53.940000</td><td>85648cf9-a6e2-4ddc-ab71-d77d8ca27a12</td><td>2008-06-01T00:00:00Z</td></tr><tr><td>71784</td><td>110762</td><td>4</td><td>972</td><td>728.9100</td><td>0.0000</td><td>2915.640000</td><td>25e7c0f0-daea-4761-89fc-9b65caa00648</td><td>2008-06-01T00:00:00Z</td></tr><tr><td>71784</td><td>110763</td><td>8</td><td>877</td><td>4.7700</td><td>0.0000</td><td>38.160000</td><td>5995a5a1-56fe-486a-8ac3-a96630355f1d</td><td>2008-06-01T00:00:00Z</td></tr><tr><td>71784</td><td>110764</td><td>5</td><td>716</td><td>29.9940</td><td>0.0000</td><td>149.970000</td><td>2258c121-5aba-4d57-a8de-56a6493f4547</td><td>2008-06-01T00:00:00Z</td></tr><tr><td>71784</td><td>110765</td><td>11</td><td>965</td><td>430.5630</td><td>0.0200</td><td>4641.469140</td><td>4c8645bc-6da7-465a-a1b8-9795c30920e5</td><td>2008-06-01T00:00:00Z</td></tr><tr><td>71784</td><td>110766</td><td>6</td><td>958</td><td>445.4100</td><td>0.0000</td><td>2672.460000</td><td>7fc16257-7d13-4b56-bcdf-8406522e5ae4</td><td>2008-06-01T00:00:00Z</td></tr><tr><td>71784</td><td>110767</td><td>6</td><td>876</td><td>72.0000</td><td>0.0000</td><td>432.000000</td><td>b488c4c2-e995-4314-bd7f-fbeace20383e</td><td>2008-06-01T00:00:00Z</td></tr><tr><td>71784</td><td>110768</td><td>2</td><td>899</td><td>200.0520</td><td>0.0000</td><td>400.104000</td><td>851a9448-2136-49cd-be6a-1e3cf23ef28a</td><td>2008-06-01T00:00:00Z</td></tr><tr><td>71784</td><td>110769</td><td>6</td><td>858</td><td>14.6940</td><td>0.0000</td><td>88.164000</td><td>9bf2d259-bf1e-4f41-9f37-f56a78e26a19</td><td>2008-06-01T00:00:00Z</td></tr><tr><td>71784</td><td>110770</td><td>4</td><td>889</td><td>602.3460</td><td>0.0000</td><td>2409.384000</td><td>9bb4b933-991f-4f9c-9bed-948c8023e1fb</td><td>2008-06-01T00:00:00Z</td></tr><tr><td>71784</td><td>110771</td><td>7</td><td>962</td><td>445.4100</td><td>0.0000</td><td>3117.870000</td><td>99d641dd-76d5-4334-9e55-99ff78125a94</td><td>2008-06-01T00:00:00Z</td></tr><tr><td>71784</td><td>110772</td><td>2</td><td>895</td><td>200.0520</td><td>0.0000</td><td>400.104000</td><td>61efc1c5-71ce-4537-9ede-723dd776a042</td><td>2008-06-01T00:00:00Z</td></tr><tr><td>71784</td><td>110773</td><td>12</td><td>957</td><td>1382.7606</td><td>0.0200</td><td>16261.264656</td><td>2608abcf-0d68-4adc-9f2f-45b931b3417d</td><td>2008-06-01T00:00:00Z</td></tr><tr><td>71784</td><td>110774</td><td>8</td><td>979</td><td>445.4100</td><td>0.0000</td><td>3563.280000</td><td>3b2dd1d1-ca84-40b0-9ee2-e8d97242760b</td><td>2008-06-01T00:00:00Z</td></tr><tr><td>71784</td><td>110775</td><td>3</td><td>961</td><td>445.4100</td><td>0.0000</td><td>1336.230000</td><td>4cfcd54c-299d-491c-acaa-86f2c2dd98ef</td><td>2008-06-01T00:00:00Z</td></tr><tr><td>71784</td><td>110776</td><td>5</td><td>963</td><td>445.4100</td><td>0.0000</td><td>2227.050000</td><td>16fd8cce-6d5d-4642-9d56-56d146310752</td><td>2008-06-01T00:00:00Z</td></tr><tr><td>71784</td><td>110777</td><td>3</td><td>953</td><td>728.9100</td><td>0.0000</td><td>2186.730000</td><td>5645b1ba-251a-4515-aa9a-6e9e86eea4e7</td><td>2008-06-01T00:00:00Z</td></tr><tr><td>71784</td><td>110778</td><td>4</td><td>966</td><td>1430.4420</td><td>0.0000</td><td>5721.768000</td><td>e09d1eb7-627d-43ed-97aa-96be7fad32c3</td><td>2008-06-01T00:00:00Z</td></tr><tr><td>71784</td><td>110779</td><td>6</td><td>967</td><td>1430.4420</td><td>0.0000</td><td>8582.652000</td><td>0c2a84e5-a1e1-4a00-993f-19b4819afbe0</td><td>2008-06-01T00:00:00Z</td></tr><tr><td>71784</td><td>110780</td><td>10</td><td>969</td><td>1430.4420</td><td>0.0000</td><td>14304.420000</td><td>a8ef0789-b2da-411f-b777-da449389d319</td><td>2008-06-01T00:00:00Z</td></tr><tr><td>71784</td><td>110781</td><td>2</td><td>955</td><td>1430.4420</td><td>0.0000</td><td>2860.884000</td><td>e8902b25-0c11-48f1-ba14-3a18072ae4df</td><td>2008-06-01T00:00:00Z</td></tr><tr><td>71784</td><td>110782</td><td>2</td><td>916</td><td>31.5840</td><td>0.0000</td><td>63.168000</td><td>deefdf0c-fa8e-40ce-ab16-41f51b043796</td><td>2008-06-01T00:00:00Z</td></tr><tr><td>71784</td><td>110783</td><td>3</td><td>896</td><td>200.0520</td><td>0.0000</td><td>600.156000</td><td>ec43c98a-6838-4941-a503-3504b14fbe6b</td><td>2008-06-01T00:00:00Z</td></tr><tr><td>71784</td><td>110784</td><td>1</td><td>900</td><td>200.0520</td><td>0.0000</td><td>200.052000</td><td>3dbf3836-b3a9-48ba-8241-61dea20de368</td><td>2008-06-01T00:00:00Z</td></tr><tr><td>71784</td><td>110785</td><td>1</td><td>893</td><td>602.3460</td><td>0.0000</td><td>602.346000</td><td>061c861d-cada-4884-a224-4de4c00e97e5</td><td>2008-06-01T00:00:00Z</td></tr><tr><td>71784</td><td>110786</td><td>8</td><td>715</td><td>29.9940</td><td>0.0000</td><td>239.952000</td><td>937fc41c-a818-473d-88b4-d5fc930230f1</td><td>2008-06-01T00:00:00Z</td></tr><tr><td>71784</td><td>110787</td><td>6</td><td>881</td><td>32.3940</td><td>0.0000</td><td>194.364000</td><td>281d1c72-ec9a-4e76-93b8-f83217a26a2e</td><td>2008-06-01T00:00:00Z</td></tr><tr><td>71784</td><td>110788</td><td>7</td><td>883</td><td>32.3940</td><td>0.0000</td><td>226.758000</td><td>b7b5995f-02c9-473b-bbb5-1189f87832dc</td><td>2008-06-01T00:00:00Z</td></tr><tr><td>71784</td><td>110789</td><td>3</td><td>884</td><td>32.3940</td><td>0.0000</td><td>97.182000</td><td>0437f448-edf0-48ed-8a88-0743e136d2da</td><td>2008-06-01T00:00:00Z</td></tr><tr><td>71784</td><td>110790</td><td>5</td><td>859</td><td>14.6940</td><td>0.0000</td><td>73.470000</td><td>c466499e-5284-4b18-9e65-6c3628788963</td><td>2008-06-01T00:00:00Z</td></tr><tr><td>71784</td><td>110791</td><td>23</td><td>864</td><td>34.9250</td><td>0.0500</td><td>763.111250</td><td>edb4ed91-8e46-4e5e-9195-e476b7d2ad67</td><td>2008-06-01T00:00:00Z</td></tr><tr><td>71784</td><td>110792</td><td>9</td><td>880</td><td>32.9940</td><td>0.0000</td><td>296.946000</td><td>75f2181f-ad5c-4dc4-a52f-66cd7cac3f7b</td><td>2008-06-01T00:00:00Z</td></tr><tr><td>71784</td><td>110793</td><td>8</td><td>873</td><td>1.3740</td><td>0.0000</td><td>10.992000</td><td>2b64ca83-b2fb-4ae5-a9ec-9ea1637317db</td><td>2008-06-01T00:00:00Z</td></tr><tr><td>71784</td><td>110794</td><td>10</td><td>707</td><td>20.9940</td><td>0.0000</td><td>209.940000</td><td>b86d13fa-2545-4e15-9ab5-1162c1374a6c</td><td>2008-06-01T00:00:00Z</td></tr><tr><td>71784</td><td>110795</td><td>12</td><td>708</td><td>20.2942</td><td>0.0200</td><td>238.659792</td><td>21cbcfa9-6e2e-408f-aa28-ccc84fd4c60e</td><td>2008-06-01T00:00:00Z</td></tr><tr><td>71796</td><td>111018</td><td>1</td><td>891</td><td>602.3460</td><td>0.0000</td><td>602.346000</td><td>dd91e489-43b3-45c6-a4ea-e4d2e650019e</td><td>2008-06-01T00:00:00Z</td></tr><tr><td>71796</td><td>111019</td><td>8</td><td>972</td><td>728.9100</td><td>0.0000</td><td>5831.280000</td><td>46260489-ce09-41d8-ace1-916e300d83c7</td><td>2008-06-01T00:00:00Z</td></tr><tr><td>71796</td><td>111020</td><td>2</td><td>953</td><td>728.9100</td><td>0.0000</td><td>1457.820000</td><td>c163c562-3ed8-41e3-aa66-2a78c3a7bfd0</td><td>2008-06-01T00:00:00Z</td></tr><tr><td>71796</td><td>111021</td><td>1</td><td>916</td><td>31.5840</td><td>0.0000</td><td>31.584000</td><td>18849a7f-ab84-4f0d-9345-a437ad535053</td><td>2008-06-01T00:00:00Z</td></tr><tr><td>71796</td><td>111022</td><td>5</td><td>958</td><td>445.4100</td><td>0.0000</td><td>2227.050000</td><td>13186b9f-42fc-487c-90fd-4ea96d113233</td><td>2008-06-01T00:00:00Z</td></tr><tr><td>71796</td><td>111023</td><td>3</td><td>957</td><td>1430.4420</td><td>0.0000</td><td>4291.326000</td><td>2df66e6b-21e5-43b4-a91c-57ffd3033e18</td><td>2008-06-01T00:00:00Z</td></tr><tr><td>71796</td><td>111024</td><td>9</td><td>969</td><td>1430.4420</td><td>0.0000</td><td>12873.978000</td><td>24d90386-e9b3-40c4-8d04-ef0e2acd30bb</td><td>2008-06-01T00:00:00Z</td></tr><tr><td>71796</td><td>111025</td><td>2</td><td>967</td><td>1430.4420</td><td>0.0000</td><td>2860.884000</td><td>73ff8746-1fa6-425a-99f0-3c76ed213701</td><td>2008-06-01T00:00:00Z</td></tr><tr><td>71796</td><td>111026</td><td>3</td><td>979</td><td>445.4100</td><td>0.0000</td><td>1336.230000</td><td>a96adf3d-3f0e-439f-ad3c-23846c5f51ec</td><td>2008-06-01T00:00:00Z</td></tr><tr><td>71796</td><td>111027</td><td>7</td><td>961</td><td>445.4100</td><td>0.0000</td><td>3117.870000</td><td>32cbb9f9-6747-4b46-89c7-176928a7b742</td><td>2008-06-01T00:00:00Z</td></tr><tr><td>71796</td><td>111028</td><td>2</td><td>965</td><td>445.4100</td><td>0.0000</td><td>890.820000</td><td>4b67900d-8a1a-40d8-b654-73cfa183ac2e</td><td>2008-06-01T00:00:00Z</td></tr><tr><td>71796</td><td>111029</td><td>1</td><td>970</td><td>728.9100</td><td>0.0000</td><td>728.910000</td><td>b94d54d5-1146-43f1-baaa-fd556194977c</td><td>2008-06-01T00:00:00Z</td></tr><tr><td>71796</td><td>111030</td><td>3</td><td>954</td><td>1430.4420</td><td>0.0000</td><td>4291.326000</td><td>c5592d27-d2a7-4687-9d43-f2f034da8e72</td><td>2008-06-01T00:00:00Z</td></tr><tr><td>71796</td><td>111031</td><td>1</td><td>955</td><td>1430.4420</td><td>0.0000</td><td>1430.442000</td><td>9fc48164-06e3-47e3-8455-19f316c3014e</td><td>2008-06-01T00:00:00Z</td></tr><tr><td>71796</td><td>111032</td><td>1</td><td>947</td><td>54.9420</td><td>0.0000</td><td>54.942000</td><td>fdedab25-d27e-4d66-bb57-6a699846c3e9</td><td>2008-06-01T00:00:00Z</td></tr><tr><td>71796</td><td>111033</td><td>1</td><td>899</td><td>200.0520</td><td>0.0000</td><td>200.052000</td><td>77b7e9b6-142a-4216-8c71-f839990f536a</td><td>2008-06-01T00:00:00Z</td></tr><tr><td>71796</td><td>111034</td><td>1</td><td>900</td><td>200.0520</td><td>0.0000</td><td>200.052000</td><td>c54d207b-7ec9-4ea5-b0a7-c37c1d759b03</td><td>2008-06-01T00:00:00Z</td></tr><tr><td>71796</td><td>111035</td><td>6</td><td>892</td><td>602.3460</td><td>0.0000</td><td>3614.076000</td><td>a586daf2-66e3-4eff-93ce-a869c4ec6c51</td><td>2008-06-01T00:00:00Z</td></tr><tr><td>71796</td><td>111036</td><td>1</td><td>893</td><td>602.3460</td><td>0.0000</td><td>602.346000</td><td>afdfded7-2118-465c-8bb2-10a322dc37c2</td><td>2008-06-01T00:00:00Z</td></tr><tr><td>71796</td><td>111037</td><td>2</td><td>885</td><td>602.3460</td><td>0.0000</td><td>1204.692000</td><td>50cafdbf-f978-4791-b376-386c2c22fa0c</td><td>2008-06-01T00:00:00Z</td></tr><tr><td>71797</td><td>111038</td><td>4</td><td>711</td><td>20.9940</td><td>0.0000</td><td>83.976000</td><td>9cfabd92-779c-4893-9dd1-652291e0cd71</td><td>2008-06-01T00:00:00Z</td></tr><tr><td>71797</td><td>111039</td><td>2</td><td>838</td><td>858.9000</td><td>0.0000</td><td>1717.800000</td><td>37ab902a-d1a1-421a-8af0-89d144b28efd</td><td>2008-06-01T00:00:00Z</td></tr><tr><td>71797</td><td>111040</td><td>1</td><td>714</td><td>29.9940</td><td>0.0000</td><td>29.994000</td><td>4c9f3c90-9122-42a6-b423-a3f927d39235</td><td>2008-06-01T00:00:00Z</td></tr><tr><td>71797</td><td>111041</td><td>4</td><td>940</td><td>48.5940</td><td>0.0000</td><td>194.376000</td><td>a0fcd9d2-e73d-4385-8711-f828c4dfcf41</td><td>2008-06-01T00:00:00Z</td></tr><tr><td>71797</td><td>111042</td><td>16</td><td>883</td><td>29.6945</td><td>0.0500</td><td>451.356400</td><td>143b1db9-9435-4eae-bc04-af7b1a1c273c</td><td>2008-06-01T00:00:00Z</td></tr><tr><td>71797</td><td>111043</td><td>2</td><td>913</td><td>31.5840</td><td>0.0000</td><td>63.168000</td><td>11baec31-14ff-4009-b096-228a6687b44e</td><td>2008-06-01T00:00:00Z</td></tr><tr><td>71797</td><td>111044</td><td>1</td><td>738</td><td>202.3320</td><td>0.0000</td><td>202.332000</td><td>dd6121fb-30e7-47ff-af1c-61b8dc690f10</td><td>2008-06-01T00:00:00Z</td></tr><tr><td>71797</td><td>111045</td><td>3</td><td>722</td><td>202.3320</td><td>0.0000</td><td>606.996000</td><td>aab11dce-3367-40c1-885c-cb7e72cdfdb9</td><td>2008-06-01T00:00:00Z</td></tr><tr><td>71797</td><td>111046</td><td>5</td><td>835</td><td>356.8980</td><td>0.0000</td><td>1784.490000</td><td>db72c511-bd31-4e2a-b65a-6dec0aad6aef</td><td>2008-06-01T00:00:00Z</td></tr><tr><td>71797</td><td>111047</td><td>1</td><td>718</td><td>858.9000</td><td>0.0000</td><td>858.900000</td><td>093129d0-66c4-44e6-af23-45f0fbf0f1a4</td><td>2008-06-01T00:00:00Z</td></tr><tr><td>71797</td><td>111048</td><td>4</td><td>715</td><td>29.9940</td><td>0.0000</td><td>119.976000</td><td>14c471c4-b9d4-41a4-a7ad-bf3e339630ad</td><td>2008-06-01T00:00:00Z</td></tr><tr><td>71797</td><td>111049</td><td>5</td><td>716</td><td>29.9940</td><td>0.0000</td><td>149.970000</td><td>66fa5c4e-c414-46db-b1e4-f29c56817d59</td><td>2008-06-01T00:00:00Z</td></tr><tr><td>71797</td><td>111050</td><td>15</td><td>884</td><td>29.6945</td><td>0.0500</td><td>423.146625</td><td>59634b96-5836-4e10-999a-4ecf310b3b16</td><td>2008-06-01T00:00:00Z</td></tr><tr><td>71797</td><td>111051</td><td>3</td><td>875</td><td>5.3940</td><td>0.0000</td><td>16.182000</td><td>37f87a70-ad19-4eed-b396-d1354ae8c08e</td><td>2008-06-01T00:00:00Z</td></tr><tr><td>71797</td><td>111052</td><td>4</td><td>860</td><td>14.6940</td><td>0.0000</td><td>58.776000</td><td>c197d7fc-0cda-4544-9556-0d890655e4f5</td><td>2008-06-01T00:00:00Z</td></tr><tr><td>71797</td><td>111053</td><td>6</td><td>712</td><td>5.3940</td><td>0.0000</td><td>32.364000</td><td>665b21ee-2695-4156-8375-24fdf16bad40</td><td>2008-06-01T00:00:00Z</td></tr><tr><td>71797</td><td>111054</td><td>10</td><td>880</td><td>32.9940</td><td>0.0000</td><td>329.940000</td><td>0992f82c-b35c-4eb3-b1e2-9c1884a48510</td><td>2008-06-01T00:00:00Z</td></tr><tr><td>71797</td><td>111055</td><td>6</td><td>873</td><td>1.3740</td><td>0.0000</td><td>8.244000</td><td>2324b995-dbf2-4792-b55d-5353428729d3</td><td>2008-06-01T00:00:00Z</td></tr><tr><td>71797</td><td>111056</td><td>10</td><td>876</td><td>72.0000</td><td>0.0000</td><td>720.000000</td><td>ed545dab-6bf4-4564-b2dd-2d31eb0ca083</td><td>2008-06-01T00:00:00Z</td></tr><tr><td>71797</td><td>111057</td><td>7</td><td>977</td><td>323.9940</td><td>0.0000</td><td>2267.958000</td><td>0c938fed-3c16-450d-8937-3b039c9ddbd3</td><td>2008-06-01T00:00:00Z</td></tr><tr><td>71797</td><td>111058</td><td>2</td><td>798</td><td>672.2940</td><td>0.0000</td><td>1344.588000</td><td>663dd90e-0941-419b-8493-6bb3e829f803</td><td>2008-06-01T00:00:00Z</td></tr><tr><td>71797</td><td>111059</td><td>2</td><td>813</td><td>72.1620</td><td>0.0000</td><td>144.324000</td><td>7ec7b3b1-62ea-4c3f-a287-6514be816d33</td><td>2008-06-01T00:00:00Z</td></tr><tr><td>71797</td><td>111060</td><td>4</td><td>939</td><td>37.2540</td><td>0.0000</td><td>149.016000</td><td>169f98ef-1ac7-4487-bc92-c801afcf0247</td><td>2008-06-01T00:00:00Z</td></tr><tr><td>71797</td><td>111061</td><td>2</td><td>801</td><td>672.2940</td><td>0.0000</td><td>1344.588000</td><td>137ea529-e91d-404d-a2d4-5edd73467162</td><td>2008-06-01T00:00:00Z</td></tr><tr><td>71797</td><td>111062</td><td>6</td><td>998</td><td>323.9940</td><td>0.0000</td><td>1943.964000</td><td>7bbd426b-5571-43ac-a63b-11b9801d83b5</td><td>2008-06-01T00:00:00Z</td></tr><tr><td>71797</td><td>111063</td><td>4</td><td>999</td><td>323.9940</td><td>0.0000</td><td>1295.976000</td><td>da0727fc-962e-4444-a568-42279de31654</td><td>2008-06-01T00:00:00Z</td></tr><tr><td>71797</td><td>111064</td><td>3</td><td>938</td><td>24.2940</td><td>0.0000</td><td>72.882000</td><td>6bdf723f-e816-45ad-9285-5ed8e6504630</td><td>2008-06-01T00:00:00Z</td></tr><tr><td>71797</td><td>111065</td><td>5</td><td>794</td><td>1466.0100</td><td>0.0000</td><td>7330.050000</td><td>1359b966-f7f4-4d6c-ae6b-99b5896b49b5</td><td>2008-06-01T00:00:00Z</td></tr><tr><td>71797</td><td>111066</td><td>2</td><td>795</td><td>1466.0100</td><td>0.0000</td><td>2932.020000</td><td>45f214a2-543b-4211-95b1-7d2360f217b3</td><td>2008-06-01T00:00:00Z</td></tr><tr><td>71797</td><td>111067</td><td>10</td><td>797</td><td>672.2940</td><td>0.0000</td><td>6722.940000</td><td>5002f031-d85d-42bf-81b0-a7784b9a66cb</td><td>2008-06-01T00:00:00Z</td></tr><tr><td>71797</td><td>111068</td><td>8</td><td>881</td><td>32.3940</td><td>0.0000</td><td>259.152000</td><td>838712d7-960e-40d1-a9b7-a03a3bbd8df0</td><td>2008-06-01T00:00:00Z</td></tr><tr><td>71797</td><td>111069</td><td>1</td><td>865</td><td>38.1000</td><td>0.0000</td><td>38.100000</td><td>68ff53c6-989f-4278-9d34-929348d02b54</td><td>2008-06-01T00:00:00Z</td></tr><tr><td>71797</td><td>111070</td><td>23</td><td>864</td><td>34.9250</td><td>0.0500</td><td>763.111250</td><td>ffe708c1-233c-40b2-8b8e-bc3ce6eea5af</td><td>2008-06-01T00:00:00Z</td></tr><tr><td>71797</td><td>111071</td><td>9</td><td>976</td><td>1020.5940</td><td>0.0000</td><td>9185.346000</td><td>a671b89d-bf3b-4454-b0d7-bbbd2b92af1b</td><td>2008-06-01T00:00:00Z</td></tr><tr><td>71797</td><td>111072</td><td>17</td><td>877</td><td>4.3725</td><td>0.0500</td><td>70.615875</td><td>923b946a-58b9-4bcd-b8ed-f4ac3e043ea5</td><td>2008-06-01T00:00:00Z</td></tr><tr><td>71797</td><td>111073</td><td>6</td><td>793</td><td>1466.0100</td><td>0.0000</td><td>8796.060000</td><td>74f064e2-d628-404b-9661-15623d272b00</td><td>2008-06-01T00:00:00Z</td></tr><tr><td>71797</td><td>111074</td><td>3</td><td>974</td><td>1020.5940</td><td>0.0000</td><td>3061.782000</td><td>fc7535c2-ac75-4926-9422-265bbb1c21b0</td><td>2008-06-01T00:00:00Z</td></tr><tr><td>71797</td><td>111075</td><td>6</td><td>707</td><td>20.9940</td><td>0.0000</td><td>125.964000</td><td>5890dfc7-792b-4562-8844-ec930524778d</td><td>2008-06-01T00:00:00Z</td></tr><tr><td>71797</td><td>111076</td><td>9</td><td>859</td><td>14.6940</td><td>0.0000</td><td>132.246000</td><td>43968865-c807-4590-ab6d-7207504e81f0</td><td>2008-06-01T00:00:00Z</td></tr><tr><td>71797</td><td>111077</td><td>5</td><td>973</td><td>1020.5940</td><td>0.0000</td><td>5102.970000</td><td>2a9a17d3-50b5-45b2-bb62-2cf686b8c523</td><td>2008-06-01T00:00:00Z</td></tr><tr><td>71797</td><td>111078</td><td>11</td><td>870</td><td>2.8942</td><td>0.0200</td><td>31.199476</td><td>e35d5ac3-be8e-4f38-aa41-55dfc2ffe751</td><td>2008-06-01T00:00:00Z</td></tr><tr><td>71797</td><td>111079</td><td>2</td><td>717</td><td>858.9000</td><td>0.0000</td><td>1717.800000</td><td>3b938f0d-7a0f-4209-a324-371e85af3222</td><td>2008-06-01T00:00:00Z</td></tr><tr><td>71797</td><td>111080</td><td>4</td><td>858</td><td>14.6940</td><td>0.0000</td><td>58.776000</td><td>fed97e43-a1ce-4aec-8c2e-14cf69aefcb8</td><td>2008-06-01T00:00:00Z</td></tr><tr><td>71797</td><td>111081</td><td>4</td><td>836</td><td>356.8980</td><td>0.0000</td><td>1427.592000</td><td>2cb6ffb5-8f2c-46e2-a363-d108facaa14d</td><td>2008-06-01T00:00:00Z</td></tr><tr><td>71797</td><td>111082</td><td>12</td><td>708</td><td>20.2942</td><td>0.0200</td><td>238.659792</td><td>d04d7cf4-e057-42bb-9632-bbb00bb2414e</td><td>2008-06-01T00:00:00Z</td></tr><tr><td>71797</td><td>111083</td><td>2</td><td>822</td><td>356.8980</td><td>0.0000</td><td>713.796000</td><td>cbe01f20-ca7e-4c94-83fc-260fc350ea2d</td><td>2008-06-01T00:00:00Z</td></tr><tr><td>71815</td><td>111451</td><td>1</td><td>738</td><td>202.3320</td><td>0.0000</td><td>202.332000</td><td>810e5535-2bdb-4d83-b26d-796e5cff1a1b</td><td>2008-06-01T00:00:00Z</td></tr><tr><td>71815</td><td>111452</td><td>2</td><td>835</td><td>356.8980</td><td>0.0000</td><td>713.796000</td><td>daeb0cfa-807c-46ac-8458-ffccef36b5b2</td><td>2008-06-01T00:00:00Z</td></tr><tr><td>71815</td><td>111453</td><td>2</td><td>874</td><td>5.3940</td><td>0.0000</td><td>10.788000</td><td>09f90eb4-24de-4812-825e-45520602b437</td><td>2008-06-01T00:00:00Z</td></tr><tr><td>71816</td><td>111454</td><td>1</td><td>953</td><td>728.9100</td><td>0.0000</td><td>728.910000</td><td>b8a9720f-1f6f-4fe1-ad4a-ac70d4c905bd</td><td>2008-06-01T00:00:00Z</td></tr><tr><td>71816</td><td>111455</td><td>1</td><td>954</td><td>1430.4420</td><td>0.0000</td><td>1430.442000</td><td>edc86c40-ecbd-45af-912b-ae37d177821a</td><td>2008-06-01T00:00:00Z</td></tr><tr><td>71816</td><td>111456</td><td>2</td><td>715</td><td>29.9940</td><td>0.0000</td><td>59.988000</td><td>9f7406e4-25c9-431a-9891-f419e3f5253d</td><td>2008-06-01T00:00:00Z</td></tr><tr><td>71816</td><td>111457</td><td>4</td><td>712</td><td>5.3940</td><td>0.0000</td><td>21.576000</td><td>ee2ce69c-24eb-47ff-ab6c-bd5aabdcd6e9</td><td>2008-06-01T00:00:00Z</td></tr><tr><td>71816</td><td>111458</td><td>3</td><td>883</td><td>32.3940</td><td>0.0000</td><td>97.182000</td><td>affbb13e-55a8-4fa8-9cd7-809b1816c30d</td><td>2008-06-01T00:00:00Z</td></tr><tr><td>71816</td><td>111459</td><td>1</td><td>961</td><td>445.4100</td><td>0.0000</td><td>445.410000</td><td>b4e5503b-0fd8-4f2f-8675-e899db180280</td><td>2008-06-01T00:00:00Z</td></tr><tr><td>71816</td><td>111460</td><td>1</td><td>948</td><td>63.9000</td><td>0.0000</td><td>63.900000</td><td>5f4f0aa9-acc6-4ef7-ab68-17d0748a5512</td><td>2008-06-01T00:00:00Z</td></tr><tr><td>71831</td><td>111790</td><td>2</td><td>869</td><td>41.9940</td><td>0.0000</td><td>83.988000</td><td>73bc96fd-863b-441c-aeea-25387c2d17ac</td><td>2008-06-01T00:00:00Z</td></tr><tr><td>71831</td><td>111791</td><td>1</td><td>782</td><td>1376.9940</td><td>0.0000</td><td>1376.994000</td><td>a5f59647-47b7-48fc-9000-0830e623981a</td><td>2008-06-01T00:00:00Z</td></tr><tr><td>71831</td><td>111792</td><td>6</td><td>867</td><td>41.9940</td><td>0.0000</td><td>251.964000</td><td>14f64fdc-4405-47b4-965c-b4f506515e8a</td><td>2008-06-01T00:00:00Z</td></tr><tr><td>71832</td><td>111793</td><td>4</td><td>918</td><td>158.4300</td><td>0.0000</td><td>633.720000</td><td>e3fec901-9b4a-4873-8c34-74ae8600eb07</td><td>2008-06-01T00:00:00Z</td></tr><tr><td>71832</td><td>111794</td><td>3</td><td>983</td><td>461.6940</td><td>0.0000</td><td>1385.082000</td><td>039e1c26-d1e9-43ec-a2a9-fb0b73f1872d</td><td>2008-06-01T00:00:00Z</td></tr><tr><td>71832</td><td>111795</td><td>2</td><td>781</td><td>1391.9940</td><td>0.0000</td><td>2783.988000</td><td>2d9a186f-1f0e-40f1-8fa2-d459a04fbf83</td><td>2008-06-01T00:00:00Z</td></tr><tr><td>71832</td><td>111796</td><td>1</td><td>868</td><td>41.9940</td><td>0.0000</td><td>41.994000</td><td>68b0a471-b668-415a-8116-b285b4936395</td><td>2008-06-01T00:00:00Z</td></tr><tr><td>71832</td><td>111797</td><td>1</td><td>810</td><td>72.1620</td><td>0.0000</td><td>72.162000</td><td>e9bd1406-7ee1-4fd3-bb28-6f4b24d76218</td><td>2008-06-01T00:00:00Z</td></tr><tr><td>71832</td><td>111798</td><td>1</td><td>980</td><td>461.6940</td><td>0.0000</td><td>461.694000</td><td>b68452c3-17c1-4e61-bc1e-5543de5a428b</td><td>2008-06-01T00:00:00Z</td></tr><tr><td>71832</td><td>111799</td><td>2</td><td>925</td><td>149.8740</td><td>0.0000</td><td>299.748000</td><td>69af7aad-e3fb-497c-873e-f6f352ce7754</td><td>2008-06-01T00:00:00Z</td></tr><tr><td>71832</td><td>111800</td><td>2</td><td>985</td><td>112.9980</td><td>0.4000</td><td>135.597600</td><td>577d49d5-55b8-4d81-ad28-2ec13757cbc2</td><td>2008-06-01T00:00:00Z</td></tr><tr><td>71832</td><td>111801</td><td>1</td><td>908</td><td>16.2720</td><td>0.0000</td><td>16.272000</td><td>cc96c2f6-041d-4a67-a9fb-97a3cac5852e</td><td>2008-06-01T00:00:00Z</td></tr><tr><td>71832</td><td>111802</td><td>13</td><td>867</td><td>40.5942</td><td>0.0200</td><td>517.170108</td><td>105f870d-f524-49cd-8f81-0ab5267abdbc</td><td>2008-06-01T00:00:00Z</td></tr><tr><td>71832</td><td>111803</td><td>3</td><td>782</td><td>1376.9940</td><td>0.0000</td><td>4130.982000</td><td>a0a904f3-0180-4d33-adaa-54feeb64d511</td><td>2008-06-01T00:00:00Z</td></tr><tr><td>71832</td><td>111804</td><td>1</td><td>937</td><td>48.5940</td><td>0.0000</td><td>48.594000</td><td>ffae3aa6-0642-40fd-a7d1-c1e34d2df97c</td><td>2008-06-01T00:00:00Z</td></tr><tr><td>71832</td><td>111805</td><td>1</td><td>936</td><td>37.2540</td><td>0.0000</td><td>37.254000</td><td>bc390cda-1143-4091-b9a4-52a6ffff0857</td><td>2008-06-01T00:00:00Z</td></tr><tr><td>71832</td><td>111806</td><td>4</td><td>743</td><td>809.7600</td><td>0.0000</td><td>3239.040000</td><td>0db92279-d76a-4868-9a47-856ec58093ab</td><td>2008-06-01T00:00:00Z</td></tr><tr><td>71832</td><td>111807</td><td>5</td><td>904</td><td>218.4540</td><td>0.0000</td><td>1092.270000</td><td>ecb3f9c5-98fe-412b-a24a-a8eabe5dfb0d</td><td>2008-06-01T00:00:00Z</td></tr><tr><td>71832</td><td>111808</td><td>1</td><td>748</td><td>818.7000</td><td>0.0000</td><td>818.700000</td><td>1841e141-8fcb-42ea-9f66-c4e1264fa470</td><td>2008-06-01T00:00:00Z</td></tr><tr><td>71832</td><td>111809</td><td>1</td><td>910</td><td>31.5840</td><td>0.0000</td><td>31.584000</td><td>db5d32d2-526d-4277-a303-5a78e328eaeb</td><td>2008-06-01T00:00:00Z</td></tr><tr><td>71832</td><td>111810</td><td>5</td><td>784</td><td>1376.9940</td><td>0.0000</td><td>6884.970000</td><td>93b73ee3-9095-4bce-b3b4-53fda99c86c8</td><td>2008-06-01T00:00:00Z</td></tr><tr><td>71832</td><td>111811</td><td>2</td><td>990</td><td>323.9940</td><td>0.0000</td><td>647.988000</td><td>77eee4d0-5fac-4b5e-8aa6-e25e32d831ec</td><td>2008-06-01T00:00:00Z</td></tr><tr><td>71832</td><td>111812</td><td>3</td><td>992</td><td>323.9940</td><td>0.0000</td><td>971.982000</td><td>2856eb25-5ae5-4795-ae0d-1c23c9d03dc5</td><td>2008-06-01T00:00:00Z</td></tr><tr><td>71832</td><td>111813</td><td>3</td><td>984</td><td>112.9980</td><td>0.4000</td><td>203.396400</td><td>f8d67ec8-224e-467d-b895-a784e5149611</td><td>2008-06-01T00:00:00Z</td></tr><tr><td>71832</td><td>111814</td><td>1</td><td>779</td><td>1391.9940</td><td>0.0000</td><td>1391.994000</td><td>a76f6c50-6117-4b58-be8e-6ebc0e39ecd1</td><td>2008-06-01T00:00:00Z</td></tr><tr><td>71832</td><td>111815</td><td>1</td><td>780</td><td>1391.9940</td><td>0.0000</td><td>1391.994000</td><td>478b4d27-07e7-4abe-8f61-a6d8cc51f56c</td><td>2008-06-01T00:00:00Z</td></tr><tr><td>71832</td><td>111816</td><td>2</td><td>944</td><td>158.4300</td><td>0.0000</td><td>316.860000</td><td>237090d9-66b6-462b-8fa4-6cc863438eac</td><td>2008-06-01T00:00:00Z</td></tr><tr><td>71832</td><td>111817</td><td>1</td><td>808</td><td>26.7240</td><td>0.0000</td><td>26.724000</td><td>591fb165-4cad-4174-9274-9c807515d84e</td><td>2008-06-01T00:00:00Z</td></tr><tr><td>71832</td><td>111818</td><td>1</td><td>809</td><td>37.1520</td><td>0.0000</td><td>37.152000</td><td>7249f4a6-663a-4470-9119-5ab1de2b9da8</td><td>2008-06-01T00:00:00Z</td></tr><tr><td>71832</td><td>111819</td><td>3</td><td>935</td><td>24.2940</td><td>0.0000</td><td>72.882000</td><td>40108ade-ff72-43cd-a59f-9304173ce49f</td><td>2008-06-01T00:00:00Z</td></tr><tr><td>71832</td><td>111820</td><td>1</td><td>926</td><td>149.8740</td><td>0.0000</td><td>149.874000</td><td>da725a68-7da4-4fe3-b9bd-a23f655ecec0</td><td>2008-06-01T00:00:00Z</td></tr><tr><td>71832</td><td>111821</td><td>6</td><td>917</td><td>158.4300</td><td>0.0000</td><td>950.580000</td><td>cfe87323-1bca-4443-b4e5-05177fd80e7d</td><td>2008-06-01T00:00:00Z</td></tr><tr><td>71832</td><td>111822</td><td>1</td><td>920</td><td>158.4300</td><td>0.0000</td><td>158.430000</td><td>dcf6c95d-a0e4-4272-bff8-6b06b7f9574f</td><td>2008-06-01T00:00:00Z</td></tr><tr><td>71845</td><td>112118</td><td>2</td><td>988</td><td>112.9980</td><td>0.4000</td><td>135.597600</td><td>6ab3b1f6-9144-4d4e-b13e-f531320e72a8</td><td>2008-06-01T00:00:00Z</td></tr><tr><td>71845</td><td>112119</td><td>2</td><td>948</td><td>63.9000</td><td>0.0000</td><td>127.800000</td><td>3a8cd181-cf26-46f3-ad02-d8889ecb8af4</td><td>2008-06-01T00:00:00Z</td></tr><tr><td>71845</td><td>112120</td><td>4</td><td>904</td><td>218.4540</td><td>0.0000</td><td>873.816000</td><td>97d364ac-d0ae-48dc-a823-ba5238ba066e</td><td>2008-06-01T00:00:00Z</td></tr><tr><td>71845</td><td>112121</td><td>3</td><td>742</td><td>818.7000</td><td>0.0000</td><td>2456.100000</td><td>e17b8e63-47d7-4804-98a0-6937e1954316</td><td>2008-06-01T00:00:00Z</td></tr><tr><td>71845</td><td>112122</td><td>2</td><td>780</td><td>1391.9940</td><td>0.0000</td><td>2783.988000</td><td>a5c1d20d-ec2b-417b-a366-722782c1540f</td><td>2008-06-01T00:00:00Z</td></tr><tr><td>71845</td><td>112123</td><td>1</td><td>945</td><td>54.8940</td><td>0.0000</td><td>54.894000</td><td>2a80c324-fdd4-4866-90ed-a023aa53c48c</td><td>2008-06-01T00:00:00Z</td></tr><tr><td>71845</td><td>112124</td><td>3</td><td>949</td><td>105.2940</td><td>0.0000</td><td>315.882000</td><td>a2c4eba1-132b-42ce-8916-b55ec13f343b</td><td>2008-06-01T00:00:00Z</td></tr><tr><td>71845</td><td>112125</td><td>2</td><td>937</td><td>48.5940</td><td>0.0000</td><td>97.188000</td><td>19e76f92-20cf-49d6-9d54-c699f9e48ff3</td><td>2008-06-01T00:00:00Z</td></tr><tr><td>71845</td><td>112126</td><td>2</td><td>867</td><td>41.9940</td><td>0.0000</td><td>83.988000</td><td>1a7ca6cf-03e6-4f90-ad08-f076f604b276</td><td>2008-06-01T00:00:00Z</td></tr><tr><td>71845</td><td>112127</td><td>1</td><td>748</td><td>818.7000</td><td>0.0000</td><td>818.700000</td><td>d57d58ee-fe30-404c-982a-577c3a2ea7f1</td><td>2008-06-01T00:00:00Z</td></tr><tr><td>71845</td><td>112128</td><td>2</td><td>905</td><td>218.4540</td><td>0.0000</td><td>436.908000</td><td>4ac896fa-31bf-46dc-9ded-56652060e36a</td><td>2008-06-01T00:00:00Z</td></tr><tr><td>71845</td><td>112129</td><td>2</td><td>781</td><td>1391.9940</td><td>0.0000</td><td>2783.988000</td><td>533d7438-e8be-4b48-aea9-7148179f1db8</td><td>2008-06-01T00:00:00Z</td></tr><tr><td>71845</td><td>112130</td><td>3</td><td>869</td><td>41.9940</td><td>0.0000</td><td>125.982000</td><td>69dc8ddc-05b1-48c8-ad7d-c9ce63db81a0</td><td>2008-06-01T00:00:00Z</td></tr><tr><td>71845</td><td>112131</td><td>5</td><td>783</td><td>1376.9940</td><td>0.0000</td><td>6884.970000</td><td>70180211-6c38-4bb5-9317-a5784a1410b2</td><td>2008-06-01T00:00:00Z</td></tr><tr><td>71845</td><td>112132</td><td>2</td><td>784</td><td>1376.9940</td><td>0.0000</td><td>2753.988000</td><td>a2674906-53b9-4fe6-bc74-10946e47f110</td><td>2008-06-01T00:00:00Z</td></tr><tr><td>71845</td><td>112133</td><td>1</td><td>951</td><td>242.9940</td><td>0.0000</td><td>242.994000</td><td>a1d9629f-cdbe-4122-bcd8-f3190d8bbf26</td><td>2008-06-01T00:00:00Z</td></tr><tr><td>71845</td><td>112134</td><td>3</td><td>747</td><td>809.7600</td><td>0.0000</td><td>2429.280000</td><td>a5b7a860-b0d0-4b1e-9a06-084fb278b0a6</td><td>2008-06-01T00:00:00Z</td></tr><tr><td>71845</td><td>112135</td><td>1</td><td>809</td><td>37.1520</td><td>0.0000</td><td>37.152000</td><td>cb494781-2ef4-4bda-8eff-27132eb102c4</td><td>2008-06-01T00:00:00Z</td></tr><tr><td>71845</td><td>112136</td><td>2</td><td>920</td><td>158.4300</td><td>0.0000</td><td>316.860000</td><td>08a04e11-cda0-4d3e-8675-514a0097cd65</td><td>2008-06-01T00:00:00Z</td></tr><tr><td>71845</td><td>112137</td><td>2</td><td>743</td><td>809.7600</td><td>0.0000</td><td>1619.520000</td><td>7ace9864-8050-4552-82d1-751c489b18ed</td><td>2008-06-01T00:00:00Z</td></tr><tr><td>71845</td><td>112138</td><td>2</td><td>715</td><td>29.9940</td><td>0.0000</td><td>59.988000</td><td>d9a12019-84e7-4907-bf8e-73bc352e490f</td><td>2008-06-01T00:00:00Z</td></tr><tr><td>71845</td><td>112139</td><td>2</td><td>944</td><td>158.4300</td><td>0.0000</td><td>316.860000</td><td>af14ab19-019b-44ba-ad76-248ee2a086b3</td><td>2008-06-01T00:00:00Z</td></tr><tr><td>71845</td><td>112140</td><td>1</td><td>808</td><td>26.7240</td><td>0.0000</td><td>26.724000</td><td>70ebcded-684d-4bc9-86f9-94cae06b9d28</td><td>2008-06-01T00:00:00Z</td></tr><tr><td>71845</td><td>112141</td><td>8</td><td>909</td><td>23.4840</td><td>0.0000</td><td>187.872000</td><td>46a1c88a-cf3a-45ef-b6ce-8bd817e1553b</td><td>2008-06-01T00:00:00Z</td></tr><tr><td>71845</td><td>112142</td><td>2</td><td>925</td><td>149.8740</td><td>0.0000</td><td>299.748000</td><td>4fc2f213-b5f0-4acf-8948-209292a52dc9</td><td>2008-06-01T00:00:00Z</td></tr><tr><td>71845</td><td>112143</td><td>2</td><td>782</td><td>1376.9940</td><td>0.0000</td><td>2753.988000</td><td>d7fc6800-1702-4636-a46a-e207ad934c43</td><td>2008-06-01T00:00:00Z</td></tr><tr><td>71845</td><td>112144</td><td>2</td><td>910</td><td>31.5840</td><td>0.0000</td><td>63.168000</td><td>74988939-9b08-48b6-89bc-b2baf823d33a</td><td>2008-06-01T00:00:00Z</td></tr><tr><td>71845</td><td>112145</td><td>3</td><td>996</td><td>72.8940</td><td>0.0000</td><td>218.682000</td><td>b26b5113-f4e3-4099-bea0-1b92f27b1ab6</td><td>2008-06-01T00:00:00Z</td></tr><tr><td>71845</td><td>112146</td><td>3</td><td>779</td><td>1391.9940</td><td>0.0000</td><td>4175.982000</td><td>11398c15-e0dc-41a1-8e2f-6b2a230aa639</td><td>2008-06-01T00:00:00Z</td></tr><tr><td>71845</td><td>112147</td><td>4</td><td>924</td><td>149.8740</td><td>0.0000</td><td>599.496000</td><td>dc8a797c-44e2-435f-836d-349b93107d43</td><td>2008-06-01T00:00:00Z</td></tr><tr><td>71845</td><td>112148</td><td>3</td><td>952</td><td>12.1440</td><td>0.0000</td><td>36.432000</td><td>fe78c429-1237-4b76-b709-88abe25c9f21</td><td>2008-06-01T00:00:00Z</td></tr><tr><td>71846</td><td>112149</td><td>2</td><td>936</td><td>37.2540</td><td>0.0000</td><td>74.508000</td><td>7232fd67-8db7-42f8-ad0d-6185299430f1</td><td>2008-06-01T00:00:00Z</td></tr><tr><td>71846</td><td>112150</td><td>1</td><td>739</td><td>818.7000</td><td>0.0000</td><td>818.700000</td><td>9a32772b-9b98-4b22-aa2b-f4e5ffd2a23e</td><td>2008-06-01T00:00:00Z</td></tr><tr><td>71846</td><td>112151</td><td>1</td><td>984</td><td>112.9980</td><td>0.4000</td><td>67.798800</td><td>78557d82-1267-4f7c-93a7-e53ae2a3a85c</td><td>2008-06-01T00:00:00Z</td></tr><tr><td>71846</td><td>112152</td><td>2</td><td>981</td><td>461.6940</td><td>0.0000</td><td>923.388000</td><td>3a26f840-c413-4bef-aeff-b8d6218698e6</td><td>2008-06-01T00:00:00Z</td></tr><tr><td>71856</td><td>112331</td><td>1</td><td>962</td><td>445.4100</td><td>0.0000</td><td>445.410000</td><td>62b3d72f-3586-40ac-a24e-a6f07eb7ca4a</td><td>2008-06-01T00:00:00Z</td></tr><tr><td>71856</td><td>112332</td><td>1</td><td>945</td><td>54.8940</td><td>0.0000</td><td>54.894000</td><td>4733918f-da34-4d30-b5b4-32f7537e609d</td><td>2008-06-01T00:00:00Z</td></tr><tr><td>71858</td><td>112359</td><td>3</td><td>979</td><td>445.4100</td><td>0.0000</td><td>1336.230000</td><td>d480d98b-7a82-4f10-83cc-1eea54303ecf</td><td>2008-06-01T00:00:00Z</td></tr><tr><td>71858</td><td>112360</td><td>1</td><td>962</td><td>445.4100</td><td>0.0000</td><td>445.410000</td><td>f13adc78-c384-40e9-9456-277a736625a8</td><td>2008-06-01T00:00:00Z</td></tr><tr><td>71858</td><td>112361</td><td>1</td><td>953</td><td>728.9100</td><td>0.0000</td><td>728.910000</td><td>6781a019-346f-4f87-a8a3-4727a2528b2e</td><td>2008-06-01T00:00:00Z</td></tr><tr><td>71858</td><td>112362</td><td>2</td><td>715</td><td>29.9940</td><td>0.0000</td><td>59.988000</td><td>00aaea22-fcc5-4df2-9b2b-7b4be5231d7f</td><td>2008-06-01T00:00:00Z</td></tr><tr><td>71858</td><td>112363</td><td>2</td><td>883</td><td>32.3940</td><td>0.0000</td><td>64.788000</td><td>462bc7d6-8cc7-4713-931c-7690019ab694</td><td>2008-06-01T00:00:00Z</td></tr><tr><td>71858</td><td>112364</td><td>1</td><td>957</td><td>1430.4420</td><td>0.0000</td><td>1430.442000</td><td>f3e626bc-a6ab-431e-aa58-e208d07039a5</td><td>2008-06-01T00:00:00Z</td></tr><tr><td>71858</td><td>112365</td><td>2</td><td>965</td><td>445.4100</td><td>0.0000</td><td>890.820000</td><td>835734ab-162b-40fe-84f2-8510c9a68a36</td><td>2008-06-01T00:00:00Z</td></tr><tr><td>71858</td><td>112366</td><td>1</td><td>952</td><td>12.1440</td><td>0.0000</td><td>12.144000</td><td>e7efba7e-f973-492f-bb76-ca5f185c629f</td><td>2008-06-01T00:00:00Z</td></tr><tr><td>71858</td><td>112367</td><td>2</td><td>948</td><td>63.9000</td><td>0.0000</td><td>127.800000</td><td>48a6ceb9-c22b-4574-b9d4-088edbf955c2</td><td>2008-06-01T00:00:00Z</td></tr><tr><td>71858</td><td>112368</td><td>1</td><td>945</td><td>54.8940</td><td>0.0000</td><td>54.894000</td><td>0ca930d8-078d-478a-b94d-d5f15bb07d02</td><td>2008-06-01T00:00:00Z</td></tr><tr><td>71858</td><td>112369</td><td>1</td><td>972</td><td>728.9100</td><td>0.0000</td><td>728.910000</td><td>efe61dff-2006-4ef0-b71e-7ff264555666</td><td>2008-06-01T00:00:00Z</td></tr><tr><td>71858</td><td>112370</td><td>1</td><td>877</td><td>4.7700</td><td>0.0000</td><td>4.770000</td><td>61372f55-e0c1-48b6-9ffa-a19294b96fa9</td><td>2008-06-01T00:00:00Z</td></tr><tr><td>71858</td><td>112371</td><td>1</td><td>958</td><td>445.4100</td><td>0.0000</td><td>445.410000</td><td>8ad90b76-e54d-43c5-ab86-cf3ada30699a</td><td>2008-06-01T00:00:00Z</td></tr><tr><td>71858</td><td>112372</td><td>1</td><td>969</td><td>1430.4420</td><td>0.0000</td><td>1430.442000</td><td>7390968a-51ba-4ef1-810a-4fc528c299ad</td><td>2008-06-01T00:00:00Z</td></tr><tr><td>71858</td><td>112373</td><td>2</td><td>961</td><td>445.4100</td><td>0.0000</td><td>890.820000</td><td>e6d7d002-c0b4-4d61-bc20-37b76f5d2100</td><td>2008-06-01T00:00:00Z</td></tr><tr><td>71858</td><td>112374</td><td>2</td><td>966</td><td>1430.4420</td><td>0.0000</td><td>2860.884000</td><td>f6278ac8-8905-4b81-af98-ab13b53438e9</td><td>2008-06-01T00:00:00Z</td></tr><tr><td>71858</td><td>112375</td><td>3</td><td>712</td><td>5.3940</td><td>0.0000</td><td>16.182000</td><td>1dc5a90d-b949-464d-9615-59a31fc99d43</td><td>2008-06-01T00:00:00Z</td></tr><tr><td>71863</td><td>112391</td><td>11</td><td>875</td><td>5.2142</td><td>0.0200</td><td>56.209076</td><td>a5b6a9c0-d946-41b4-b8b5-5833708e40f1</td><td>2008-06-01T00:00:00Z</td></tr><tr><td>71863</td><td>112392</td><td>2</td><td>874</td><td>5.3940</td><td>0.0000</td><td>10.788000</td><td>54c630c8-28ff-4680-8a71-177af05289de</td><td>2008-06-01T00:00:00Z</td></tr><tr><td>71863</td><td>112393</td><td>2</td><td>998</td><td>323.9940</td><td>0.0000</td><td>647.988000</td><td>6cd9cd06-abdc-4702-a2d8-31158afffae0</td><td>2008-06-01T00:00:00Z</td></tr><tr><td>71863</td><td>112394</td><td>1</td><td>973</td><td>1020.5940</td><td>0.0000</td><td>1020.594000</td><td>e70f8c24-1bae-40c7-ac9e-0f344d73fbe4</td><td>2008-06-01T00:00:00Z</td></tr><tr><td>71863</td><td>112395</td><td>1</td><td>711</td><td>20.9940</td><td>0.0000</td><td>20.994000</td><td>78a6e36f-c8a7-42d7-bb3d-d0228bd380dc</td><td>2008-06-01T00:00:00Z</td></tr><tr><td>71863</td><td>112396</td><td>3</td><td>999</td><td>323.9940</td><td>0.0000</td><td>971.982000</td><td>d9cc6a31-7cff-485f-bb62-c92efa59fd7c</td><td>2008-06-01T00:00:00Z</td></tr><tr><td>71863</td><td>112397</td><td>2</td><td>938</td><td>24.2940</td><td>0.0000</td><td>48.588000</td><td>d64f8fc1-4c97-496d-927a-ee63e3267041</td><td>2008-06-01T00:00:00Z</td></tr><tr><td>71867</td><td>112452</td><td>1</td><td>717</td><td>858.9000</td><td>0.0000</td><td>858.900000</td><td>4a001055-b1f1-414c-88b0-b583daca838b</td><td>2008-06-01T00:00:00Z</td></tr><tr><td>71885</td><td>112644</td><td>3</td><td>876</td><td>72.0000</td><td>0.0000</td><td>216.000000</td><td>a2577a76-e272-49e3-b195-ad8492ddf924</td><td>2008-06-01T00:00:00Z</td></tr><tr><td>71885</td><td>112645</td><td>6</td><td>884</td><td>32.3940</td><td>0.0000</td><td>194.364000</td><td>5699d8a7-525e-491e-81bc-4bac286ead6a</td><td>2008-06-01T00:00:00Z</td></tr><tr><td>71885</td><td>112646</td><td>3</td><td>864</td><td>38.1000</td><td>0.0000</td><td>114.300000</td><td>d4f591cf-eade-4964-b9d7-e6a9332b0fbb</td><td>2008-06-01T00:00:00Z</td></tr><tr><td>71895</td><td>112864</td><td>2</td><td>909</td><td>23.4840</td><td>0.0000</td><td>46.968000</td><td>03821b63-8b09-40b2-9cde-57f250734682</td><td>2008-06-01T00:00:00Z</td></tr><tr><td>71895</td><td>112865</td><td>2</td><td>715</td><td>29.9940</td><td>0.0000</td><td>59.988000</td><td>960a75ef-4ae1-4772-b472-19f4202b30fa</td><td>2008-06-01T00:00:00Z</td></tr><tr><td>71895</td><td>112866</td><td>3</td><td>864</td><td>38.1000</td><td>0.0000</td><td>114.300000</td><td>61ab1ae2-6d87-494b-b89a-76067578eab8</td><td>2008-06-01T00:00:00Z</td></tr><tr><td>71897</td><td>112898</td><td>1</td><td>966</td><td>1430.4420</td><td>0.0000</td><td>1430.442000</td><td>a101cf4e-eb6f-43bd-b4b2-9dfe8288929e</td><td>2008-06-01T00:00:00Z</td></tr><tr><td>71897</td><td>112899</td><td>4</td><td>979</td><td>445.4100</td><td>0.0000</td><td>1781.640000</td><td>3ccc87c5-a8af-4b86-8189-fa484fb0b534</td><td>2008-06-01T00:00:00Z</td></tr><tr><td>71897</td><td>112900</td><td>3</td><td>969</td><td>1430.4420</td><td>0.0000</td><td>4291.326000</td><td>5178aa61-aca4-4def-99ac-ef614bb5d5ea</td><td>2008-06-01T00:00:00Z</td></tr><tr><td>71897</td><td>112901</td><td>3</td><td>884</td><td>32.3940</td><td>0.0000</td><td>97.182000</td><td>0e449034-3815-4952-b7ab-8883687e5e3b</td><td>2008-06-01T00:00:00Z</td></tr><tr><td>71897</td><td>112902</td><td>4</td><td>712</td><td>5.3940</td><td>0.0000</td><td>21.576000</td><td>0a3dff58-2da3-4430-a1d9-b8592db22b5b</td><td>2008-06-01T00:00:00Z</td></tr><tr><td>71897</td><td>112903</td><td>2</td><td>954</td><td>1430.4420</td><td>0.0000</td><td>2860.884000</td><td>aad85fb3-9f73-4531-bd84-5449266d0909</td><td>2008-06-01T00:00:00Z</td></tr><tr><td>71897</td><td>112904</td><td>1</td><td>864</td><td>38.1000</td><td>0.0000</td><td>38.100000</td><td>ece19cf9-7e88-4ac8-88e4-7b47f2ec1a77</td><td>2008-06-01T00:00:00Z</td></tr><tr><td>71897</td><td>112905</td><td>1</td><td>948</td><td>63.9000</td><td>0.0000</td><td>63.900000</td><td>065a6eb9-8a87-41f7-8abe-30fdf5e08e87</td><td>2008-06-01T00:00:00Z</td></tr><tr><td>71898</td><td>112906</td><td>3</td><td>969</td><td>1430.4420</td><td>0.0000</td><td>4291.326000</td><td>f4048a1b-c520-4a15-9c05-efbf4253f7ee</td><td>2008-06-01T00:00:00Z</td></tr><tr><td>71898</td><td>112907</td><td>4</td><td>978</td><td>445.4100</td><td>0.0000</td><td>1781.640000</td><td>1ae7fccb-b9aa-4a2c-a199-7d6d61a7db47</td><td>2008-06-01T00:00:00Z</td></tr><tr><td>71898</td><td>112908</td><td>4</td><td>996</td><td>72.8940</td><td>0.0000</td><td>291.576000</td><td>3d7660f5-b76f-4e68-8508-bf84b9c26317</td><td>2008-06-01T00:00:00Z</td></tr><tr><td>71898</td><td>112909</td><td>6</td><td>967</td><td>1430.4420</td><td>0.0000</td><td>8582.652000</td><td>f97bc897-377f-465a-a3db-31d360e360ef</td><td>2008-06-01T00:00:00Z</td></tr><tr><td>71898</td><td>112910</td><td>3</td><td>970</td><td>728.9100</td><td>0.0000</td><td>2186.730000</td><td>4778038a-7634-44ff-9d24-91b1e4b50a4c</td><td>2008-06-01T00:00:00Z</td></tr><tr><td>71898</td><td>112911</td><td>1</td><td>956</td><td>1430.4420</td><td>0.0000</td><td>1430.442000</td><td>785694cc-4d93-4afb-97db-d67c4a9a344a</td><td>2008-06-01T00:00:00Z</td></tr><tr><td>71898</td><td>112912</td><td>3</td><td>960</td><td>445.4100</td><td>0.0000</td><td>1336.230000</td><td>d63e1c95-390b-4bd3-ac1d-08d434ae4b59</td><td>2008-06-01T00:00:00Z</td></tr><tr><td>71898</td><td>112913</td><td>3</td><td>994</td><td>32.3940</td><td>0.0000</td><td>97.182000</td><td>6338d54e-5983-4139-a3b4-6cce783b99f8</td><td>2008-06-01T00:00:00Z</td></tr><tr><td>71898</td><td>112914</td><td>1</td><td>959</td><td>445.4100</td><td>0.0000</td><td>445.410000</td><td>bb18183b-5006-4fea-ad25-5f61f936e8c7</td><td>2008-06-01T00:00:00Z</td></tr><tr><td>71898</td><td>112915</td><td>4</td><td>968</td><td>1430.4420</td><td>0.0000</td><td>5721.768000</td><td>ddd89c33-48a8-402e-98e3-d1672fa1ab15</td><td>2008-06-01T00:00:00Z</td></tr><tr><td>71898</td><td>112916</td><td>3</td><td>966</td><td>1430.4420</td><td>0.0000</td><td>4291.326000</td><td>4791d9df-bfe6-46ff-8d6c-9af903b3d391</td><td>2008-06-01T00:00:00Z</td></tr><tr><td>71898</td><td>112917</td><td>5</td><td>972</td><td>728.9100</td><td>0.0000</td><td>3644.550000</td><td>905add5b-c258-4a0d-afab-cbdfba6b25f1</td><td>2008-06-01T00:00:00Z</td></tr><tr><td>71898</td><td>112918</td><td>4</td><td>949</td><td>105.2940</td><td>0.0000</td><td>421.176000</td><td>eb88f353-60bc-4f70-b7b6-aed5a2c39764</td><td>2008-06-01T00:00:00Z</td></tr><tr><td>71898</td><td>112919</td><td>1</td><td>958</td><td>445.4100</td><td>0.0000</td><td>445.410000</td><td>b596f5b6-b07f-4aa3-943f-528436bdebd0</td><td>2008-06-01T00:00:00Z</td></tr><tr><td>71898</td><td>112920</td><td>3</td><td>945</td><td>54.8940</td><td>0.0000</td><td>164.682000</td><td>198a573c-b3e4-4cf5-bfa1-309bae00d735</td><td>2008-06-01T00:00:00Z</td></tr><tr><td>71898</td><td>112921</td><td>5</td><td>971</td><td>728.9100</td><td>0.0000</td><td>3644.550000</td><td>c28a061d-3e89-487a-99ae-17be169c6ad3</td><td>2008-06-01T00:00:00Z</td></tr><tr><td>71898</td><td>112922</td><td>2</td><td>953</td><td>728.9100</td><td>0.0000</td><td>1457.820000</td><td>84d31325-130d-47c0-8958-5310eb85f518</td><td>2008-06-01T00:00:00Z</td></tr><tr><td>71898</td><td>112923</td><td>1</td><td>889</td><td>602.3460</td><td>0.0000</td><td>602.346000</td><td>5ca4f84a-bafe-485c-b7ad-897f741f76ce</td><td>2008-06-01T00:00:00Z</td></tr><tr><td>71898</td><td>112924</td><td>1</td><td>955</td><td>1430.4420</td><td>0.0000</td><td>1430.442000</td><td>0a7c971a-d30f-4743-b2ca-5ad8daabbf1b</td><td>2008-06-01T00:00:00Z</td></tr><tr><td>71898</td><td>112925</td><td>3</td><td>964</td><td>445.4100</td><td>0.0000</td><td>1336.230000</td><td>dad93612-0446-4393-8981-36f6e1cc2e8a</td><td>2008-06-01T00:00:00Z</td></tr><tr><td>71898</td><td>112926</td><td>3</td><td>916</td><td>31.5840</td><td>0.0000</td><td>94.752000</td><td>fbcd9efd-97ac-4a2e-8e37-8956519eadb9</td><td>2008-06-01T00:00:00Z</td></tr><tr><td>71898</td><td>112927</td><td>1</td><td>948</td><td>63.9000</td><td>0.0000</td><td>63.900000</td><td>8e3024f1-3732-4121-91e6-69e69057dca9</td><td>2008-06-01T00:00:00Z</td></tr><tr><td>71898</td><td>112928</td><td>3</td><td>979</td><td>445.4100</td><td>0.0000</td><td>1336.230000</td><td>99fadf0a-60b8-4f2f-b3a7-16bbd2435796</td><td>2008-06-01T00:00:00Z</td></tr><tr><td>71898</td><td>112929</td><td>3</td><td>951</td><td>242.9940</td><td>0.0000</td><td>728.982000</td><td>edaafadd-1974-4013-953c-ffa991f8ad06</td><td>2008-06-01T00:00:00Z</td></tr><tr><td>71898</td><td>112930</td><td>3</td><td>954</td><td>1430.4420</td><td>0.0000</td><td>4291.326000</td><td>b2eb253f-ed64-4f38-85dc-11f8ca18867a</td><td>2008-06-01T00:00:00Z</td></tr><tr><td>71898</td><td>112931</td><td>1</td><td>952</td><td>12.1440</td><td>0.0000</td><td>12.144000</td><td>a1f83341-9d19-4fe6-bc71-f7f717f92d2b</td><td>2008-06-01T00:00:00Z</td></tr><tr><td>71898</td><td>112932</td><td>5</td><td>965</td><td>445.4100</td><td>0.0000</td><td>2227.050000</td><td>3c97f6bd-91ec-4c84-9636-e088b415ee51</td><td>2008-06-01T00:00:00Z</td></tr><tr><td>71898</td><td>112933</td><td>2</td><td>961</td><td>445.4100</td><td>0.0000</td><td>890.820000</td><td>e11cf974-4dcc-4a5c-98c3-2de92dd2a15d</td><td>2008-06-01T00:00:00Z</td></tr><tr><td>71899</td><td>112934</td><td>2</td><td>881</td><td>32.3940</td><td>0.0000</td><td>64.788000</td><td>f36b652a-e1da-4cc2-accc-25ade6f5b44c</td><td>2008-06-01T00:00:00Z</td></tr><tr><td>71899</td><td>112935</td><td>1</td><td>988</td><td>112.9980</td><td>0.4000</td><td>67.798800</td><td>5093928d-08c4-44ea-bcc2-8e392c652d5c</td><td>2008-06-01T00:00:00Z</td></tr><tr><td>71899</td><td>112936</td><td>1</td><td>981</td><td>461.6940</td><td>0.0000</td><td>461.694000</td><td>95e3c4a3-c37b-48f7-a362-79a42c4c5ab9</td><td>2008-06-01T00:00:00Z</td></tr><tr><td>71899</td><td>112937</td><td>1</td><td>743</td><td>809.7600</td><td>0.0000</td><td>809.760000</td><td>720691a3-f983-4c72-bca1-baabf1d24914</td><td>2008-06-01T00:00:00Z</td></tr><tr><td>71899</td><td>112938</td><td>1</td><td>808</td><td>26.7240</td><td>0.0000</td><td>26.724000</td><td>d88cc408-801c-4e08-b2d2-5bad00178f10</td><td>2008-06-01T00:00:00Z</td></tr><tr><td>71899</td><td>112939</td><td>2</td><td>714</td><td>29.9940</td><td>0.0000</td><td>59.988000</td><td>8ec0cd34-88bf-48cb-adbe-511d82315647</td><td>2008-06-01T00:00:00Z</td></tr><tr><td>71899</td><td>112940</td><td>2</td><td>944</td><td>158.4300</td><td>0.0000</td><td>316.860000</td><td>6779a375-6da6-40b0-b740-31c9a0974c98</td><td>2008-06-01T00:00:00Z</td></tr><tr><td>71899</td><td>112941</td><td>1</td><td>937</td><td>48.5940</td><td>0.0000</td><td>48.594000</td><td>69efdbde-3ed6-4654-b6c8-0ebfe4070b08</td><td>2008-06-01T00:00:00Z</td></tr><tr><td>71902</td><td>112953</td><td>5</td><td>780</td><td>1391.9940</td><td>0.0000</td><td>6959.970000</td><td>d87846f2-7f8a-4873-b957-b0cf08ab7b42</td><td>2008-06-01T00:00:00Z</td></tr><tr><td>71902</td><td>112954</td><td>2</td><td>981</td><td>461.6940</td><td>0.0000</td><td>923.388000</td><td>e166159a-d1c1-448e-a5b1-cdfb19a39c2e</td><td>2008-06-01T00:00:00Z</td></tr><tr><td>71902</td><td>112955</td><td>1</td><td>904</td><td>218.4540</td><td>0.0000</td><td>218.454000</td><td>17a34bcb-5542-4f94-b709-3a20e6e2d811</td><td>2008-06-01T00:00:00Z</td></tr><tr><td>71902</td><td>112956</td><td>1</td><td>987</td><td>112.9980</td><td>0.4000</td><td>67.798800</td><td>0fee9397-5db3-46aa-ae1b-4ab85321f56a</td><td>2008-06-01T00:00:00Z</td></tr><tr><td>71902</td><td>112957</td><td>7</td><td>783</td><td>1376.9940</td><td>0.0000</td><td>9638.958000</td><td>bfde6ff0-e6fd-488a-aa78-c06c85686878</td><td>2008-06-01T00:00:00Z</td></tr><tr><td>71902</td><td>112958</td><td>5</td><td>781</td><td>1391.9940</td><td>0.0000</td><td>6959.970000</td><td>912c572f-808f-4328-9b19-e9970d4cd78a</td><td>2008-06-01T00:00:00Z</td></tr><tr><td>71902</td><td>112959</td><td>2</td><td>859</td><td>14.6940</td><td>0.0000</td><td>29.388000</td><td>460d0ea3-c6b0-40f4-bc16-88df7913f56f</td><td>2008-06-01T00:00:00Z</td></tr><tr><td>71902</td><td>112960</td><td>7</td><td>869</td><td>41.9940</td><td>0.0000</td><td>293.958000</td><td>9054e260-b941-47a7-8fc9-a59e4e5ce74f</td><td>2008-06-01T00:00:00Z</td></tr><tr><td>71902</td><td>112961</td><td>2</td><td>908</td><td>16.2720</td><td>0.0000</td><td>32.544000</td><td>06f6b747-fd45-4d42-90f5-333489c3189f</td><td>2008-06-01T00:00:00Z</td></tr><tr><td>71902</td><td>112962</td><td>3</td><td>712</td><td>5.3940</td><td>0.0000</td><td>16.182000</td><td>f1f4a541-e3ad-4c02-abb8-a630b1176002</td><td>2008-06-01T00:00:00Z</td></tr><tr><td>71902</td><td>112963</td><td>1</td><td>925</td><td>149.8740</td><td>0.0000</td><td>149.874000</td><td>7e476de8-d4b9-4f25-9107-9629c5d3bc15</td><td>2008-06-01T00:00:00Z</td></tr><tr><td>71902</td><td>112964</td><td>2</td><td>937</td><td>48.5940</td><td>0.0000</td><td>97.188000</td><td>0ab7ddca-db76-4a1e-9aca-4509a63ecfea</td><td>2008-06-01T00:00:00Z</td></tr><tr><td>71902</td><td>112965</td><td>3</td><td>992</td><td>323.9940</td><td>0.0000</td><td>971.982000</td><td>775b1bd0-00b8-45a6-a16b-a26438868755</td><td>2008-06-01T00:00:00Z</td></tr><tr><td>71902</td><td>112966</td><td>3</td><td>980</td><td>461.6940</td><td>0.0000</td><td>1385.082000</td><td>f146012f-1385-4bab-94aa-87c0b98ce494</td><td>2008-06-01T00:00:00Z</td></tr><tr><td>71902</td><td>112967</td><td>3</td><td>715</td><td>29.9940</td><td>0.0000</td><td>89.982000</td><td>47433aff-c5a3-48d5-a7d5-5bf6d4d3010a</td><td>2008-06-01T00:00:00Z</td></tr><tr><td>71902</td><td>112968</td><td>4</td><td>935</td><td>24.2940</td><td>0.0000</td><td>97.176000</td><td>94ece99c-0a6d-4a2e-bddd-4468841e754b</td><td>2008-06-01T00:00:00Z</td></tr><tr><td>71902</td><td>112969</td><td>1</td><td>989</td><td>323.9940</td><td>0.0000</td><td>323.994000</td><td>bd01d5a2-1626-4bd4-9b62-ce1c96603731</td><td>2008-06-01T00:00:00Z</td></tr><tr><td>71902</td><td>112970</td><td>4</td><td>984</td><td>112.9980</td><td>0.4000</td><td>271.195200</td><td>163c96ab-42c9-411c-b8c5-58900e75a3e7</td><td>2008-06-01T00:00:00Z</td></tr><tr><td>71902</td><td>112971</td><td>2</td><td>982</td><td>461.6940</td><td>0.0000</td><td>923.388000</td><td>c5db243b-4b7e-4b4c-9d31-0d0cfd9472db</td><td>2008-06-01T00:00:00Z</td></tr><tr><td>71902</td><td>112972</td><td>8</td><td>782</td><td>1376.9940</td><td>0.0000</td><td>11015.952000</td><td>0a47c60c-01b1-4354-8f74-1449929dd118</td><td>2008-06-01T00:00:00Z</td></tr><tr><td>71902</td><td>112973</td><td>2</td><td>784</td><td>1376.9940</td><td>0.0000</td><td>2753.988000</td><td>6f70d41d-8cbf-4364-833c-77c0b7014246</td><td>2008-06-01T00:00:00Z</td></tr><tr><td>71902</td><td>112974</td><td>1</td><td>810</td><td>72.1620</td><td>0.0000</td><td>72.162000</td><td>79f49a8f-7f7b-459c-b8cb-3331e83803a9</td><td>2008-06-01T00:00:00Z</td></tr><tr><td>71902</td><td>112975</td><td>1</td><td>926</td><td>149.8740</td><td>0.0000</td><td>149.874000</td><td>f2064e41-044a-4a42-9342-fb45be83eb88</td><td>2008-06-01T00:00:00Z</td></tr><tr><td>71902</td><td>112976</td><td>3</td><td>714</td><td>29.9940</td><td>0.0000</td><td>89.982000</td><td>89639f66-7bc7-456d-bdf5-0dbb55bd5a20</td><td>2008-06-01T00:00:00Z</td></tr><tr><td>71902</td><td>112977</td><td>7</td><td>870</td><td>2.9940</td><td>0.0000</td><td>20.958000</td><td>3730d783-97d7-4e3d-8b70-1f0159565d4d</td><td>2008-06-01T00:00:00Z</td></tr><tr><td>71902</td><td>112978</td><td>4</td><td>876</td><td>72.0000</td><td>0.0000</td><td>288.000000</td><td>7c17713b-9924-4aee-8f84-bee799fd4722</td><td>2008-06-01T00:00:00Z</td></tr><tr><td>71902</td><td>112979</td><td>5</td><td>877</td><td>4.7700</td><td>0.0000</td><td>23.850000</td><td>8d6e8186-184b-4db1-81f7-57433979c931</td><td>2008-06-01T00:00:00Z</td></tr><tr><td>71902</td><td>112980</td><td>2</td><td>707</td><td>20.9940</td><td>0.0000</td><td>41.988000</td><td>212b53d0-3779-4fe6-b886-8dda35e8c81a</td><td>2008-06-01T00:00:00Z</td></tr><tr><td>71902</td><td>112981</td><td>1</td><td>993</td><td>323.9940</td><td>0.0000</td><td>323.994000</td><td>252017a4-e2c0-4e3e-a6ad-abdfd8de5108</td><td>2008-06-01T00:00:00Z</td></tr><tr><td>71902</td><td>112982</td><td>6</td><td>864</td><td>38.1000</td><td>0.0000</td><td>228.600000</td><td>5237ea9e-09f6-4b3b-9ed2-dc7d42149a5a</td><td>2008-06-01T00:00:00Z</td></tr><tr><td>71902</td><td>112983</td><td>7</td><td>867</td><td>41.9940</td><td>0.0000</td><td>293.958000</td><td>64242be0-a1c4-473d-b34b-e2b9d8db3a8b</td><td>2008-06-01T00:00:00Z</td></tr><tr><td>71902</td><td>112984</td><td>2</td><td>809</td><td>37.1520</td><td>0.0000</td><td>74.304000</td><td>ef76f770-c6fc-4417-b84b-27f3ebd55265</td><td>2008-06-01T00:00:00Z</td></tr><tr><td>71902</td><td>112985</td><td>3</td><td>988</td><td>112.9980</td><td>0.4000</td><td>203.396400</td><td>09e7a695-3260-483e-91f8-a980441b9dd6</td><td>2008-06-01T00:00:00Z</td></tr><tr><td>71902</td><td>112986</td><td>5</td><td>880</td><td>32.9940</td><td>0.0000</td><td>164.970000</td><td>50d440ae-4e4a-469a-be69-95e238392b28</td><td>2008-06-01T00:00:00Z</td></tr><tr><td>71902</td><td>112987</td><td>1</td><td>936</td><td>37.2540</td><td>0.0000</td><td>37.254000</td><td>f98582c9-3c42-4ad1-8d30-b99fcac7eb20</td><td>2008-06-01T00:00:00Z</td></tr><tr><td>71902</td><td>112988</td><td>4</td><td>708</td><td>20.9940</td><td>0.0000</td><td>83.976000</td><td>d1304741-d1cb-4594-ae1a-9e794699e447</td><td>2008-06-01T00:00:00Z</td></tr><tr><td>71902</td><td>112989</td><td>3</td><td>779</td><td>1391.9940</td><td>0.0000</td><td>4175.982000</td><td>ec3b8e1a-b21e-4c5d-a63f-7a5ed4305fca</td><td>2008-06-01T00:00:00Z</td></tr><tr><td>71902</td><td>112990</td><td>2</td><td>991</td><td>323.9940</td><td>0.0000</td><td>647.988000</td><td>7a5def9c-3416-4403-8a59-459e054d73fc</td><td>2008-06-01T00:00:00Z</td></tr><tr><td>71902</td><td>112991</td><td>5</td><td>883</td><td>32.3940</td><td>0.0000</td><td>161.970000</td><td>5c7825f8-aa47-4c4d-8967-2ce6c0dbf848</td><td>2008-06-01T00:00:00Z</td></tr><tr><td>71902</td><td>112992</td><td>1</td><td>910</td><td>31.5840</td><td>0.0000</td><td>31.584000</td><td>5dcce359-9296-4e50-88ed-0fb20f7c39bb</td><td>2008-06-01T00:00:00Z</td></tr><tr><td>71902</td><td>112993</td><td>2</td><td>881</td><td>32.3940</td><td>0.0000</td><td>64.788000</td><td>7add4116-51d9-4742-8dad-c298e3ecc1ea</td><td>2008-06-01T00:00:00Z</td></tr><tr><td>71902</td><td>112994</td><td>5</td><td>985</td><td>112.9980</td><td>0.4000</td><td>338.994000</td><td>a4bb8550-9d18-4837-9944-92df955382b8</td><td>2008-06-01T00:00:00Z</td></tr><tr><td>71902</td><td>112995</td><td>7</td><td>711</td><td>20.9940</td><td>0.0000</td><td>146.958000</td><td>4b4f24a7-6007-497d-8026-3325412855ff</td><td>2008-06-01T00:00:00Z</td></tr><tr><td>71902</td><td>112996</td><td>1</td><td>986</td><td>112.9980</td><td>0.4000</td><td>67.798800</td><td>a86e4946-b7db-4577-a236-9200fbfdb473</td><td>2008-06-01T00:00:00Z</td></tr><tr><td>71902</td><td>112997</td><td>7</td><td>748</td><td>818.7000</td><td>0.0000</td><td>5730.900000</td><td>f4876c84-dfc4-4405-8d02-9e2645cecd05</td><td>2008-06-01T00:00:00Z</td></tr><tr><td>71902</td><td>112998</td><td>5</td><td>884</td><td>32.3940</td><td>0.0000</td><td>161.970000</td><td>2bc75480-60da-4e31-b776-f7bbef432c16</td><td>2008-06-01T00:00:00Z</td></tr><tr><td>71902</td><td>112999</td><td>2</td><td>918</td><td>158.4300</td><td>0.0000</td><td>316.860000</td><td>a4701e96-2541-4a35-902f-f241f9d79c9d</td><td>2008-06-01T00:00:00Z</td></tr><tr><td>71902</td><td>113000</td><td>3</td><td>905</td><td>218.4540</td><td>0.0000</td><td>655.362000</td><td>3adaf197-93f2-433b-bc8a-35fa25fe4172</td><td>2008-06-01T00:00:00Z</td></tr><tr><td>71902</td><td>113001</td><td>4</td><td>983</td><td>461.6940</td><td>0.0000</td><td>1846.776000</td><td>c58fd8f6-fcbc-4a9a-8919-858db6709ce3</td><td>2008-06-01T00:00:00Z</td></tr><tr><td>71902</td><td>113002</td><td>6</td><td>865</td><td>38.1000</td><td>0.0000</td><td>228.600000</td><td>da8f6556-76de-42ad-8a9a-9664b87b3078</td><td>2008-06-01T00:00:00Z</td></tr><tr><td>71915</td><td>113089</td><td>3</td><td>836</td><td>356.8980</td><td>0.0000</td><td>1070.694000</td><td>aa3c697d-653d-4d79-b824-b92672fe8b9e</td><td>2008-06-01T00:00:00Z</td></tr><tr><td>71915</td><td>113090</td><td>2</td><td>738</td><td>202.3320</td><td>0.0000</td><td>404.664000</td><td>c3888abc-6c37-44f8-95c2-c014f4a8b999</td><td>2008-06-01T00:00:00Z</td></tr><tr><td>71915</td><td>113091</td><td>4</td><td>938</td><td>24.2940</td><td>0.0000</td><td>97.176000</td><td>8176abde-ba97-4615-975b-e8fe6287c1d4</td><td>2008-06-01T00:00:00Z</td></tr><tr><td>71915</td><td>113092</td><td>3</td><td>939</td><td>37.2540</td><td>0.0000</td><td>111.762000</td><td>f36a30a7-8d42-456c-b69f-9886545954d9</td><td>2008-06-01T00:00:00Z</td></tr><tr><td>71915</td><td>113093</td><td>1</td><td>940</td><td>48.5940</td><td>0.0000</td><td>48.594000</td><td>d97c6ced-940a-4a42-a65d-6c6f5397eebf</td><td>2008-06-01T00:00:00Z</td></tr><tr><td>71917</td><td>113100</td><td>7</td><td>875</td><td>5.3940</td><td>0.0000</td><td>37.758000</td><td>4bb98b71-6294-41e4-9413-d9dde375ca5d</td><td>2008-06-01T00:00:00Z</td></tr><tr><td>71920</td><td>113139</td><td>1</td><td>973</td><td>1020.5940</td><td>0.0000</td><td>1020.594000</td><td>ded76307-d4f3-404f-96fe-43087f1deb35</td><td>2008-06-01T00:00:00Z</td></tr><tr><td>71920</td><td>113140</td><td>3</td><td>938</td><td>24.2940</td><td>0.0000</td><td>72.882000</td><td>1da9ef0c-f53b-41b9-bce5-f5b6a379a141</td><td>2008-06-01T00:00:00Z</td></tr><tr><td>71920</td><td>113141</td><td>1</td><td>976</td><td>1020.5940</td><td>0.0000</td><td>1020.594000</td><td>5b5eaf22-87a1-430f-90ba-ee722d285694</td><td>2008-06-01T00:00:00Z</td></tr><tr><td>71920</td><td>113142</td><td>7</td><td>884</td><td>32.3940</td><td>0.0000</td><td>226.758000</td><td>8a1d6fad-637b-4088-81bd-4f8e3e8baf16</td><td>2008-06-01T00:00:00Z</td></tr><tr><td>71920</td><td>113143</td><td>3</td><td>864</td><td>38.1000</td><td>0.0000</td><td>114.300000</td><td>dc08d140-4146-4137-a2fd-950f9e783a1b</td><td>2008-06-01T00:00:00Z</td></tr><tr><td>71920</td><td>113144</td><td>1</td><td>876</td><td>72.0000</td><td>0.0000</td><td>72.000000</td><td>988e64d9-7db3-4613-a379-caba1ef8f752</td><td>2008-06-01T00:00:00Z</td></tr><tr><td>71923</td><td>113152</td><td>1</td><td>870</td><td>2.9940</td><td>0.0000</td><td>2.994000</td><td>ef4f992e-9fd3-4f31-a5a8-e3846de82290</td><td>2008-06-01T00:00:00Z</td></tr><tr><td>71923</td><td>113153</td><td>4</td><td>874</td><td>5.3940</td><td>0.0000</td><td>21.576000</td><td>dbd6974d-a99b-42aa-8ec0-9cdff8657aa7</td><td>2008-06-01T00:00:00Z</td></tr><tr><td>71923</td><td>113154</td><td>14</td><td>875</td><td>5.2142</td><td>0.0200</td><td>71.538824</td><td>c13bedec-b48c-4fc6-ad8e-4c6689eedb48</td><td>2008-06-01T00:00:00Z</td></tr><tr><td>71935</td><td>113219</td><td>3</td><td>874</td><td>5.3940</td><td>0.0000</td><td>16.182000</td><td>040cb9c0-2438-471e-8749-82adad28b256</td><td>2008-06-01T00:00:00Z</td></tr><tr><td>71935</td><td>113220</td><td>1</td><td>938</td><td>24.2940</td><td>0.0000</td><td>24.294000</td><td>4e1898ff-672d-4a55-b3c0-ce524b17364c</td><td>2008-06-01T00:00:00Z</td></tr><tr><td>71935</td><td>113221</td><td>3</td><td>973</td><td>1020.5940</td><td>0.0000</td><td>3061.782000</td><td>feba8a52-dd90-4986-aade-45da31521226</td><td>2008-06-01T00:00:00Z</td></tr><tr><td>71935</td><td>113222</td><td>2</td><td>976</td><td>1020.5940</td><td>0.0000</td><td>2041.188000</td><td>22cdfaf4-d15d-4301-8066-5fa1abfcf987</td><td>2008-06-01T00:00:00Z</td></tr><tr><td>71935</td><td>113223</td><td>1</td><td>998</td><td>323.9940</td><td>0.0000</td><td>323.994000</td><td>a6e8d782-457a-413e-8ed9-ed74f8353cd9</td><td>2008-06-01T00:00:00Z</td></tr><tr><td>71935</td><td>113224</td><td>13</td><td>875</td><td>5.2142</td><td>0.0200</td><td>66.428908</td><td>3c4e9e2d-f15f-4d2a-8155-ab8c21b4f540</td><td>2008-06-01T00:00:00Z</td></tr><tr><td>71936</td><td>113225</td><td>3</td><td>944</td><td>158.4300</td><td>0.0000</td><td>475.290000</td><td>4db061b0-ede3-420b-b998-acd51e94646a</td><td>2008-06-01T00:00:00Z</td></tr><tr><td>71936</td><td>113226</td><td>4</td><td>985</td><td>112.9980</td><td>0.4000</td><td>271.195200</td><td>6df0630c-72a7-4313-b23c-7cd5b7b9e2b2</td><td>2008-06-01T00:00:00Z</td></tr><tr><td>71936</td><td>113227</td><td>4</td><td>996</td><td>72.8940</td><td>0.0000</td><td>291.576000</td><td>59cdb581-d059-4e2f-80b2-4fa82fd61bd5</td><td>2008-06-01T00:00:00Z</td></tr><tr><td>71936</td><td>113228</td><td>1</td><td>707</td><td>20.9940</td><td>0.0000</td><td>20.994000</td><td>b1a85c0f-2891-4412-b866-dad7f0b35796</td><td>2008-06-01T00:00:00Z</td></tr><tr><td>71936</td><td>113229</td><td>1</td><td>926</td><td>149.8740</td><td>0.0000</td><td>149.874000</td><td>b9961e3a-66a8-466f-941b-14a6858e1eb3</td><td>2008-06-01T00:00:00Z</td></tr><tr><td>71936</td><td>113230</td><td>4</td><td>808</td><td>26.7240</td><td>0.0000</td><td>106.896000</td><td>67eb5e24-9231-4656-b19d-27998d6d707d</td><td>2008-06-01T00:00:00Z</td></tr><tr><td>71936</td><td>113231</td><td>5</td><td>992</td><td>323.9940</td><td>0.0000</td><td>1619.970000</td><td>b8acc9dc-2442-429c-b523-34ca3453e3b8</td><td>2008-06-01T00:00:00Z</td></tr><tr><td>71936</td><td>113232</td><td>6</td><td>951</td><td>242.9940</td><td>0.0000</td><td>1457.964000</td><td>0b908c0c-dbee-485a-b45b-52e3d0f789f2</td><td>2008-06-01T00:00:00Z</td></tr><tr><td>71936</td><td>113233</td><td>3</td><td>780</td><td>1391.9940</td><td>0.0000</td><td>4175.982000</td><td>afcdc337-6775-486c-bd57-2e2729931857</td><td>2008-06-01T00:00:00Z</td></tr><tr><td>71936</td><td>113234</td><td>2</td><td>905</td><td>218.4540</td><td>0.0000</td><td>436.908000</td><td>49fb0e07-067c-4426-9718-90b4de97bba1</td><td>2008-06-01T00:00:00Z</td></tr><tr><td>71936</td><td>113235</td><td>4</td><td>747</td><td>809.7600</td><td>0.0000</td><td>3239.040000</td><td>c0ae4496-d051-4f21-80ef-141af9cfa5eb</td><td>2008-06-01T00:00:00Z</td></tr><tr><td>71936</td><td>113236</td><td>14</td><td>867</td><td>40.5942</td><td>0.0200</td><td>556.952424</td><td>59bea0ec-82e3-4e0a-b1a6-5b9a3c1a6fde</td><td>2008-06-01T00:00:00Z</td></tr><tr><td>71936</td><td>113237</td><td>3</td><td>935</td><td>24.2940</td><td>0.0000</td><td>72.882000</td><td>88d401b9-71d2-42d0-abd2-0b2e9fd92a05</td><td>2008-06-01T00:00:00Z</td></tr><tr><td>71936</td><td>113238</td><td>5</td><td>945</td><td>54.8940</td><td>0.0000</td><td>274.470000</td><td>3ced642f-ce77-4dce-9f38-3babc74761e1</td><td>2008-06-01T00:00:00Z</td></tr><tr><td>71936</td><td>113239</td><td>5</td><td>924</td><td>149.8740</td><td>0.0000</td><td>749.370000</td><td>d4ee51cf-e27f-435f-ae5b-2cd7b7dd49ae</td><td>2008-06-01T00:00:00Z</td></tr><tr><td>71936</td><td>113240</td><td>10</td><td>783</td><td>1376.9940</td><td>0.0000</td><td>13769.940000</td><td>e30ea1fb-b08d-43bb-9a15-b6986843b5b4</td><td>2008-06-01T00:00:00Z</td></tr><tr><td>71936</td><td>113241</td><td>5</td><td>784</td><td>1376.9940</td><td>0.0000</td><td>6884.970000</td><td>f238261c-b9d4-40e7-9c98-759e95356eb5</td><td>2008-06-01T00:00:00Z</td></tr><tr><td>71936</td><td>113242</td><td>5</td><td>748</td><td>818.7000</td><td>0.0000</td><td>4093.500000</td><td>67605e69-ca8e-4471-a9ef-5d673b823919</td><td>2008-06-01T00:00:00Z</td></tr><tr><td>71936</td><td>113243</td><td>2</td><td>981</td><td>461.6940</td><td>0.0000</td><td>923.388000</td><td>8dcc225d-27e8-4bf1-9a51-af1a25c6eb7c</td><td>2008-06-01T00:00:00Z</td></tr><tr><td>71936</td><td>113244</td><td>5</td><td>894</td><td>72.8760</td><td>0.0000</td><td>364.380000</td><td>174a0011-0cd4-44ce-952b-cea83042a4c9</td><td>2008-06-01T00:00:00Z</td></tr><tr><td>71936</td><td>113245</td><td>4</td><td>779</td><td>1391.9940</td><td>0.0000</td><td>5567.976000</td><td>4ac5ad5e-e0f0-4a70-ae6b-ce200178e737</td><td>2008-06-01T00:00:00Z</td></tr><tr><td>71936</td><td>113246</td><td>8</td><td>782</td><td>1376.9940</td><td>0.0000</td><td>11015.952000</td><td>f8d766df-bf52-4035-9471-a530c2b56417</td><td>2008-06-01T00:00:00Z</td></tr><tr><td>71936</td><td>113247</td><td>8</td><td>869</td><td>41.9940</td><td>0.0000</td><td>335.952000</td><td>7c317b19-9d14-4b2f-99d5-21870e899106</td><td>2008-06-01T00:00:00Z</td></tr><tr><td>71936</td><td>113248</td><td>3</td><td>952</td><td>12.1440</td><td>0.0000</td><td>36.432000</td><td>12e5ac5b-c887-46e6-8b09-e09203100879</td><td>2008-06-01T00:00:00Z</td></tr><tr><td>71936</td><td>113249</td><td>3</td><td>949</td><td>105.2940</td><td>0.0000</td><td>315.882000</td><td>07e3f54b-ae6b-4384-8f47-dbe2c153bdc0</td><td>2008-06-01T00:00:00Z</td></tr><tr><td>71936</td><td>113250</td><td>5</td><td>937</td><td>48.5940</td><td>0.0000</td><td>242.970000</td><td>3fda5638-56ea-411a-a131-01cf7ac0d771</td><td>2008-06-01T00:00:00Z</td></tr><tr><td>71936</td><td>113251</td><td>3</td><td>910</td><td>31.5840</td><td>0.0000</td><td>94.752000</td><td>b5ed275f-49ed-4f4b-b3a7-48b9cf8dd9be</td><td>2008-06-01T00:00:00Z</td></tr><tr><td>71936</td><td>113252</td><td>2</td><td>917</td><td>158.4300</td><td>0.0000</td><td>316.860000</td><td>8b718b1f-ae37-4d80-b1fb-afefa0fff6e1</td><td>2008-06-01T00:00:00Z</td></tr><tr><td>71936</td><td>113253</td><td>3</td><td>994</td><td>32.3940</td><td>0.0000</td><td>97.182000</td><td>9a169c16-6718-472b-9b8e-f08287ade9b1</td><td>2008-06-01T00:00:00Z</td></tr><tr><td>71936</td><td>113254</td><td>1</td><td>984</td><td>112.9980</td><td>0.4000</td><td>67.798800</td><td>7d17325c-f7f4-4c3b-af45-3759e79be956</td><td>2008-06-01T00:00:00Z</td></tr><tr><td>71936</td><td>113255</td><td>6</td><td>860</td><td>14.6940</td><td>0.0000</td><td>88.164000</td><td>104e28ad-a3bc-4dac-ae92-b5a5dd122cf9</td><td>2008-06-01T00:00:00Z</td></tr><tr><td>71936</td><td>113256</td><td>4</td><td>948</td><td>63.9000</td><td>0.0000</td><td>255.600000</td><td>409bc176-624a-4b03-b400-6a781a689213</td><td>2008-06-01T00:00:00Z</td></tr><tr><td>71936</td><td>113257</td><td>6</td><td>925</td><td>149.8740</td><td>0.0000</td><td>899.244000</td><td>f186ec8c-c220-45f5-b2f1-a71f776de245</td><td>2008-06-01T00:00:00Z</td></tr><tr><td>71936</td><td>113258</td><td>3</td><td>908</td><td>16.2720</td><td>0.0000</td><td>48.816000</td><td>1e23a432-f5bb-43a0-ac92-2b1e7c950a72</td><td>2008-06-01T00:00:00Z</td></tr><tr><td>71936</td><td>113259</td><td>1</td><td>918</td><td>158.4300</td><td>0.0000</td><td>158.430000</td><td>d974fa30-9e36-45f9-9985-1a1105ca87cd</td><td>2008-06-01T00:00:00Z</td></tr><tr><td>71936</td><td>113260</td><td>4</td><td>743</td><td>809.7600</td><td>0.0000</td><td>3239.040000</td><td>60c0ecc9-3f6c-4c08-8dc5-c45a07ddb50f</td><td>2008-06-01T00:00:00Z</td></tr><tr><td>71936</td><td>113261</td><td>5</td><td>739</td><td>818.7000</td><td>0.0000</td><td>4093.500000</td><td>e8e72212-63b5-4456-882c-efa2560c655c</td><td>2008-06-01T00:00:00Z</td></tr><tr><td>71936</td><td>113262</td><td>2</td><td>987</td><td>112.9980</td><td>0.4000</td><td>135.597600</td><td>86838275-4711-435c-8ef9-9fe4924b47d9</td><td>2008-06-01T00:00:00Z</td></tr><tr><td>71936</td><td>113263</td><td>5</td><td>809</td><td>37.1520</td><td>0.0000</td><td>185.760000</td><td>35578b52-dddb-44c6-917c-a9ef90bd8a71</td><td>2008-06-01T00:00:00Z</td></tr><tr><td>71936</td><td>113264</td><td>2</td><td>904</td><td>218.4540</td><td>0.0000</td><td>436.908000</td><td>2000d44e-0e7c-4fba-96d9-55d18727db36</td><td>2008-06-01T00:00:00Z</td></tr><tr><td>71936</td><td>113265</td><td>4</td><td>781</td><td>1391.9940</td><td>0.0000</td><td>5567.976000</td><td>0415bef2-9bab-4e5c-9969-c2732d00934a</td><td>2008-06-01T00:00:00Z</td></tr><tr><td>71936</td><td>113266</td><td>4</td><td>868</td><td>41.9940</td><td>0.0000</td><td>167.976000</td><td>e0f7dc39-cc81-4772-ba44-73b5ed6ef339</td><td>2008-06-01T00:00:00Z</td></tr><tr><td>71936</td><td>113267</td><td>5</td><td>988</td><td>112.9980</td><td>0.4000</td><td>338.994000</td><td>fb4c7e71-f938-4724-ab4a-6a35ccdf8cae</td><td>2008-06-01T00:00:00Z</td></tr><tr><td>71936</td><td>113268</td><td>7</td><td>742</td><td>818.7000</td><td>0.0000</td><td>5730.900000</td><td>f0ba94e6-f0b3-4a55-9091-60c797950ff1</td><td>2008-06-01T00:00:00Z</td></tr><tr><td>71936</td><td>113269</td><td>2</td><td>936</td><td>37.2540</td><td>0.0000</td><td>74.508000</td><td>059cdc00-5c89-4d66-b7bb-e20a777da63a</td><td>2008-06-01T00:00:00Z</td></tr><tr><td>71936</td><td>113270</td><td>6</td><td>909</td><td>23.4840</td><td>0.0000</td><td>140.904000</td><td>505672c0-9af6-4b59-a1c1-8f38198306bf</td><td>2008-06-01T00:00:00Z</td></tr><tr><td>71938</td><td>113274</td><td>5</td><td>973</td><td>1020.5940</td><td>0.0000</td><td>5102.970000</td><td>74d8a174-0fba-421b-abe3-b54c728a1a95</td><td>2008-06-01T00:00:00Z</td></tr><tr><td>71938</td><td>113275</td><td>3</td><td>876</td><td>72.0000</td><td>0.0000</td><td>216.000000</td><td>ac17eb2e-c4b8-44ba-9799-6f814c84e400</td><td>2008-06-01T00:00:00Z</td></tr><tr><td>71938</td><td>113276</td><td>2</td><td>835</td><td>356.8980</td><td>0.0000</td><td>713.796000</td><td>7d738f6b-9825-4fd3-9d21-f703cbced4f4</td><td>2008-06-01T00:00:00Z</td></tr><tr><td>71938</td><td>113277</td><td>3</td><td>974</td><td>1020.5940</td><td>0.0000</td><td>3061.782000</td><td>9b9a0c77-1b13-4411-9dd0-26027faeb98c</td><td>2008-06-01T00:00:00Z</td></tr><tr><td>71938</td><td>113278</td><td>3</td><td>707</td><td>20.9940</td><td>0.0000</td><td>62.982000</td><td>e000afd3-ccd5-43e8-a10f-b29ec9caeaed</td><td>2008-06-01T00:00:00Z</td></tr><tr><td>71938</td><td>113279</td><td>1</td><td>813</td><td>72.1620</td><td>0.0000</td><td>72.162000</td><td>9d987e75-e96d-4903-be36-0ce579a6f47b</td><td>2008-06-01T00:00:00Z</td></tr><tr><td>71938</td><td>113280</td><td>5</td><td>938</td><td>24.2940</td><td>0.0000</td><td>121.470000</td><td>5a1caeaf-6394-432d-906f-b0826d629c65</td><td>2008-06-01T00:00:00Z</td></tr><tr><td>71938</td><td>113281</td><td>5</td><td>884</td><td>32.3940</td><td>0.0000</td><td>161.970000</td><td>eadb5fc1-5744-4a62-825c-406b7f8720a3</td><td>2008-06-01T00:00:00Z</td></tr><tr><td>71938</td><td>113282</td><td>3</td><td>711</td><td>20.9940</td><td>0.0000</td><td>62.982000</td><td>c01d83f5-cf9a-42e6-967c-d6ecc3a59b49</td><td>2008-06-01T00:00:00Z</td></tr><tr><td>71938</td><td>113283</td><td>1</td><td>712</td><td>5.3940</td><td>0.0000</td><td>5.394000</td><td>23a06d81-fc31-45f6-a969-a224fce4f713</td><td>2008-06-01T00:00:00Z</td></tr><tr><td>71938</td><td>113284</td><td>5</td><td>940</td><td>48.5940</td><td>0.0000</td><td>242.970000</td><td>d9d2a6ad-347a-4c99-85a0-f6f037a3a683</td><td>2008-06-01T00:00:00Z</td></tr><tr><td>71938</td><td>113285</td><td>3</td><td>792</td><td>1466.0100</td><td>0.0000</td><td>4398.030000</td><td>375a2df5-72c6-44cd-8789-30eebf0e5b86</td><td>2008-06-01T00:00:00Z</td></tr><tr><td>71938</td><td>113286</td><td>5</td><td>976</td><td>1020.5940</td><td>0.0000</td><td>5102.970000</td><td>d8261319-f5ff-4daa-8698-5a68c2141f61</td><td>2008-06-01T00:00:00Z</td></tr><tr><td>71938</td><td>113287</td><td>5</td><td>798</td><td>672.2940</td><td>0.0000</td><td>3361.470000</td><td>e4931d3e-3865-45d5-ad17-1ecc69f8ed52</td><td>2008-06-01T00:00:00Z</td></tr><tr><td>71938</td><td>113288</td><td>4</td><td>799</td><td>672.2940</td><td>0.0000</td><td>2689.176000</td><td>c9fcf326-d1b9-44a4-b29d-2d1888f6b0fd</td><td>2008-06-01T00:00:00Z</td></tr><tr><td>71938</td><td>113289</td><td>4</td><td>864</td><td>38.1000</td><td>0.0000</td><td>152.400000</td><td>11e8e6a3-eb52-45ca-a51c-3f1fc7a2f272</td><td>2008-06-01T00:00:00Z</td></tr><tr><td>71938</td><td>113290</td><td>2</td><td>714</td><td>29.9940</td><td>0.0000</td><td>59.988000</td><td>87a4ec8d-b4f3-4d27-b025-fc416d8cb7d0</td><td>2008-06-01T00:00:00Z</td></tr><tr><td>71938</td><td>113291</td><td>4</td><td>999</td><td>323.9940</td><td>0.0000</td><td>1295.976000</td><td>2947ca98-a4f4-4554-b725-9c2cd3592916</td><td>2008-06-01T00:00:00Z</td></tr><tr><td>71938</td><td>113292</td><td>5</td><td>998</td><td>323.9940</td><td>0.0000</td><td>1619.970000</td><td>2d0316bd-074d-4f2e-88a5-4e56f84562cd</td><td>2008-06-01T00:00:00Z</td></tr><tr><td>71938</td><td>113293</td><td>6</td><td>877</td><td>4.7700</td><td>0.0000</td><td>28.620000</td><td>b3dd9942-1c2e-4b0e-9b30-dea600b36d0d</td><td>2008-06-01T00:00:00Z</td></tr><tr><td>71938</td><td>113294</td><td>3</td><td>796</td><td>1466.0100</td><td>0.0000</td><td>4398.030000</td><td>1618c9dc-78a0-4936-b89a-c2466681c11f</td><td>2008-06-01T00:00:00Z</td></tr><tr><td>71938</td><td>113295</td><td>5</td><td>708</td><td>20.9940</td><td>0.0000</td><td>104.970000</td><td>964b3375-8ee7-46c6-8149-fb72fc2e267b</td><td>2008-06-01T00:00:00Z</td></tr><tr><td>71938</td><td>113296</td><td>5</td><td>865</td><td>38.1000</td><td>0.0000</td><td>190.500000</td><td>97ae3231-5a4d-4988-9ee5-a33971aaf34d</td><td>2008-06-01T00:00:00Z</td></tr><tr><td>71938</td><td>113297</td><td>3</td><td>738</td><td>202.3320</td><td>0.0000</td><td>606.996000</td><td>64ef2a38-a413-406e-a514-6cf142f25ac6</td><td>2008-06-01T00:00:00Z</td></tr><tr><td>71938</td><td>113298</td><td>3</td><td>883</td><td>32.3940</td><td>0.0000</td><td>97.182000</td><td>2ddebb25-330d-4361-a774-ca44d29d1e05</td><td>2008-06-01T00:00:00Z</td></tr><tr><td>71938</td><td>113299</td><td>3</td><td>997</td><td>323.9940</td><td>0.0000</td><td>971.982000</td><td>0acdeade-29a9-465d-923b-41cc21ecf57b</td><td>2008-06-01T00:00:00Z</td></tr><tr><td>71938</td><td>113300</td><td>8</td><td>870</td><td>2.9940</td><td>0.0000</td><td>23.952000</td><td>efbd0f32-cacc-4429-9477-da43f9a04348</td><td>2008-06-01T00:00:00Z</td></tr><tr><td>71938</td><td>113301</td><td>6</td><td>795</td><td>1466.0100</td><td>0.0000</td><td>8796.060000</td><td>05a28311-9869-486b-ba7b-539517a25f97</td><td>2008-06-01T00:00:00Z</td></tr><tr><td>71938</td><td>113302</td><td>4</td><td>874</td><td>5.3940</td><td>0.0000</td><td>21.576000</td><td>dd5e62b4-0457-457f-8307-82f5c1eee470</td><td>2008-06-01T00:00:00Z</td></tr><tr><td>71938</td><td>113303</td><td>2</td><td>859</td><td>14.6940</td><td>0.0000</td><td>29.388000</td><td>e7c11996-8d83-4515-bfbd-7e380cdb6252</td><td>2008-06-01T00:00:00Z</td></tr><tr><td>71938</td><td>113304</td><td>5</td><td>975</td><td>1020.5940</td><td>0.0000</td><td>5102.970000</td><td>3304dca0-a7a4-43b5-99a2-8c810f7a7161</td><td>2008-06-01T00:00:00Z</td></tr><tr><td>71938</td><td>113305</td><td>3</td><td>793</td><td>1466.0100</td><td>0.0000</td><td>4398.030000</td><td>4b32e728-acdd-47f7-a2b0-1e4adc606e7f</td><td>2008-06-01T00:00:00Z</td></tr><tr><td>71938</td><td>113306</td><td>5</td><td>797</td><td>672.2940</td><td>0.0000</td><td>3361.470000</td><td>cf099a40-bb51-40b1-9fe1-f47a0de2a342</td><td>2008-06-01T00:00:00Z</td></tr><tr><td>71938</td><td>113307</td><td>7</td><td>880</td><td>32.9940</td><td>0.0000</td><td>230.958000</td><td>f003aed8-258b-4234-83bc-ef7516e5b90f</td><td>2008-06-01T00:00:00Z</td></tr><tr><td>71938</td><td>113308</td><td>4</td><td>977</td><td>323.9940</td><td>0.0000</td><td>1295.976000</td><td>e295d970-dbb5-4962-aab5-c836a8953276</td><td>2008-06-01T00:00:00Z</td></tr><tr><td>71938</td><td>113309</td><td>5</td><td>801</td><td>672.2940</td><td>0.0000</td><td>3361.470000</td><td>b80c355f-e9a2-4307-8ee0-3ab7f95c8542</td><td>2008-06-01T00:00:00Z</td></tr><tr><td>71938</td><td>113310</td><td>7</td><td>794</td><td>1466.0100</td><td>0.0000</td><td>10262.070000</td><td>4bc1ad3f-f801-49df-b805-6b67d52952ff</td><td>2008-06-01T00:00:00Z</td></tr><tr><td>71938</td><td>113311</td><td>6</td><td>939</td><td>37.2540</td><td>0.0000</td><td>223.524000</td><td>729832fe-0fdc-449d-a720-f2a96e03b392</td><td>2008-06-01T00:00:00Z</td></tr><tr><td>71938</td><td>113312</td><td>3</td><td>715</td><td>29.9940</td><td>0.0000</td><td>89.982000</td><td>64fbaaab-9400-4664-add7-97115b75b27b</td><td>2008-06-01T00:00:00Z</td></tr><tr><td>71938</td><td>113313</td><td>1</td><td>881</td><td>32.3940</td><td>0.0000</td><td>32.394000</td><td>67d4e5d4-9629-49a6-a6e0-9e1c4cdee3de</td><td>2008-06-01T00:00:00Z</td></tr><tr><td>71938</td><td>113314</td><td>2</td><td>875</td><td>5.3940</td><td>0.0000</td><td>10.788000</td><td>352d06e9-8456-4966-9c73-3f227b023962</td><td>2008-06-01T00:00:00Z</td></tr><tr><td>71938</td><td>113315</td><td>3</td><td>800</td><td>672.2940</td><td>0.0000</td><td>2016.882000</td><td>78f73142-e566-453f-a2b9-88a0fcaf4552</td><td>2008-06-01T00:00:00Z</td></tr><tr><td>71946</td><td>113406</td><td>1</td><td>916</td><td>31.5840</td><td>0.0000</td><td>31.584000</td><td>b571cee0-a90a-4e76-9796-379b55352a28</td><td>2008-06-01T00:00:00Z</td></tr></tbody></table></div>"
      ]
     },
     "metadata": {
      "application/vnd.databricks.v1+output": {
       "addedWidgets": {},
       "aggData": [],
       "aggError": "",
       "aggOverflow": false,
       "aggSchema": [],
       "aggSeriesLimitReached": false,
       "aggType": "",
       "arguments": {},
       "columnCustomDisplayInfos": {},
       "data": [
        [
         71774,
         110562,
         1,
         836,
         "356.8980",
         "0.0000",
         "356.898000",
         "e3a1994c-7a68-4ce8-96a3-77fdd3bbd730",
         "2008-06-01T00:00:00Z"
        ],
        [
         71774,
         110563,
         1,
         822,
         "356.8980",
         "0.0000",
         "356.898000",
         "5c77f557-fdb6-43ba-90b9-9a7aec55ca32",
         "2008-06-01T00:00:00Z"
        ],
        [
         71776,
         110567,
         1,
         907,
         "63.9000",
         "0.0000",
         "63.900000",
         "6dbfe398-d15d-425e-aa58-88178fe360e5",
         "2008-06-01T00:00:00Z"
        ],
        [
         71780,
         110616,
         4,
         905,
         "218.4540",
         "0.0000",
         "873.816000",
         "377246c9-4483-48ed-a5b9-e56f005364e0",
         "2008-06-01T00:00:00Z"
        ],
        [
         71780,
         110617,
         2,
         983,
         "461.6940",
         "0.0000",
         "923.388000",
         "43a54bcd-536d-4a1b-8e69-24d083507a14",
         "2008-06-01T00:00:00Z"
        ],
        [
         71780,
         110618,
         6,
         988,
         "112.9980",
         "0.4000",
         "406.792800",
         "12706fab-f3a2-48c6-b7c7-1ccde4081f18",
         "2008-06-01T00:00:00Z"
        ],
        [
         71780,
         110619,
         2,
         748,
         "818.7000",
         "0.0000",
         "1637.400000",
         "b12f0d3b-5b4e-4f1f-b2f0-f7cde99dd826",
         "2008-06-01T00:00:00Z"
        ],
        [
         71780,
         110620,
         1,
         990,
         "323.9940",
         "0.0000",
         "323.994000",
         "f117a449-039d-44b8-a4b2-b12001dacc01",
         "2008-06-01T00:00:00Z"
        ],
        [
         71780,
         110621,
         1,
         926,
         "149.8740",
         "0.0000",
         "149.874000",
         "92e5052b-72d0-4c91-9a8c-42591803667e",
         "2008-06-01T00:00:00Z"
        ],
        [
         71780,
         110622,
         1,
         743,
         "809.7600",
         "0.0000",
         "809.760000",
         "8bd33bed-c4f6-4d44-84fb-a7d04afcd794",
         "2008-06-01T00:00:00Z"
        ],
        [
         71780,
         110623,
         4,
         782,
         "1376.9940",
         "0.0000",
         "5507.976000",
         "686999fb-42e6-4d00-9a14-83ffa86833e3",
         "2008-06-01T00:00:00Z"
        ],
        [
         71780,
         110624,
         2,
         918,
         "158.4300",
         "0.0000",
         "316.860000",
         "82940b03-c70b-4183-8660-6b3418908429",
         "2008-06-01T00:00:00Z"
        ],
        [
         71780,
         110625,
         4,
         780,
         "1391.9940",
         "0.0000",
         "5567.976000",
         "644b0cd6-b2c3-4e4d-ab43-091c2ef6c829",
         "2008-06-01T00:00:00Z"
        ],
        [
         71780,
         110626,
         1,
         937,
         "48.5940",
         "0.0000",
         "48.594000",
         "7f5feb17-8ef4-4236-9f1c-15046d9638f0",
         "2008-06-01T00:00:00Z"
        ],
        [
         71780,
         110627,
         6,
         867,
         "41.9940",
         "0.0000",
         "251.964000",
         "ac78838d-b503-41a5-9791-480e528f028c",
         "2008-06-01T00:00:00Z"
        ],
        [
         71780,
         110628,
         1,
         985,
         "112.9980",
         "0.4000",
         "67.798800",
         "2c10a282-a13d-442a-8f45-f4d6b23a7d9c",
         "2008-06-01T00:00:00Z"
        ],
        [
         71780,
         110629,
         2,
         989,
         "323.9940",
         "0.0000",
         "647.988000",
         "654fb79e-70df-4b92-9832-9fa67013215b",
         "2008-06-01T00:00:00Z"
        ],
        [
         71780,
         110630,
         3,
         991,
         "323.9940",
         "0.0000",
         "971.982000",
         "3d6ca7ab-055e-4536-8940-76234cc9bcde",
         "2008-06-01T00:00:00Z"
        ],
        [
         71780,
         110631,
         1,
         992,
         "323.9940",
         "0.0000",
         "323.994000",
         "560feee1-dd54-4c34-abb1-4f8841d0aa41",
         "2008-06-01T00:00:00Z"
        ],
        [
         71780,
         110632,
         2,
         993,
         "323.9940",
         "0.0000",
         "647.988000",
         "19570052-4023-4658-bc56-dc5c619bd00e",
         "2008-06-01T00:00:00Z"
        ],
        [
         71780,
         110633,
         2,
         984,
         "112.9980",
         "0.4000",
         "135.597600",
         "27562675-f8c3-4a38-bd9e-b366b83e5204",
         "2008-06-01T00:00:00Z"
        ],
        [
         71780,
         110634,
         3,
         986,
         "112.9980",
         "0.4000",
         "203.396400",
         "e193ce39-ef33-4969-87b1-468d2f7b48ad",
         "2008-06-01T00:00:00Z"
        ],
        [
         71780,
         110635,
         3,
         987,
         "112.9980",
         "0.4000",
         "203.396400",
         "e38e076f-5072-437a-a771-ada53b5ab803",
         "2008-06-01T00:00:00Z"
        ],
        [
         71780,
         110636,
         2,
         981,
         "461.6940",
         "0.0000",
         "923.388000",
         "26c00b7d-6e19-4fbf-b9f1-23c2609e8893",
         "2008-06-01T00:00:00Z"
        ],
        [
         71780,
         110637,
         3,
         982,
         "461.6940",
         "0.0000",
         "1385.082000",
         "6666a81b-90a1-4204-a39e-9f660ca43e5f",
         "2008-06-01T00:00:00Z"
        ],
        [
         71780,
         110638,
         5,
         783,
         "1376.9940",
         "0.0000",
         "6884.970000",
         "332dcf9e-dfd2-4345-9015-f4b53ac396ee",
         "2008-06-01T00:00:00Z"
        ],
        [
         71780,
         110639,
         3,
         809,
         "37.1520",
         "0.0000",
         "111.456000",
         "c2b08405-a9be-4f71-906c-5d7b1e26bde4",
         "2008-06-01T00:00:00Z"
        ],
        [
         71780,
         110640,
         1,
         810,
         "72.1620",
         "0.0000",
         "72.162000",
         "351a29fb-ceb1-4ca6-bb36-506d87b82a95",
         "2008-06-01T00:00:00Z"
        ],
        [
         71780,
         110641,
         2,
         935,
         "24.2940",
         "0.0000",
         "48.588000",
         "1918cfd2-69e8-4593-b4d6-8677f18b8f62",
         "2008-06-01T00:00:00Z"
        ],
        [
         71780,
         110642,
         1,
         925,
         "149.8740",
         "0.0000",
         "149.874000",
         "21624302-ca0f-402f-8a46-5a3fffa7d5f3",
         "2008-06-01T00:00:00Z"
        ],
        [
         71780,
         110643,
         7,
         869,
         "41.9940",
         "0.0000",
         "293.958000",
         "169c75f6-a364-46e3-8ddb-033528177458",
         "2008-06-01T00:00:00Z"
        ],
        [
         71780,
         110644,
         1,
         880,
         "32.9940",
         "0.0000",
         "32.994000",
         "c3fbb3ec-3ff6-4ee1-88cf-230e128815f3",
         "2008-06-01T00:00:00Z"
        ],
        [
         71782,
         110667,
         3,
         714,
         "29.9940",
         "0.0000",
         "89.982000",
         "e3b48ec1-8e67-4ef8-8ee0-8898167a3598",
         "2008-06-01T00:00:00Z"
        ],
        [
         71782,
         110668,
         3,
         956,
         "1430.4420",
         "0.0000",
         "4291.326000",
         "8f00f4bc-cfd1-473f-9fce-191b7eb5f1ad",
         "2008-06-01T00:00:00Z"
        ],
        [
         71782,
         110669,
         1,
         954,
         "1430.4420",
         "0.0000",
         "1430.442000",
         "8d3b14c1-df49-4919-942c-3bb379d7be42",
         "2008-06-01T00:00:00Z"
        ],
        [
         71782,
         110670,
         10,
         712,
         "5.3940",
         "0.0000",
         "53.940000",
         "a7873b73-b47e-4a06-afa4-805342a35e02",
         "2008-06-01T00:00:00Z"
        ],
        [
         71782,
         110671,
         10,
         877,
         "4.7700",
         "0.0000",
         "47.700000",
         "e7cb4bbf-3e8d-4c6e-8c87-c3d5a038266b",
         "2008-06-01T00:00:00Z"
        ],
        [
         71782,
         110672,
         4,
         996,
         "72.8940",
         "0.0000",
         "291.576000",
         "c4d69d25-2f3f-4978-b765-8255d489db8d",
         "2008-06-01T00:00:00Z"
        ],
        [
         71782,
         110673,
         6,
         864,
         "38.1000",
         "0.0000",
         "228.600000",
         "c216d216-86cd-4e33-a713-6a97d344fa91",
         "2008-06-01T00:00:00Z"
        ],
        [
         71782,
         110674,
         3,
         876,
         "72.0000",
         "0.0000",
         "216.000000",
         "fd409a4f-dab6-4499-81d2-07620f4aba08",
         "2008-06-01T00:00:00Z"
        ],
        [
         71782,
         110675,
         4,
         959,
         "445.4100",
         "0.0000",
         "1781.640000",
         "cacd0b0c-270a-42bb-a48e-34a69248b19a",
         "2008-06-01T00:00:00Z"
        ],
        [
         71782,
         110676,
         4,
         971,
         "728.9100",
         "0.0000",
         "2915.640000",
         "5edf45b8-d4fb-4714-957d-9666ea22f415",
         "2008-06-01T00:00:00Z"
        ],
        [
         71782,
         110677,
         6,
         870,
         "2.9940",
         "0.0000",
         "17.964000",
         "dc88bd9d-3de5-49a7-b874-bada950ab284",
         "2008-06-01T00:00:00Z"
        ],
        [
         71782,
         110678,
         1,
         978,
         "445.4100",
         "0.0000",
         "445.410000",
         "8bd27f52-34f9-498d-a838-366179f7075d",
         "2008-06-01T00:00:00Z"
        ],
        [
         71782,
         110679,
         1,
         955,
         "1430.4420",
         "0.0000",
         "1430.442000",
         "1d44bf7e-9c42-4ca1-afd6-e6ddf9d85bc5",
         "2008-06-01T00:00:00Z"
        ],
        [
         71782,
         110680,
         1,
         948,
         "63.9000",
         "0.0000",
         "63.900000",
         "083cdd70-a4df-44fd-863a-19b03deefba4",
         "2008-06-01T00:00:00Z"
        ],
        [
         71782,
         110681,
         1,
         994,
         "32.3940",
         "0.0000",
         "32.394000",
         "8ed3d829-95ad-4bed-8894-9b76d20981b9",
         "2008-06-01T00:00:00Z"
        ],
        [
         71782,
         110682,
         1,
         970,
         "728.9100",
         "0.0000",
         "728.910000",
         "74e94a04-5c2b-4821-8fc7-069204b0ba4a",
         "2008-06-01T00:00:00Z"
        ],
        [
         71782,
         110683,
         2,
         966,
         "1430.4420",
         "0.0000",
         "2860.884000",
         "4e0a7f8e-58da-4b23-8856-980fd461cff8",
         "2008-06-01T00:00:00Z"
        ],
        [
         71782,
         110684,
         4,
         884,
         "32.3940",
         "0.0000",
         "129.576000",
         "5324b298-176e-4e92-9fc6-ed0c4db55235",
         "2008-06-01T00:00:00Z"
        ],
        [
         71782,
         110685,
         2,
         885,
         "602.3460",
         "0.0000",
         "1204.692000",
         "598385dd-ea19-409e-8f17-03ab651165d0",
         "2008-06-01T00:00:00Z"
        ],
        [
         71782,
         110686,
         8,
         715,
         "29.9940",
         "0.0000",
         "239.952000",
         "4a23f5c7-d0c5-4703-8e42-69e9a280e9ef",
         "2008-06-01T00:00:00Z"
        ],
        [
         71782,
         110687,
         3,
         894,
         "72.8760",
         "0.0000",
         "218.628000",
         "eaaae38b-fb67-4509-abbd-fbac1cae2054",
         "2008-06-01T00:00:00Z"
        ],
        [
         71782,
         110688,
         1,
         957,
         "1430.4420",
         "0.0000",
         "1430.442000",
         "8d36d42e-5a61-4aa0-b8b7-a83deeeb3dde",
         "2008-06-01T00:00:00Z"
        ],
        [
         71782,
         110689,
         2,
         967,
         "1430.4420",
         "0.0000",
         "2860.884000",
         "406724b4-4733-4372-a4ac-84f4f493aa7e",
         "2008-06-01T00:00:00Z"
        ],
        [
         71782,
         110690,
         7,
         708,
         "20.9940",
         "0.0000",
         "146.958000",
         "4aa6f3da-060b-4c22-b6b5-3a29c370af8d",
         "2008-06-01T00:00:00Z"
        ],
        [
         71782,
         110691,
         3,
         961,
         "445.4100",
         "0.0000",
         "1336.230000",
         "35ba4320-0ef4-46c4-8e1b-71201d1f4fc5",
         "2008-06-01T00:00:00Z"
        ],
        [
         71782,
         110692,
         2,
         979,
         "445.4100",
         "0.0000",
         "890.820000",
         "bc718813-1d25-49c8-9369-4ec056c040d7",
         "2008-06-01T00:00:00Z"
        ],
        [
         71782,
         110693,
         2,
         958,
         "445.4100",
         "0.0000",
         "890.820000",
         "6a61199f-48c9-4dd1-8fc1-5825a1c8c7ae",
         "2008-06-01T00:00:00Z"
        ],
        [
         71782,
         110694,
         1,
         963,
         "445.4100",
         "0.0000",
         "445.410000",
         "48eada4b-b0a7-4cd4-bd00-e7b8eebbcfde",
         "2008-06-01T00:00:00Z"
        ],
        [
         71782,
         110695,
         1,
         953,
         "728.9100",
         "0.0000",
         "728.910000",
         "8c2be39e-66d9-437d-8d18-233702bc27b5",
         "2008-06-01T00:00:00Z"
        ],
        [
         71782,
         110696,
         2,
         968,
         "1430.4420",
         "0.0000",
         "2860.884000",
         "56f9396b-53f8-4386-8f08-6feb33125913",
         "2008-06-01T00:00:00Z"
        ],
        [
         71782,
         110697,
         2,
         951,
         "242.9940",
         "0.0000",
         "485.988000",
         "35d889d9-676a-4b95-a2ea-28da743c25a7",
         "2008-06-01T00:00:00Z"
        ],
        [
         71782,
         110698,
         2,
         945,
         "54.8940",
         "0.0000",
         "109.788000",
         "2d3aef50-9ace-4b59-be1f-b9d709ecbde2",
         "2008-06-01T00:00:00Z"
        ],
        [
         71782,
         110699,
         1,
         916,
         "31.5840",
         "0.0000",
         "31.584000",
         "20812393-5001-46eb-a7f6-69c537cbb76e",
         "2008-06-01T00:00:00Z"
        ],
        [
         71782,
         110700,
         1,
         886,
         "200.0520",
         "0.0000",
         "200.052000",
         "c09d7227-b5cb-4e1f-8489-c5456c71516e",
         "2008-06-01T00:00:00Z"
        ],
        [
         71782,
         110701,
         1,
         892,
         "602.3460",
         "0.0000",
         "602.346000",
         "00233509-2f29-4f6e-b84c-e1d38536d432",
         "2008-06-01T00:00:00Z"
        ],
        [
         71782,
         110702,
         1,
         893,
         "602.3460",
         "0.0000",
         "602.346000",
         "df0ff5ca-b71f-49ab-852e-f4f1c934ce7a",
         "2008-06-01T00:00:00Z"
        ],
        [
         71782,
         110703,
         6,
         881,
         "32.3940",
         "0.0000",
         "194.364000",
         "87172507-65ee-414f-a162-1bc35f7aff1f",
         "2008-06-01T00:00:00Z"
        ],
        [
         71782,
         110704,
         4,
         883,
         "32.3940",
         "0.0000",
         "129.576000",
         "a62b4ea2-985b-4c65-91d2-94e57a3b1a50",
         "2008-06-01T00:00:00Z"
        ],
        [
         71782,
         110705,
         1,
         859,
         "14.6940",
         "0.0000",
         "14.694000",
         "84402784-60d8-4a3b-b982-97661b060511",
         "2008-06-01T00:00:00Z"
        ],
        [
         71782,
         110706,
         4,
         865,
         "38.1000",
         "0.0000",
         "152.400000",
         "2fde7943-7f34-42e3-a6f6-d8d8ba64103e",
         "2008-06-01T00:00:00Z"
        ],
        [
         71782,
         110707,
         9,
         880,
         "32.9940",
         "0.0000",
         "296.946000",
         "bc88c745-58eb-4681-9381-68fef23d9334",
         "2008-06-01T00:00:00Z"
        ],
        [
         71782,
         110708,
         6,
         711,
         "20.9940",
         "0.0000",
         "125.964000",
         "c4df556d-3a50-4e6d-ba45-4ad9c58cb4d5",
         "2008-06-01T00:00:00Z"
        ],
        [
         71782,
         110709,
         3,
         707,
         "20.9940",
         "0.0000",
         "62.982000",
         "eeff1625-7749-4f51-a01d-3a9776b774f1",
         "2008-06-01T00:00:00Z"
        ],
        [
         71783,
         110710,
         4,
         738,
         "202.3320",
         "0.0000",
         "809.328000",
         "6600bd56-0e8e-4708-88ad-8b81cdde0c66",
         "2008-06-01T00:00:00Z"
        ],
        [
         71783,
         110711,
         6,
         939,
         "37.2540",
         "0.0000",
         "223.524000",
         "49ff2935-0b3d-4bed-91d0-454c71a2cbbe",
         "2008-06-01T00:00:00Z"
        ],
        [
         71783,
         110712,
         3,
         793,
         "1466.0100",
         "0.0000",
         "4398.030000",
         "a13c9fa5-a227-4d2e-b1b9-4982187edc65",
         "2008-06-01T00:00:00Z"
        ],
        [
         71783,
         110713,
         4,
         977,
         "323.9940",
         "0.0000",
         "1295.976000",
         "cf2858d7-f54f-4954-a9f2-87e132352d4e",
         "2008-06-01T00:00:00Z"
        ],
        [
         71783,
         110714,
         9,
         880,
         "32.9940",
         "0.0000",
         "296.946000",
         "bfbd21a7-253a-411a-9fe7-56884370529e",
         "2008-06-01T00:00:00Z"
        ],
        [
         71783,
         110715,
         7,
         859,
         "14.6940",
         "0.0000",
         "102.858000",
         "9ca42575-6bd2-4063-904a-f89dcdbfa00f",
         "2008-06-01T00:00:00Z"
        ],
        [
         71783,
         110716,
         25,
         976,
         "850.4950",
         "0.1000",
         "19136.137500",
         "f9e75552-b9d0-4cfe-ac23-abbffa8da03b",
         "2008-06-01T00:00:00Z"
        ],
        [
         71783,
         110717,
         6,
         714,
         "29.9940",
         "0.0000",
         "179.964000",
         "4003a2a8-7365-4f8b-9fef-53d14b022e42",
         "2008-06-01T00:00:00Z"
        ],
        [
         71783,
         110718,
         8,
         877,
         "4.7700",
         "0.0000",
         "38.160000",
         "3650c9ac-764f-4a62-bd44-c9c302643c49",
         "2008-06-01T00:00:00Z"
        ],
        [
         71783,
         110719,
         1,
         813,
         "72.1620",
         "0.0000",
         "72.162000",
         "15b9c1ad-c3de-474d-ac24-bf2062485549",
         "2008-06-01T00:00:00Z"
        ],
        [
         71783,
         110720,
         6,
         881,
         "32.3940",
         "0.0000",
         "194.364000",
         "7f2dc14d-5f9b-4d50-8a47-98ea49a83ce3",
         "2008-06-01T00:00:00Z"
        ],
        [
         71783,
         110721,
         6,
         873,
         "1.3740",
         "0.0000",
         "8.244000",
         "e447cabb-a2cd-4bb0-9927-a6285927baec",
         "2008-06-01T00:00:00Z"
        ],
        [
         71783,
         110722,
         10,
         870,
         "2.9940",
         "0.0000",
         "29.940000",
         "93d36328-d201-49c3-981b-0082f93f305a",
         "2008-06-01T00:00:00Z"
        ],
        [
         71783,
         110723,
         1,
         822,
         "356.8980",
         "0.0000",
         "356.898000",
         "710710b5-a4be-4a71-8965-b5ac0c3f8732",
         "2008-06-01T00:00:00Z"
        ],
        [
         71783,
         110724,
         1,
         799,
         "672.2940",
         "0.0000",
         "672.294000",
         "bd3a6bd9-2d94-4bb2-b033-2cb2b879b666",
         "2008-06-01T00:00:00Z"
        ],
        [
         71783,
         110725,
         2,
         858,
         "14.6940",
         "0.0000",
         "29.388000",
         "17d042f8-7e71-4c98-a9e8-c06c6b046b9f",
         "2008-06-01T00:00:00Z"
        ],
        [
         71783,
         110726,
         9,
         860,
         "14.6940",
         "0.0000",
         "132.246000",
         "69287890-5cf2-48d4-842e-1af037e8880b",
         "2008-06-01T00:00:00Z"
        ],
        [
         71783,
         110727,
         15,
         864,
         "34.9250",
         "0.0500",
         "497.681250",
         "95523468-78c9-4659-a9e2-408f6139c1bc",
         "2008-06-01T00:00:00Z"
        ],
        [
         71783,
         110728,
         3,
         938,
         "24.2940",
         "0.0000",
         "72.882000",
         "6a7322f6-6e11-45c2-8b9e-004714cd9716",
         "2008-06-01T00:00:00Z"
        ],
        [
         71783,
         110729,
         11,
         883,
         "31.3142",
         "0.0200",
         "337.567076",
         "2bc7d17c-cb36-4acd-a45e-5f6f0336a15a",
         "2008-06-01T00:00:00Z"
        ],
        [
         71783,
         110730,
         6,
         722,
         "202.3320",
         "0.0000",
         "1213.992000",
         "5e9d4a6a-6848-46c3-a6ed-4f5111b94302",
         "2008-06-01T00:00:00Z"
        ],
        [
         71783,
         110731,
         9,
         884,
         "32.3940",
         "0.0000",
         "291.546000",
         "443c9252-f746-4ec0-b838-2b02bee947f6",
         "2008-06-01T00:00:00Z"
        ],
        [
         71783,
         110732,
         7,
         998,
         "323.9940",
         "0.0000",
         "2267.958000",
         "db5fe5ad-ea68-4d7d-9b74-647141ac43b9",
         "2008-06-01T00:00:00Z"
        ],
        [
         71783,
         110733,
         5,
         999,
         "323.9940",
         "0.0000",
         "1619.970000",
         "abdb8300-ff35-45f5-b4ca-9f627024ee30",
         "2008-06-01T00:00:00Z"
        ],
        [
         71783,
         110734,
         4,
         797,
         "672.2940",
         "0.0000",
         "2689.176000",
         "8f859c8b-6996-4e2d-9f0f-0dd0f8fea8db",
         "2008-06-01T00:00:00Z"
        ],
        [
         71783,
         110735,
         1,
         798,
         "672.2940",
         "0.0000",
         "672.294000",
         "d27d3eb4-56c3-4877-9902-264b2a236ead",
         "2008-06-01T00:00:00Z"
        ],
        [
         71783,
         110736,
         1,
         801,
         "672.2940",
         "0.0000",
         "672.294000",
         "b9e766b8-ce94-4452-bb4b-02fa8138b193",
         "2008-06-01T00:00:00Z"
        ],
        [
         71783,
         110737,
         5,
         973,
         "1020.5940",
         "0.0000",
         "5102.970000",
         "22203517-0010-48f1-a777-5bb735226508",
         "2008-06-01T00:00:00Z"
        ],
        [
         71783,
         110738,
         13,
         974,
         "986.5742",
         "0.0200",
         "12568.955308",
         "ac5c5fc9-722c-4e0e-b1ca-bcf60ca65228",
         "2008-06-01T00:00:00Z"
        ],
        [
         71783,
         110739,
         4,
         940,
         "48.5940",
         "0.0000",
         "194.376000",
         "e09a8710-17cf-4e93-8d1b-89ad798e9058",
         "2008-06-01T00:00:00Z"
        ],
        [
         71783,
         110740,
         3,
         835,
         "356.8980",
         "0.0000",
         "1070.694000",
         "cc30cb7e-1260-48a9-8dec-b7d95cc5533e",
         "2008-06-01T00:00:00Z"
        ],
        [
         71783,
         110741,
         4,
         836,
         "356.8980",
         "0.0000",
         "1427.592000",
         "0a9a4bef-bb06-49b2-942d-c8a2cd010a84",
         "2008-06-01T00:00:00Z"
        ],
        [
         71783,
         110742,
         4,
         838,
         "858.9000",
         "0.0000",
         "3435.600000",
         "32e1242c-4571-46f4-b749-fdc8224186c8",
         "2008-06-01T00:00:00Z"
        ],
        [
         71783,
         110743,
         2,
         718,
         "858.9000",
         "0.0000",
         "1717.800000",
         "033a43f7-a88b-4d7c-8308-bc2ae7ec9779",
         "2008-06-01T00:00:00Z"
        ],
        [
         71783,
         110744,
         17,
         715,
         "27.4945",
         "0.0500",
         "444.036175",
         "b67b428a-14e3-4246-8d86-48ceec873e8b",
         "2008-06-01T00:00:00Z"
        ],
        [
         71783,
         110745,
         4,
         716,
         "29.9940",
         "0.0000",
         "119.976000",
         "00c305b1-2d9c-488c-ae9d-983dcda1df06",
         "2008-06-01T00:00:00Z"
        ],
        [
         71783,
         110746,
         1,
         875,
         "5.3940",
         "0.0000",
         "5.394000",
         "115cb3de-68bf-433c-934f-bf6ead607011",
         "2008-06-01T00:00:00Z"
        ],
        [
         71783,
         110747,
         10,
         865,
         "38.1000",
         "0.0000",
         "381.000000",
         "9d1dfc31-93d5-463a-b188-6de1a93a79b1",
         "2008-06-01T00:00:00Z"
        ],
        [
         71783,
         110748,
         11,
         712,
         "5.2142",
         "0.0200",
         "56.209076",
         "4dc0622c-e097-4b89-8466-148fcd95e6fb",
         "2008-06-01T00:00:00Z"
        ],
        [
         71783,
         110749,
         15,
         711,
         "19.2445",
         "0.0500",
         "274.234125",
         "e671d916-17c3-4dd1-b086-2b08b84877e2",
         "2008-06-01T00:00:00Z"
        ],
        [
         71783,
         110750,
         2,
         876,
         "72.0000",
         "0.0000",
         "144.000000",
         "65412ada-b387-4edf-b099-697ccf1f6cf7",
         "2008-06-01T00:00:00Z"
        ],
        [
         71783,
         110751,
         10,
         707,
         "20.9940",
         "0.0000",
         "209.940000",
         "d29b2630-1485-4fde-8a3f-7c677a3cc567",
         "2008-06-01T00:00:00Z"
        ],
        [
         71783,
         110752,
         11,
         708,
         "20.2942",
         "0.0200",
         "218.771476",
         "71f6fbbf-3b29-4f55-abd3-3577d6786501",
         "2008-06-01T00:00:00Z"
        ],
        [
         71784,
         110753,
         2,
         711,
         "20.9940",
         "0.0000",
         "41.988000",
         "d673a683-66c1-41d9-9c18-0f358e135ab7",
         "2008-06-01T00:00:00Z"
        ],
        [
         71784,
         110754,
         8,
         885,
         "602.3460",
         "0.0000",
         "4818.768000",
         "701cac38-5268-4ee9-a66f-ba5e0f578743",
         "2008-06-01T00:00:00Z"
        ],
        [
         71784,
         110755,
         2,
         954,
         "1430.4420",
         "0.0000",
         "2860.884000",
         "0f40ef26-3a85-46a8-bbb2-a9b063aa43dd",
         "2008-06-01T00:00:00Z"
        ],
        [
         71784,
         110756,
         11,
         870,
         "2.8942",
         "0.0200",
         "31.199476",
         "1e115c68-5af1-41d7-86c2-66f881153c6e",
         "2008-06-01T00:00:00Z"
        ],
        [
         71784,
         110757,
         8,
         865,
         "38.1000",
         "0.0000",
         "304.800000",
         "cc0c8be2-787b-4c97-a568-02facc05d55b",
         "2008-06-01T00:00:00Z"
        ],
        [
         71784,
         110758,
         4,
         970,
         "728.9100",
         "0.0000",
         "2915.640000",
         "3b529926-7ae8-4805-bc73-7ba460e5f1ab",
         "2008-06-01T00:00:00Z"
        ],
        [
         71784,
         110759,
         1,
         959,
         "445.4100",
         "0.0000",
         "445.410000",
         "d86eb183-494b-4be4-889d-e14a16c29c9d",
         "2008-06-01T00:00:00Z"
        ],
        [
         71784,
         110760,
         9,
         714,
         "29.9940",
         "0.0000",
         "269.946000",
         "847f0227-ded8-4717-8f6f-ddaeacdd7ca0",
         "2008-06-01T00:00:00Z"
        ],
        [
         71784,
         110761,
         10,
         712,
         "5.3940",
         "0.0000",
         "53.940000",
         "85648cf9-a6e2-4ddc-ab71-d77d8ca27a12",
         "2008-06-01T00:00:00Z"
        ],
        [
         71784,
         110762,
         4,
         972,
         "728.9100",
         "0.0000",
         "2915.640000",
         "25e7c0f0-daea-4761-89fc-9b65caa00648",
         "2008-06-01T00:00:00Z"
        ],
        [
         71784,
         110763,
         8,
         877,
         "4.7700",
         "0.0000",
         "38.160000",
         "5995a5a1-56fe-486a-8ac3-a96630355f1d",
         "2008-06-01T00:00:00Z"
        ],
        [
         71784,
         110764,
         5,
         716,
         "29.9940",
         "0.0000",
         "149.970000",
         "2258c121-5aba-4d57-a8de-56a6493f4547",
         "2008-06-01T00:00:00Z"
        ],
        [
         71784,
         110765,
         11,
         965,
         "430.5630",
         "0.0200",
         "4641.469140",
         "4c8645bc-6da7-465a-a1b8-9795c30920e5",
         "2008-06-01T00:00:00Z"
        ],
        [
         71784,
         110766,
         6,
         958,
         "445.4100",
         "0.0000",
         "2672.460000",
         "7fc16257-7d13-4b56-bcdf-8406522e5ae4",
         "2008-06-01T00:00:00Z"
        ],
        [
         71784,
         110767,
         6,
         876,
         "72.0000",
         "0.0000",
         "432.000000",
         "b488c4c2-e995-4314-bd7f-fbeace20383e",
         "2008-06-01T00:00:00Z"
        ],
        [
         71784,
         110768,
         2,
         899,
         "200.0520",
         "0.0000",
         "400.104000",
         "851a9448-2136-49cd-be6a-1e3cf23ef28a",
         "2008-06-01T00:00:00Z"
        ],
        [
         71784,
         110769,
         6,
         858,
         "14.6940",
         "0.0000",
         "88.164000",
         "9bf2d259-bf1e-4f41-9f37-f56a78e26a19",
         "2008-06-01T00:00:00Z"
        ],
        [
         71784,
         110770,
         4,
         889,
         "602.3460",
         "0.0000",
         "2409.384000",
         "9bb4b933-991f-4f9c-9bed-948c8023e1fb",
         "2008-06-01T00:00:00Z"
        ],
        [
         71784,
         110771,
         7,
         962,
         "445.4100",
         "0.0000",
         "3117.870000",
         "99d641dd-76d5-4334-9e55-99ff78125a94",
         "2008-06-01T00:00:00Z"
        ],
        [
         71784,
         110772,
         2,
         895,
         "200.0520",
         "0.0000",
         "400.104000",
         "61efc1c5-71ce-4537-9ede-723dd776a042",
         "2008-06-01T00:00:00Z"
        ],
        [
         71784,
         110773,
         12,
         957,
         "1382.7606",
         "0.0200",
         "16261.264656",
         "2608abcf-0d68-4adc-9f2f-45b931b3417d",
         "2008-06-01T00:00:00Z"
        ],
        [
         71784,
         110774,
         8,
         979,
         "445.4100",
         "0.0000",
         "3563.280000",
         "3b2dd1d1-ca84-40b0-9ee2-e8d97242760b",
         "2008-06-01T00:00:00Z"
        ],
        [
         71784,
         110775,
         3,
         961,
         "445.4100",
         "0.0000",
         "1336.230000",
         "4cfcd54c-299d-491c-acaa-86f2c2dd98ef",
         "2008-06-01T00:00:00Z"
        ],
        [
         71784,
         110776,
         5,
         963,
         "445.4100",
         "0.0000",
         "2227.050000",
         "16fd8cce-6d5d-4642-9d56-56d146310752",
         "2008-06-01T00:00:00Z"
        ],
        [
         71784,
         110777,
         3,
         953,
         "728.9100",
         "0.0000",
         "2186.730000",
         "5645b1ba-251a-4515-aa9a-6e9e86eea4e7",
         "2008-06-01T00:00:00Z"
        ],
        [
         71784,
         110778,
         4,
         966,
         "1430.4420",
         "0.0000",
         "5721.768000",
         "e09d1eb7-627d-43ed-97aa-96be7fad32c3",
         "2008-06-01T00:00:00Z"
        ],
        [
         71784,
         110779,
         6,
         967,
         "1430.4420",
         "0.0000",
         "8582.652000",
         "0c2a84e5-a1e1-4a00-993f-19b4819afbe0",
         "2008-06-01T00:00:00Z"
        ],
        [
         71784,
         110780,
         10,
         969,
         "1430.4420",
         "0.0000",
         "14304.420000",
         "a8ef0789-b2da-411f-b777-da449389d319",
         "2008-06-01T00:00:00Z"
        ],
        [
         71784,
         110781,
         2,
         955,
         "1430.4420",
         "0.0000",
         "2860.884000",
         "e8902b25-0c11-48f1-ba14-3a18072ae4df",
         "2008-06-01T00:00:00Z"
        ],
        [
         71784,
         110782,
         2,
         916,
         "31.5840",
         "0.0000",
         "63.168000",
         "deefdf0c-fa8e-40ce-ab16-41f51b043796",
         "2008-06-01T00:00:00Z"
        ],
        [
         71784,
         110783,
         3,
         896,
         "200.0520",
         "0.0000",
         "600.156000",
         "ec43c98a-6838-4941-a503-3504b14fbe6b",
         "2008-06-01T00:00:00Z"
        ],
        [
         71784,
         110784,
         1,
         900,
         "200.0520",
         "0.0000",
         "200.052000",
         "3dbf3836-b3a9-48ba-8241-61dea20de368",
         "2008-06-01T00:00:00Z"
        ],
        [
         71784,
         110785,
         1,
         893,
         "602.3460",
         "0.0000",
         "602.346000",
         "061c861d-cada-4884-a224-4de4c00e97e5",
         "2008-06-01T00:00:00Z"
        ],
        [
         71784,
         110786,
         8,
         715,
         "29.9940",
         "0.0000",
         "239.952000",
         "937fc41c-a818-473d-88b4-d5fc930230f1",
         "2008-06-01T00:00:00Z"
        ],
        [
         71784,
         110787,
         6,
         881,
         "32.3940",
         "0.0000",
         "194.364000",
         "281d1c72-ec9a-4e76-93b8-f83217a26a2e",
         "2008-06-01T00:00:00Z"
        ],
        [
         71784,
         110788,
         7,
         883,
         "32.3940",
         "0.0000",
         "226.758000",
         "b7b5995f-02c9-473b-bbb5-1189f87832dc",
         "2008-06-01T00:00:00Z"
        ],
        [
         71784,
         110789,
         3,
         884,
         "32.3940",
         "0.0000",
         "97.182000",
         "0437f448-edf0-48ed-8a88-0743e136d2da",
         "2008-06-01T00:00:00Z"
        ],
        [
         71784,
         110790,
         5,
         859,
         "14.6940",
         "0.0000",
         "73.470000",
         "c466499e-5284-4b18-9e65-6c3628788963",
         "2008-06-01T00:00:00Z"
        ],
        [
         71784,
         110791,
         23,
         864,
         "34.9250",
         "0.0500",
         "763.111250",
         "edb4ed91-8e46-4e5e-9195-e476b7d2ad67",
         "2008-06-01T00:00:00Z"
        ],
        [
         71784,
         110792,
         9,
         880,
         "32.9940",
         "0.0000",
         "296.946000",
         "75f2181f-ad5c-4dc4-a52f-66cd7cac3f7b",
         "2008-06-01T00:00:00Z"
        ],
        [
         71784,
         110793,
         8,
         873,
         "1.3740",
         "0.0000",
         "10.992000",
         "2b64ca83-b2fb-4ae5-a9ec-9ea1637317db",
         "2008-06-01T00:00:00Z"
        ],
        [
         71784,
         110794,
         10,
         707,
         "20.9940",
         "0.0000",
         "209.940000",
         "b86d13fa-2545-4e15-9ab5-1162c1374a6c",
         "2008-06-01T00:00:00Z"
        ],
        [
         71784,
         110795,
         12,
         708,
         "20.2942",
         "0.0200",
         "238.659792",
         "21cbcfa9-6e2e-408f-aa28-ccc84fd4c60e",
         "2008-06-01T00:00:00Z"
        ],
        [
         71796,
         111018,
         1,
         891,
         "602.3460",
         "0.0000",
         "602.346000",
         "dd91e489-43b3-45c6-a4ea-e4d2e650019e",
         "2008-06-01T00:00:00Z"
        ],
        [
         71796,
         111019,
         8,
         972,
         "728.9100",
         "0.0000",
         "5831.280000",
         "46260489-ce09-41d8-ace1-916e300d83c7",
         "2008-06-01T00:00:00Z"
        ],
        [
         71796,
         111020,
         2,
         953,
         "728.9100",
         "0.0000",
         "1457.820000",
         "c163c562-3ed8-41e3-aa66-2a78c3a7bfd0",
         "2008-06-01T00:00:00Z"
        ],
        [
         71796,
         111021,
         1,
         916,
         "31.5840",
         "0.0000",
         "31.584000",
         "18849a7f-ab84-4f0d-9345-a437ad535053",
         "2008-06-01T00:00:00Z"
        ],
        [
         71796,
         111022,
         5,
         958,
         "445.4100",
         "0.0000",
         "2227.050000",
         "13186b9f-42fc-487c-90fd-4ea96d113233",
         "2008-06-01T00:00:00Z"
        ],
        [
         71796,
         111023,
         3,
         957,
         "1430.4420",
         "0.0000",
         "4291.326000",
         "2df66e6b-21e5-43b4-a91c-57ffd3033e18",
         "2008-06-01T00:00:00Z"
        ],
        [
         71796,
         111024,
         9,
         969,
         "1430.4420",
         "0.0000",
         "12873.978000",
         "24d90386-e9b3-40c4-8d04-ef0e2acd30bb",
         "2008-06-01T00:00:00Z"
        ],
        [
         71796,
         111025,
         2,
         967,
         "1430.4420",
         "0.0000",
         "2860.884000",
         "73ff8746-1fa6-425a-99f0-3c76ed213701",
         "2008-06-01T00:00:00Z"
        ],
        [
         71796,
         111026,
         3,
         979,
         "445.4100",
         "0.0000",
         "1336.230000",
         "a96adf3d-3f0e-439f-ad3c-23846c5f51ec",
         "2008-06-01T00:00:00Z"
        ],
        [
         71796,
         111027,
         7,
         961,
         "445.4100",
         "0.0000",
         "3117.870000",
         "32cbb9f9-6747-4b46-89c7-176928a7b742",
         "2008-06-01T00:00:00Z"
        ],
        [
         71796,
         111028,
         2,
         965,
         "445.4100",
         "0.0000",
         "890.820000",
         "4b67900d-8a1a-40d8-b654-73cfa183ac2e",
         "2008-06-01T00:00:00Z"
        ],
        [
         71796,
         111029,
         1,
         970,
         "728.9100",
         "0.0000",
         "728.910000",
         "b94d54d5-1146-43f1-baaa-fd556194977c",
         "2008-06-01T00:00:00Z"
        ],
        [
         71796,
         111030,
         3,
         954,
         "1430.4420",
         "0.0000",
         "4291.326000",
         "c5592d27-d2a7-4687-9d43-f2f034da8e72",
         "2008-06-01T00:00:00Z"
        ],
        [
         71796,
         111031,
         1,
         955,
         "1430.4420",
         "0.0000",
         "1430.442000",
         "9fc48164-06e3-47e3-8455-19f316c3014e",
         "2008-06-01T00:00:00Z"
        ],
        [
         71796,
         111032,
         1,
         947,
         "54.9420",
         "0.0000",
         "54.942000",
         "fdedab25-d27e-4d66-bb57-6a699846c3e9",
         "2008-06-01T00:00:00Z"
        ],
        [
         71796,
         111033,
         1,
         899,
         "200.0520",
         "0.0000",
         "200.052000",
         "77b7e9b6-142a-4216-8c71-f839990f536a",
         "2008-06-01T00:00:00Z"
        ],
        [
         71796,
         111034,
         1,
         900,
         "200.0520",
         "0.0000",
         "200.052000",
         "c54d207b-7ec9-4ea5-b0a7-c37c1d759b03",
         "2008-06-01T00:00:00Z"
        ],
        [
         71796,
         111035,
         6,
         892,
         "602.3460",
         "0.0000",
         "3614.076000",
         "a586daf2-66e3-4eff-93ce-a869c4ec6c51",
         "2008-06-01T00:00:00Z"
        ],
        [
         71796,
         111036,
         1,
         893,
         "602.3460",
         "0.0000",
         "602.346000",
         "afdfded7-2118-465c-8bb2-10a322dc37c2",
         "2008-06-01T00:00:00Z"
        ],
        [
         71796,
         111037,
         2,
         885,
         "602.3460",
         "0.0000",
         "1204.692000",
         "50cafdbf-f978-4791-b376-386c2c22fa0c",
         "2008-06-01T00:00:00Z"
        ],
        [
         71797,
         111038,
         4,
         711,
         "20.9940",
         "0.0000",
         "83.976000",
         "9cfabd92-779c-4893-9dd1-652291e0cd71",
         "2008-06-01T00:00:00Z"
        ],
        [
         71797,
         111039,
         2,
         838,
         "858.9000",
         "0.0000",
         "1717.800000",
         "37ab902a-d1a1-421a-8af0-89d144b28efd",
         "2008-06-01T00:00:00Z"
        ],
        [
         71797,
         111040,
         1,
         714,
         "29.9940",
         "0.0000",
         "29.994000",
         "4c9f3c90-9122-42a6-b423-a3f927d39235",
         "2008-06-01T00:00:00Z"
        ],
        [
         71797,
         111041,
         4,
         940,
         "48.5940",
         "0.0000",
         "194.376000",
         "a0fcd9d2-e73d-4385-8711-f828c4dfcf41",
         "2008-06-01T00:00:00Z"
        ],
        [
         71797,
         111042,
         16,
         883,
         "29.6945",
         "0.0500",
         "451.356400",
         "143b1db9-9435-4eae-bc04-af7b1a1c273c",
         "2008-06-01T00:00:00Z"
        ],
        [
         71797,
         111043,
         2,
         913,
         "31.5840",
         "0.0000",
         "63.168000",
         "11baec31-14ff-4009-b096-228a6687b44e",
         "2008-06-01T00:00:00Z"
        ],
        [
         71797,
         111044,
         1,
         738,
         "202.3320",
         "0.0000",
         "202.332000",
         "dd6121fb-30e7-47ff-af1c-61b8dc690f10",
         "2008-06-01T00:00:00Z"
        ],
        [
         71797,
         111045,
         3,
         722,
         "202.3320",
         "0.0000",
         "606.996000",
         "aab11dce-3367-40c1-885c-cb7e72cdfdb9",
         "2008-06-01T00:00:00Z"
        ],
        [
         71797,
         111046,
         5,
         835,
         "356.8980",
         "0.0000",
         "1784.490000",
         "db72c511-bd31-4e2a-b65a-6dec0aad6aef",
         "2008-06-01T00:00:00Z"
        ],
        [
         71797,
         111047,
         1,
         718,
         "858.9000",
         "0.0000",
         "858.900000",
         "093129d0-66c4-44e6-af23-45f0fbf0f1a4",
         "2008-06-01T00:00:00Z"
        ],
        [
         71797,
         111048,
         4,
         715,
         "29.9940",
         "0.0000",
         "119.976000",
         "14c471c4-b9d4-41a4-a7ad-bf3e339630ad",
         "2008-06-01T00:00:00Z"
        ],
        [
         71797,
         111049,
         5,
         716,
         "29.9940",
         "0.0000",
         "149.970000",
         "66fa5c4e-c414-46db-b1e4-f29c56817d59",
         "2008-06-01T00:00:00Z"
        ],
        [
         71797,
         111050,
         15,
         884,
         "29.6945",
         "0.0500",
         "423.146625",
         "59634b96-5836-4e10-999a-4ecf310b3b16",
         "2008-06-01T00:00:00Z"
        ],
        [
         71797,
         111051,
         3,
         875,
         "5.3940",
         "0.0000",
         "16.182000",
         "37f87a70-ad19-4eed-b396-d1354ae8c08e",
         "2008-06-01T00:00:00Z"
        ],
        [
         71797,
         111052,
         4,
         860,
         "14.6940",
         "0.0000",
         "58.776000",
         "c197d7fc-0cda-4544-9556-0d890655e4f5",
         "2008-06-01T00:00:00Z"
        ],
        [
         71797,
         111053,
         6,
         712,
         "5.3940",
         "0.0000",
         "32.364000",
         "665b21ee-2695-4156-8375-24fdf16bad40",
         "2008-06-01T00:00:00Z"
        ],
        [
         71797,
         111054,
         10,
         880,
         "32.9940",
         "0.0000",
         "329.940000",
         "0992f82c-b35c-4eb3-b1e2-9c1884a48510",
         "2008-06-01T00:00:00Z"
        ],
        [
         71797,
         111055,
         6,
         873,
         "1.3740",
         "0.0000",
         "8.244000",
         "2324b995-dbf2-4792-b55d-5353428729d3",
         "2008-06-01T00:00:00Z"
        ],
        [
         71797,
         111056,
         10,
         876,
         "72.0000",
         "0.0000",
         "720.000000",
         "ed545dab-6bf4-4564-b2dd-2d31eb0ca083",
         "2008-06-01T00:00:00Z"
        ],
        [
         71797,
         111057,
         7,
         977,
         "323.9940",
         "0.0000",
         "2267.958000",
         "0c938fed-3c16-450d-8937-3b039c9ddbd3",
         "2008-06-01T00:00:00Z"
        ],
        [
         71797,
         111058,
         2,
         798,
         "672.2940",
         "0.0000",
         "1344.588000",
         "663dd90e-0941-419b-8493-6bb3e829f803",
         "2008-06-01T00:00:00Z"
        ],
        [
         71797,
         111059,
         2,
         813,
         "72.1620",
         "0.0000",
         "144.324000",
         "7ec7b3b1-62ea-4c3f-a287-6514be816d33",
         "2008-06-01T00:00:00Z"
        ],
        [
         71797,
         111060,
         4,
         939,
         "37.2540",
         "0.0000",
         "149.016000",
         "169f98ef-1ac7-4487-bc92-c801afcf0247",
         "2008-06-01T00:00:00Z"
        ],
        [
         71797,
         111061,
         2,
         801,
         "672.2940",
         "0.0000",
         "1344.588000",
         "137ea529-e91d-404d-a2d4-5edd73467162",
         "2008-06-01T00:00:00Z"
        ],
        [
         71797,
         111062,
         6,
         998,
         "323.9940",
         "0.0000",
         "1943.964000",
         "7bbd426b-5571-43ac-a63b-11b9801d83b5",
         "2008-06-01T00:00:00Z"
        ],
        [
         71797,
         111063,
         4,
         999,
         "323.9940",
         "0.0000",
         "1295.976000",
         "da0727fc-962e-4444-a568-42279de31654",
         "2008-06-01T00:00:00Z"
        ],
        [
         71797,
         111064,
         3,
         938,
         "24.2940",
         "0.0000",
         "72.882000",
         "6bdf723f-e816-45ad-9285-5ed8e6504630",
         "2008-06-01T00:00:00Z"
        ],
        [
         71797,
         111065,
         5,
         794,
         "1466.0100",
         "0.0000",
         "7330.050000",
         "1359b966-f7f4-4d6c-ae6b-99b5896b49b5",
         "2008-06-01T00:00:00Z"
        ],
        [
         71797,
         111066,
         2,
         795,
         "1466.0100",
         "0.0000",
         "2932.020000",
         "45f214a2-543b-4211-95b1-7d2360f217b3",
         "2008-06-01T00:00:00Z"
        ],
        [
         71797,
         111067,
         10,
         797,
         "672.2940",
         "0.0000",
         "6722.940000",
         "5002f031-d85d-42bf-81b0-a7784b9a66cb",
         "2008-06-01T00:00:00Z"
        ],
        [
         71797,
         111068,
         8,
         881,
         "32.3940",
         "0.0000",
         "259.152000",
         "838712d7-960e-40d1-a9b7-a03a3bbd8df0",
         "2008-06-01T00:00:00Z"
        ],
        [
         71797,
         111069,
         1,
         865,
         "38.1000",
         "0.0000",
         "38.100000",
         "68ff53c6-989f-4278-9d34-929348d02b54",
         "2008-06-01T00:00:00Z"
        ],
        [
         71797,
         111070,
         23,
         864,
         "34.9250",
         "0.0500",
         "763.111250",
         "ffe708c1-233c-40b2-8b8e-bc3ce6eea5af",
         "2008-06-01T00:00:00Z"
        ],
        [
         71797,
         111071,
         9,
         976,
         "1020.5940",
         "0.0000",
         "9185.346000",
         "a671b89d-bf3b-4454-b0d7-bbbd2b92af1b",
         "2008-06-01T00:00:00Z"
        ],
        [
         71797,
         111072,
         17,
         877,
         "4.3725",
         "0.0500",
         "70.615875",
         "923b946a-58b9-4bcd-b8ed-f4ac3e043ea5",
         "2008-06-01T00:00:00Z"
        ],
        [
         71797,
         111073,
         6,
         793,
         "1466.0100",
         "0.0000",
         "8796.060000",
         "74f064e2-d628-404b-9661-15623d272b00",
         "2008-06-01T00:00:00Z"
        ],
        [
         71797,
         111074,
         3,
         974,
         "1020.5940",
         "0.0000",
         "3061.782000",
         "fc7535c2-ac75-4926-9422-265bbb1c21b0",
         "2008-06-01T00:00:00Z"
        ],
        [
         71797,
         111075,
         6,
         707,
         "20.9940",
         "0.0000",
         "125.964000",
         "5890dfc7-792b-4562-8844-ec930524778d",
         "2008-06-01T00:00:00Z"
        ],
        [
         71797,
         111076,
         9,
         859,
         "14.6940",
         "0.0000",
         "132.246000",
         "43968865-c807-4590-ab6d-7207504e81f0",
         "2008-06-01T00:00:00Z"
        ],
        [
         71797,
         111077,
         5,
         973,
         "1020.5940",
         "0.0000",
         "5102.970000",
         "2a9a17d3-50b5-45b2-bb62-2cf686b8c523",
         "2008-06-01T00:00:00Z"
        ],
        [
         71797,
         111078,
         11,
         870,
         "2.8942",
         "0.0200",
         "31.199476",
         "e35d5ac3-be8e-4f38-aa41-55dfc2ffe751",
         "2008-06-01T00:00:00Z"
        ],
        [
         71797,
         111079,
         2,
         717,
         "858.9000",
         "0.0000",
         "1717.800000",
         "3b938f0d-7a0f-4209-a324-371e85af3222",
         "2008-06-01T00:00:00Z"
        ],
        [
         71797,
         111080,
         4,
         858,
         "14.6940",
         "0.0000",
         "58.776000",
         "fed97e43-a1ce-4aec-8c2e-14cf69aefcb8",
         "2008-06-01T00:00:00Z"
        ],
        [
         71797,
         111081,
         4,
         836,
         "356.8980",
         "0.0000",
         "1427.592000",
         "2cb6ffb5-8f2c-46e2-a363-d108facaa14d",
         "2008-06-01T00:00:00Z"
        ],
        [
         71797,
         111082,
         12,
         708,
         "20.2942",
         "0.0200",
         "238.659792",
         "d04d7cf4-e057-42bb-9632-bbb00bb2414e",
         "2008-06-01T00:00:00Z"
        ],
        [
         71797,
         111083,
         2,
         822,
         "356.8980",
         "0.0000",
         "713.796000",
         "cbe01f20-ca7e-4c94-83fc-260fc350ea2d",
         "2008-06-01T00:00:00Z"
        ],
        [
         71815,
         111451,
         1,
         738,
         "202.3320",
         "0.0000",
         "202.332000",
         "810e5535-2bdb-4d83-b26d-796e5cff1a1b",
         "2008-06-01T00:00:00Z"
        ],
        [
         71815,
         111452,
         2,
         835,
         "356.8980",
         "0.0000",
         "713.796000",
         "daeb0cfa-807c-46ac-8458-ffccef36b5b2",
         "2008-06-01T00:00:00Z"
        ],
        [
         71815,
         111453,
         2,
         874,
         "5.3940",
         "0.0000",
         "10.788000",
         "09f90eb4-24de-4812-825e-45520602b437",
         "2008-06-01T00:00:00Z"
        ],
        [
         71816,
         111454,
         1,
         953,
         "728.9100",
         "0.0000",
         "728.910000",
         "b8a9720f-1f6f-4fe1-ad4a-ac70d4c905bd",
         "2008-06-01T00:00:00Z"
        ],
        [
         71816,
         111455,
         1,
         954,
         "1430.4420",
         "0.0000",
         "1430.442000",
         "edc86c40-ecbd-45af-912b-ae37d177821a",
         "2008-06-01T00:00:00Z"
        ],
        [
         71816,
         111456,
         2,
         715,
         "29.9940",
         "0.0000",
         "59.988000",
         "9f7406e4-25c9-431a-9891-f419e3f5253d",
         "2008-06-01T00:00:00Z"
        ],
        [
         71816,
         111457,
         4,
         712,
         "5.3940",
         "0.0000",
         "21.576000",
         "ee2ce69c-24eb-47ff-ab6c-bd5aabdcd6e9",
         "2008-06-01T00:00:00Z"
        ],
        [
         71816,
         111458,
         3,
         883,
         "32.3940",
         "0.0000",
         "97.182000",
         "affbb13e-55a8-4fa8-9cd7-809b1816c30d",
         "2008-06-01T00:00:00Z"
        ],
        [
         71816,
         111459,
         1,
         961,
         "445.4100",
         "0.0000",
         "445.410000",
         "b4e5503b-0fd8-4f2f-8675-e899db180280",
         "2008-06-01T00:00:00Z"
        ],
        [
         71816,
         111460,
         1,
         948,
         "63.9000",
         "0.0000",
         "63.900000",
         "5f4f0aa9-acc6-4ef7-ab68-17d0748a5512",
         "2008-06-01T00:00:00Z"
        ],
        [
         71831,
         111790,
         2,
         869,
         "41.9940",
         "0.0000",
         "83.988000",
         "73bc96fd-863b-441c-aeea-25387c2d17ac",
         "2008-06-01T00:00:00Z"
        ],
        [
         71831,
         111791,
         1,
         782,
         "1376.9940",
         "0.0000",
         "1376.994000",
         "a5f59647-47b7-48fc-9000-0830e623981a",
         "2008-06-01T00:00:00Z"
        ],
        [
         71831,
         111792,
         6,
         867,
         "41.9940",
         "0.0000",
         "251.964000",
         "14f64fdc-4405-47b4-965c-b4f506515e8a",
         "2008-06-01T00:00:00Z"
        ],
        [
         71832,
         111793,
         4,
         918,
         "158.4300",
         "0.0000",
         "633.720000",
         "e3fec901-9b4a-4873-8c34-74ae8600eb07",
         "2008-06-01T00:00:00Z"
        ],
        [
         71832,
         111794,
         3,
         983,
         "461.6940",
         "0.0000",
         "1385.082000",
         "039e1c26-d1e9-43ec-a2a9-fb0b73f1872d",
         "2008-06-01T00:00:00Z"
        ],
        [
         71832,
         111795,
         2,
         781,
         "1391.9940",
         "0.0000",
         "2783.988000",
         "2d9a186f-1f0e-40f1-8fa2-d459a04fbf83",
         "2008-06-01T00:00:00Z"
        ],
        [
         71832,
         111796,
         1,
         868,
         "41.9940",
         "0.0000",
         "41.994000",
         "68b0a471-b668-415a-8116-b285b4936395",
         "2008-06-01T00:00:00Z"
        ],
        [
         71832,
         111797,
         1,
         810,
         "72.1620",
         "0.0000",
         "72.162000",
         "e9bd1406-7ee1-4fd3-bb28-6f4b24d76218",
         "2008-06-01T00:00:00Z"
        ],
        [
         71832,
         111798,
         1,
         980,
         "461.6940",
         "0.0000",
         "461.694000",
         "b68452c3-17c1-4e61-bc1e-5543de5a428b",
         "2008-06-01T00:00:00Z"
        ],
        [
         71832,
         111799,
         2,
         925,
         "149.8740",
         "0.0000",
         "299.748000",
         "69af7aad-e3fb-497c-873e-f6f352ce7754",
         "2008-06-01T00:00:00Z"
        ],
        [
         71832,
         111800,
         2,
         985,
         "112.9980",
         "0.4000",
         "135.597600",
         "577d49d5-55b8-4d81-ad28-2ec13757cbc2",
         "2008-06-01T00:00:00Z"
        ],
        [
         71832,
         111801,
         1,
         908,
         "16.2720",
         "0.0000",
         "16.272000",
         "cc96c2f6-041d-4a67-a9fb-97a3cac5852e",
         "2008-06-01T00:00:00Z"
        ],
        [
         71832,
         111802,
         13,
         867,
         "40.5942",
         "0.0200",
         "517.170108",
         "105f870d-f524-49cd-8f81-0ab5267abdbc",
         "2008-06-01T00:00:00Z"
        ],
        [
         71832,
         111803,
         3,
         782,
         "1376.9940",
         "0.0000",
         "4130.982000",
         "a0a904f3-0180-4d33-adaa-54feeb64d511",
         "2008-06-01T00:00:00Z"
        ],
        [
         71832,
         111804,
         1,
         937,
         "48.5940",
         "0.0000",
         "48.594000",
         "ffae3aa6-0642-40fd-a7d1-c1e34d2df97c",
         "2008-06-01T00:00:00Z"
        ],
        [
         71832,
         111805,
         1,
         936,
         "37.2540",
         "0.0000",
         "37.254000",
         "bc390cda-1143-4091-b9a4-52a6ffff0857",
         "2008-06-01T00:00:00Z"
        ],
        [
         71832,
         111806,
         4,
         743,
         "809.7600",
         "0.0000",
         "3239.040000",
         "0db92279-d76a-4868-9a47-856ec58093ab",
         "2008-06-01T00:00:00Z"
        ],
        [
         71832,
         111807,
         5,
         904,
         "218.4540",
         "0.0000",
         "1092.270000",
         "ecb3f9c5-98fe-412b-a24a-a8eabe5dfb0d",
         "2008-06-01T00:00:00Z"
        ],
        [
         71832,
         111808,
         1,
         748,
         "818.7000",
         "0.0000",
         "818.700000",
         "1841e141-8fcb-42ea-9f66-c4e1264fa470",
         "2008-06-01T00:00:00Z"
        ],
        [
         71832,
         111809,
         1,
         910,
         "31.5840",
         "0.0000",
         "31.584000",
         "db5d32d2-526d-4277-a303-5a78e328eaeb",
         "2008-06-01T00:00:00Z"
        ],
        [
         71832,
         111810,
         5,
         784,
         "1376.9940",
         "0.0000",
         "6884.970000",
         "93b73ee3-9095-4bce-b3b4-53fda99c86c8",
         "2008-06-01T00:00:00Z"
        ],
        [
         71832,
         111811,
         2,
         990,
         "323.9940",
         "0.0000",
         "647.988000",
         "77eee4d0-5fac-4b5e-8aa6-e25e32d831ec",
         "2008-06-01T00:00:00Z"
        ],
        [
         71832,
         111812,
         3,
         992,
         "323.9940",
         "0.0000",
         "971.982000",
         "2856eb25-5ae5-4795-ae0d-1c23c9d03dc5",
         "2008-06-01T00:00:00Z"
        ],
        [
         71832,
         111813,
         3,
         984,
         "112.9980",
         "0.4000",
         "203.396400",
         "f8d67ec8-224e-467d-b895-a784e5149611",
         "2008-06-01T00:00:00Z"
        ],
        [
         71832,
         111814,
         1,
         779,
         "1391.9940",
         "0.0000",
         "1391.994000",
         "a76f6c50-6117-4b58-be8e-6ebc0e39ecd1",
         "2008-06-01T00:00:00Z"
        ],
        [
         71832,
         111815,
         1,
         780,
         "1391.9940",
         "0.0000",
         "1391.994000",
         "478b4d27-07e7-4abe-8f61-a6d8cc51f56c",
         "2008-06-01T00:00:00Z"
        ],
        [
         71832,
         111816,
         2,
         944,
         "158.4300",
         "0.0000",
         "316.860000",
         "237090d9-66b6-462b-8fa4-6cc863438eac",
         "2008-06-01T00:00:00Z"
        ],
        [
         71832,
         111817,
         1,
         808,
         "26.7240",
         "0.0000",
         "26.724000",
         "591fb165-4cad-4174-9274-9c807515d84e",
         "2008-06-01T00:00:00Z"
        ],
        [
         71832,
         111818,
         1,
         809,
         "37.1520",
         "0.0000",
         "37.152000",
         "7249f4a6-663a-4470-9119-5ab1de2b9da8",
         "2008-06-01T00:00:00Z"
        ],
        [
         71832,
         111819,
         3,
         935,
         "24.2940",
         "0.0000",
         "72.882000",
         "40108ade-ff72-43cd-a59f-9304173ce49f",
         "2008-06-01T00:00:00Z"
        ],
        [
         71832,
         111820,
         1,
         926,
         "149.8740",
         "0.0000",
         "149.874000",
         "da725a68-7da4-4fe3-b9bd-a23f655ecec0",
         "2008-06-01T00:00:00Z"
        ],
        [
         71832,
         111821,
         6,
         917,
         "158.4300",
         "0.0000",
         "950.580000",
         "cfe87323-1bca-4443-b4e5-05177fd80e7d",
         "2008-06-01T00:00:00Z"
        ],
        [
         71832,
         111822,
         1,
         920,
         "158.4300",
         "0.0000",
         "158.430000",
         "dcf6c95d-a0e4-4272-bff8-6b06b7f9574f",
         "2008-06-01T00:00:00Z"
        ],
        [
         71845,
         112118,
         2,
         988,
         "112.9980",
         "0.4000",
         "135.597600",
         "6ab3b1f6-9144-4d4e-b13e-f531320e72a8",
         "2008-06-01T00:00:00Z"
        ],
        [
         71845,
         112119,
         2,
         948,
         "63.9000",
         "0.0000",
         "127.800000",
         "3a8cd181-cf26-46f3-ad02-d8889ecb8af4",
         "2008-06-01T00:00:00Z"
        ],
        [
         71845,
         112120,
         4,
         904,
         "218.4540",
         "0.0000",
         "873.816000",
         "97d364ac-d0ae-48dc-a823-ba5238ba066e",
         "2008-06-01T00:00:00Z"
        ],
        [
         71845,
         112121,
         3,
         742,
         "818.7000",
         "0.0000",
         "2456.100000",
         "e17b8e63-47d7-4804-98a0-6937e1954316",
         "2008-06-01T00:00:00Z"
        ],
        [
         71845,
         112122,
         2,
         780,
         "1391.9940",
         "0.0000",
         "2783.988000",
         "a5c1d20d-ec2b-417b-a366-722782c1540f",
         "2008-06-01T00:00:00Z"
        ],
        [
         71845,
         112123,
         1,
         945,
         "54.8940",
         "0.0000",
         "54.894000",
         "2a80c324-fdd4-4866-90ed-a023aa53c48c",
         "2008-06-01T00:00:00Z"
        ],
        [
         71845,
         112124,
         3,
         949,
         "105.2940",
         "0.0000",
         "315.882000",
         "a2c4eba1-132b-42ce-8916-b55ec13f343b",
         "2008-06-01T00:00:00Z"
        ],
        [
         71845,
         112125,
         2,
         937,
         "48.5940",
         "0.0000",
         "97.188000",
         "19e76f92-20cf-49d6-9d54-c699f9e48ff3",
         "2008-06-01T00:00:00Z"
        ],
        [
         71845,
         112126,
         2,
         867,
         "41.9940",
         "0.0000",
         "83.988000",
         "1a7ca6cf-03e6-4f90-ad08-f076f604b276",
         "2008-06-01T00:00:00Z"
        ],
        [
         71845,
         112127,
         1,
         748,
         "818.7000",
         "0.0000",
         "818.700000",
         "d57d58ee-fe30-404c-982a-577c3a2ea7f1",
         "2008-06-01T00:00:00Z"
        ],
        [
         71845,
         112128,
         2,
         905,
         "218.4540",
         "0.0000",
         "436.908000",
         "4ac896fa-31bf-46dc-9ded-56652060e36a",
         "2008-06-01T00:00:00Z"
        ],
        [
         71845,
         112129,
         2,
         781,
         "1391.9940",
         "0.0000",
         "2783.988000",
         "533d7438-e8be-4b48-aea9-7148179f1db8",
         "2008-06-01T00:00:00Z"
        ],
        [
         71845,
         112130,
         3,
         869,
         "41.9940",
         "0.0000",
         "125.982000",
         "69dc8ddc-05b1-48c8-ad7d-c9ce63db81a0",
         "2008-06-01T00:00:00Z"
        ],
        [
         71845,
         112131,
         5,
         783,
         "1376.9940",
         "0.0000",
         "6884.970000",
         "70180211-6c38-4bb5-9317-a5784a1410b2",
         "2008-06-01T00:00:00Z"
        ],
        [
         71845,
         112132,
         2,
         784,
         "1376.9940",
         "0.0000",
         "2753.988000",
         "a2674906-53b9-4fe6-bc74-10946e47f110",
         "2008-06-01T00:00:00Z"
        ],
        [
         71845,
         112133,
         1,
         951,
         "242.9940",
         "0.0000",
         "242.994000",
         "a1d9629f-cdbe-4122-bcd8-f3190d8bbf26",
         "2008-06-01T00:00:00Z"
        ],
        [
         71845,
         112134,
         3,
         747,
         "809.7600",
         "0.0000",
         "2429.280000",
         "a5b7a860-b0d0-4b1e-9a06-084fb278b0a6",
         "2008-06-01T00:00:00Z"
        ],
        [
         71845,
         112135,
         1,
         809,
         "37.1520",
         "0.0000",
         "37.152000",
         "cb494781-2ef4-4bda-8eff-27132eb102c4",
         "2008-06-01T00:00:00Z"
        ],
        [
         71845,
         112136,
         2,
         920,
         "158.4300",
         "0.0000",
         "316.860000",
         "08a04e11-cda0-4d3e-8675-514a0097cd65",
         "2008-06-01T00:00:00Z"
        ],
        [
         71845,
         112137,
         2,
         743,
         "809.7600",
         "0.0000",
         "1619.520000",
         "7ace9864-8050-4552-82d1-751c489b18ed",
         "2008-06-01T00:00:00Z"
        ],
        [
         71845,
         112138,
         2,
         715,
         "29.9940",
         "0.0000",
         "59.988000",
         "d9a12019-84e7-4907-bf8e-73bc352e490f",
         "2008-06-01T00:00:00Z"
        ],
        [
         71845,
         112139,
         2,
         944,
         "158.4300",
         "0.0000",
         "316.860000",
         "af14ab19-019b-44ba-ad76-248ee2a086b3",
         "2008-06-01T00:00:00Z"
        ],
        [
         71845,
         112140,
         1,
         808,
         "26.7240",
         "0.0000",
         "26.724000",
         "70ebcded-684d-4bc9-86f9-94cae06b9d28",
         "2008-06-01T00:00:00Z"
        ],
        [
         71845,
         112141,
         8,
         909,
         "23.4840",
         "0.0000",
         "187.872000",
         "46a1c88a-cf3a-45ef-b6ce-8bd817e1553b",
         "2008-06-01T00:00:00Z"
        ],
        [
         71845,
         112142,
         2,
         925,
         "149.8740",
         "0.0000",
         "299.748000",
         "4fc2f213-b5f0-4acf-8948-209292a52dc9",
         "2008-06-01T00:00:00Z"
        ],
        [
         71845,
         112143,
         2,
         782,
         "1376.9940",
         "0.0000",
         "2753.988000",
         "d7fc6800-1702-4636-a46a-e207ad934c43",
         "2008-06-01T00:00:00Z"
        ],
        [
         71845,
         112144,
         2,
         910,
         "31.5840",
         "0.0000",
         "63.168000",
         "74988939-9b08-48b6-89bc-b2baf823d33a",
         "2008-06-01T00:00:00Z"
        ],
        [
         71845,
         112145,
         3,
         996,
         "72.8940",
         "0.0000",
         "218.682000",
         "b26b5113-f4e3-4099-bea0-1b92f27b1ab6",
         "2008-06-01T00:00:00Z"
        ],
        [
         71845,
         112146,
         3,
         779,
         "1391.9940",
         "0.0000",
         "4175.982000",
         "11398c15-e0dc-41a1-8e2f-6b2a230aa639",
         "2008-06-01T00:00:00Z"
        ],
        [
         71845,
         112147,
         4,
         924,
         "149.8740",
         "0.0000",
         "599.496000",
         "dc8a797c-44e2-435f-836d-349b93107d43",
         "2008-06-01T00:00:00Z"
        ],
        [
         71845,
         112148,
         3,
         952,
         "12.1440",
         "0.0000",
         "36.432000",
         "fe78c429-1237-4b76-b709-88abe25c9f21",
         "2008-06-01T00:00:00Z"
        ],
        [
         71846,
         112149,
         2,
         936,
         "37.2540",
         "0.0000",
         "74.508000",
         "7232fd67-8db7-42f8-ad0d-6185299430f1",
         "2008-06-01T00:00:00Z"
        ],
        [
         71846,
         112150,
         1,
         739,
         "818.7000",
         "0.0000",
         "818.700000",
         "9a32772b-9b98-4b22-aa2b-f4e5ffd2a23e",
         "2008-06-01T00:00:00Z"
        ],
        [
         71846,
         112151,
         1,
         984,
         "112.9980",
         "0.4000",
         "67.798800",
         "78557d82-1267-4f7c-93a7-e53ae2a3a85c",
         "2008-06-01T00:00:00Z"
        ],
        [
         71846,
         112152,
         2,
         981,
         "461.6940",
         "0.0000",
         "923.388000",
         "3a26f840-c413-4bef-aeff-b8d6218698e6",
         "2008-06-01T00:00:00Z"
        ],
        [
         71856,
         112331,
         1,
         962,
         "445.4100",
         "0.0000",
         "445.410000",
         "62b3d72f-3586-40ac-a24e-a6f07eb7ca4a",
         "2008-06-01T00:00:00Z"
        ],
        [
         71856,
         112332,
         1,
         945,
         "54.8940",
         "0.0000",
         "54.894000",
         "4733918f-da34-4d30-b5b4-32f7537e609d",
         "2008-06-01T00:00:00Z"
        ],
        [
         71858,
         112359,
         3,
         979,
         "445.4100",
         "0.0000",
         "1336.230000",
         "d480d98b-7a82-4f10-83cc-1eea54303ecf",
         "2008-06-01T00:00:00Z"
        ],
        [
         71858,
         112360,
         1,
         962,
         "445.4100",
         "0.0000",
         "445.410000",
         "f13adc78-c384-40e9-9456-277a736625a8",
         "2008-06-01T00:00:00Z"
        ],
        [
         71858,
         112361,
         1,
         953,
         "728.9100",
         "0.0000",
         "728.910000",
         "6781a019-346f-4f87-a8a3-4727a2528b2e",
         "2008-06-01T00:00:00Z"
        ],
        [
         71858,
         112362,
         2,
         715,
         "29.9940",
         "0.0000",
         "59.988000",
         "00aaea22-fcc5-4df2-9b2b-7b4be5231d7f",
         "2008-06-01T00:00:00Z"
        ],
        [
         71858,
         112363,
         2,
         883,
         "32.3940",
         "0.0000",
         "64.788000",
         "462bc7d6-8cc7-4713-931c-7690019ab694",
         "2008-06-01T00:00:00Z"
        ],
        [
         71858,
         112364,
         1,
         957,
         "1430.4420",
         "0.0000",
         "1430.442000",
         "f3e626bc-a6ab-431e-aa58-e208d07039a5",
         "2008-06-01T00:00:00Z"
        ],
        [
         71858,
         112365,
         2,
         965,
         "445.4100",
         "0.0000",
         "890.820000",
         "835734ab-162b-40fe-84f2-8510c9a68a36",
         "2008-06-01T00:00:00Z"
        ],
        [
         71858,
         112366,
         1,
         952,
         "12.1440",
         "0.0000",
         "12.144000",
         "e7efba7e-f973-492f-bb76-ca5f185c629f",
         "2008-06-01T00:00:00Z"
        ],
        [
         71858,
         112367,
         2,
         948,
         "63.9000",
         "0.0000",
         "127.800000",
         "48a6ceb9-c22b-4574-b9d4-088edbf955c2",
         "2008-06-01T00:00:00Z"
        ],
        [
         71858,
         112368,
         1,
         945,
         "54.8940",
         "0.0000",
         "54.894000",
         "0ca930d8-078d-478a-b94d-d5f15bb07d02",
         "2008-06-01T00:00:00Z"
        ],
        [
         71858,
         112369,
         1,
         972,
         "728.9100",
         "0.0000",
         "728.910000",
         "efe61dff-2006-4ef0-b71e-7ff264555666",
         "2008-06-01T00:00:00Z"
        ],
        [
         71858,
         112370,
         1,
         877,
         "4.7700",
         "0.0000",
         "4.770000",
         "61372f55-e0c1-48b6-9ffa-a19294b96fa9",
         "2008-06-01T00:00:00Z"
        ],
        [
         71858,
         112371,
         1,
         958,
         "445.4100",
         "0.0000",
         "445.410000",
         "8ad90b76-e54d-43c5-ab86-cf3ada30699a",
         "2008-06-01T00:00:00Z"
        ],
        [
         71858,
         112372,
         1,
         969,
         "1430.4420",
         "0.0000",
         "1430.442000",
         "7390968a-51ba-4ef1-810a-4fc528c299ad",
         "2008-06-01T00:00:00Z"
        ],
        [
         71858,
         112373,
         2,
         961,
         "445.4100",
         "0.0000",
         "890.820000",
         "e6d7d002-c0b4-4d61-bc20-37b76f5d2100",
         "2008-06-01T00:00:00Z"
        ],
        [
         71858,
         112374,
         2,
         966,
         "1430.4420",
         "0.0000",
         "2860.884000",
         "f6278ac8-8905-4b81-af98-ab13b53438e9",
         "2008-06-01T00:00:00Z"
        ],
        [
         71858,
         112375,
         3,
         712,
         "5.3940",
         "0.0000",
         "16.182000",
         "1dc5a90d-b949-464d-9615-59a31fc99d43",
         "2008-06-01T00:00:00Z"
        ],
        [
         71863,
         112391,
         11,
         875,
         "5.2142",
         "0.0200",
         "56.209076",
         "a5b6a9c0-d946-41b4-b8b5-5833708e40f1",
         "2008-06-01T00:00:00Z"
        ],
        [
         71863,
         112392,
         2,
         874,
         "5.3940",
         "0.0000",
         "10.788000",
         "54c630c8-28ff-4680-8a71-177af05289de",
         "2008-06-01T00:00:00Z"
        ],
        [
         71863,
         112393,
         2,
         998,
         "323.9940",
         "0.0000",
         "647.988000",
         "6cd9cd06-abdc-4702-a2d8-31158afffae0",
         "2008-06-01T00:00:00Z"
        ],
        [
         71863,
         112394,
         1,
         973,
         "1020.5940",
         "0.0000",
         "1020.594000",
         "e70f8c24-1bae-40c7-ac9e-0f344d73fbe4",
         "2008-06-01T00:00:00Z"
        ],
        [
         71863,
         112395,
         1,
         711,
         "20.9940",
         "0.0000",
         "20.994000",
         "78a6e36f-c8a7-42d7-bb3d-d0228bd380dc",
         "2008-06-01T00:00:00Z"
        ],
        [
         71863,
         112396,
         3,
         999,
         "323.9940",
         "0.0000",
         "971.982000",
         "d9cc6a31-7cff-485f-bb62-c92efa59fd7c",
         "2008-06-01T00:00:00Z"
        ],
        [
         71863,
         112397,
         2,
         938,
         "24.2940",
         "0.0000",
         "48.588000",
         "d64f8fc1-4c97-496d-927a-ee63e3267041",
         "2008-06-01T00:00:00Z"
        ],
        [
         71867,
         112452,
         1,
         717,
         "858.9000",
         "0.0000",
         "858.900000",
         "4a001055-b1f1-414c-88b0-b583daca838b",
         "2008-06-01T00:00:00Z"
        ],
        [
         71885,
         112644,
         3,
         876,
         "72.0000",
         "0.0000",
         "216.000000",
         "a2577a76-e272-49e3-b195-ad8492ddf924",
         "2008-06-01T00:00:00Z"
        ],
        [
         71885,
         112645,
         6,
         884,
         "32.3940",
         "0.0000",
         "194.364000",
         "5699d8a7-525e-491e-81bc-4bac286ead6a",
         "2008-06-01T00:00:00Z"
        ],
        [
         71885,
         112646,
         3,
         864,
         "38.1000",
         "0.0000",
         "114.300000",
         "d4f591cf-eade-4964-b9d7-e6a9332b0fbb",
         "2008-06-01T00:00:00Z"
        ],
        [
         71895,
         112864,
         2,
         909,
         "23.4840",
         "0.0000",
         "46.968000",
         "03821b63-8b09-40b2-9cde-57f250734682",
         "2008-06-01T00:00:00Z"
        ],
        [
         71895,
         112865,
         2,
         715,
         "29.9940",
         "0.0000",
         "59.988000",
         "960a75ef-4ae1-4772-b472-19f4202b30fa",
         "2008-06-01T00:00:00Z"
        ],
        [
         71895,
         112866,
         3,
         864,
         "38.1000",
         "0.0000",
         "114.300000",
         "61ab1ae2-6d87-494b-b89a-76067578eab8",
         "2008-06-01T00:00:00Z"
        ],
        [
         71897,
         112898,
         1,
         966,
         "1430.4420",
         "0.0000",
         "1430.442000",
         "a101cf4e-eb6f-43bd-b4b2-9dfe8288929e",
         "2008-06-01T00:00:00Z"
        ],
        [
         71897,
         112899,
         4,
         979,
         "445.4100",
         "0.0000",
         "1781.640000",
         "3ccc87c5-a8af-4b86-8189-fa484fb0b534",
         "2008-06-01T00:00:00Z"
        ],
        [
         71897,
         112900,
         3,
         969,
         "1430.4420",
         "0.0000",
         "4291.326000",
         "5178aa61-aca4-4def-99ac-ef614bb5d5ea",
         "2008-06-01T00:00:00Z"
        ],
        [
         71897,
         112901,
         3,
         884,
         "32.3940",
         "0.0000",
         "97.182000",
         "0e449034-3815-4952-b7ab-8883687e5e3b",
         "2008-06-01T00:00:00Z"
        ],
        [
         71897,
         112902,
         4,
         712,
         "5.3940",
         "0.0000",
         "21.576000",
         "0a3dff58-2da3-4430-a1d9-b8592db22b5b",
         "2008-06-01T00:00:00Z"
        ],
        [
         71897,
         112903,
         2,
         954,
         "1430.4420",
         "0.0000",
         "2860.884000",
         "aad85fb3-9f73-4531-bd84-5449266d0909",
         "2008-06-01T00:00:00Z"
        ],
        [
         71897,
         112904,
         1,
         864,
         "38.1000",
         "0.0000",
         "38.100000",
         "ece19cf9-7e88-4ac8-88e4-7b47f2ec1a77",
         "2008-06-01T00:00:00Z"
        ],
        [
         71897,
         112905,
         1,
         948,
         "63.9000",
         "0.0000",
         "63.900000",
         "065a6eb9-8a87-41f7-8abe-30fdf5e08e87",
         "2008-06-01T00:00:00Z"
        ],
        [
         71898,
         112906,
         3,
         969,
         "1430.4420",
         "0.0000",
         "4291.326000",
         "f4048a1b-c520-4a15-9c05-efbf4253f7ee",
         "2008-06-01T00:00:00Z"
        ],
        [
         71898,
         112907,
         4,
         978,
         "445.4100",
         "0.0000",
         "1781.640000",
         "1ae7fccb-b9aa-4a2c-a199-7d6d61a7db47",
         "2008-06-01T00:00:00Z"
        ],
        [
         71898,
         112908,
         4,
         996,
         "72.8940",
         "0.0000",
         "291.576000",
         "3d7660f5-b76f-4e68-8508-bf84b9c26317",
         "2008-06-01T00:00:00Z"
        ],
        [
         71898,
         112909,
         6,
         967,
         "1430.4420",
         "0.0000",
         "8582.652000",
         "f97bc897-377f-465a-a3db-31d360e360ef",
         "2008-06-01T00:00:00Z"
        ],
        [
         71898,
         112910,
         3,
         970,
         "728.9100",
         "0.0000",
         "2186.730000",
         "4778038a-7634-44ff-9d24-91b1e4b50a4c",
         "2008-06-01T00:00:00Z"
        ],
        [
         71898,
         112911,
         1,
         956,
         "1430.4420",
         "0.0000",
         "1430.442000",
         "785694cc-4d93-4afb-97db-d67c4a9a344a",
         "2008-06-01T00:00:00Z"
        ],
        [
         71898,
         112912,
         3,
         960,
         "445.4100",
         "0.0000",
         "1336.230000",
         "d63e1c95-390b-4bd3-ac1d-08d434ae4b59",
         "2008-06-01T00:00:00Z"
        ],
        [
         71898,
         112913,
         3,
         994,
         "32.3940",
         "0.0000",
         "97.182000",
         "6338d54e-5983-4139-a3b4-6cce783b99f8",
         "2008-06-01T00:00:00Z"
        ],
        [
         71898,
         112914,
         1,
         959,
         "445.4100",
         "0.0000",
         "445.410000",
         "bb18183b-5006-4fea-ad25-5f61f936e8c7",
         "2008-06-01T00:00:00Z"
        ],
        [
         71898,
         112915,
         4,
         968,
         "1430.4420",
         "0.0000",
         "5721.768000",
         "ddd89c33-48a8-402e-98e3-d1672fa1ab15",
         "2008-06-01T00:00:00Z"
        ],
        [
         71898,
         112916,
         3,
         966,
         "1430.4420",
         "0.0000",
         "4291.326000",
         "4791d9df-bfe6-46ff-8d6c-9af903b3d391",
         "2008-06-01T00:00:00Z"
        ],
        [
         71898,
         112917,
         5,
         972,
         "728.9100",
         "0.0000",
         "3644.550000",
         "905add5b-c258-4a0d-afab-cbdfba6b25f1",
         "2008-06-01T00:00:00Z"
        ],
        [
         71898,
         112918,
         4,
         949,
         "105.2940",
         "0.0000",
         "421.176000",
         "eb88f353-60bc-4f70-b7b6-aed5a2c39764",
         "2008-06-01T00:00:00Z"
        ],
        [
         71898,
         112919,
         1,
         958,
         "445.4100",
         "0.0000",
         "445.410000",
         "b596f5b6-b07f-4aa3-943f-528436bdebd0",
         "2008-06-01T00:00:00Z"
        ],
        [
         71898,
         112920,
         3,
         945,
         "54.8940",
         "0.0000",
         "164.682000",
         "198a573c-b3e4-4cf5-bfa1-309bae00d735",
         "2008-06-01T00:00:00Z"
        ],
        [
         71898,
         112921,
         5,
         971,
         "728.9100",
         "0.0000",
         "3644.550000",
         "c28a061d-3e89-487a-99ae-17be169c6ad3",
         "2008-06-01T00:00:00Z"
        ],
        [
         71898,
         112922,
         2,
         953,
         "728.9100",
         "0.0000",
         "1457.820000",
         "84d31325-130d-47c0-8958-5310eb85f518",
         "2008-06-01T00:00:00Z"
        ],
        [
         71898,
         112923,
         1,
         889,
         "602.3460",
         "0.0000",
         "602.346000",
         "5ca4f84a-bafe-485c-b7ad-897f741f76ce",
         "2008-06-01T00:00:00Z"
        ],
        [
         71898,
         112924,
         1,
         955,
         "1430.4420",
         "0.0000",
         "1430.442000",
         "0a7c971a-d30f-4743-b2ca-5ad8daabbf1b",
         "2008-06-01T00:00:00Z"
        ],
        [
         71898,
         112925,
         3,
         964,
         "445.4100",
         "0.0000",
         "1336.230000",
         "dad93612-0446-4393-8981-36f6e1cc2e8a",
         "2008-06-01T00:00:00Z"
        ],
        [
         71898,
         112926,
         3,
         916,
         "31.5840",
         "0.0000",
         "94.752000",
         "fbcd9efd-97ac-4a2e-8e37-8956519eadb9",
         "2008-06-01T00:00:00Z"
        ],
        [
         71898,
         112927,
         1,
         948,
         "63.9000",
         "0.0000",
         "63.900000",
         "8e3024f1-3732-4121-91e6-69e69057dca9",
         "2008-06-01T00:00:00Z"
        ],
        [
         71898,
         112928,
         3,
         979,
         "445.4100",
         "0.0000",
         "1336.230000",
         "99fadf0a-60b8-4f2f-b3a7-16bbd2435796",
         "2008-06-01T00:00:00Z"
        ],
        [
         71898,
         112929,
         3,
         951,
         "242.9940",
         "0.0000",
         "728.982000",
         "edaafadd-1974-4013-953c-ffa991f8ad06",
         "2008-06-01T00:00:00Z"
        ],
        [
         71898,
         112930,
         3,
         954,
         "1430.4420",
         "0.0000",
         "4291.326000",
         "b2eb253f-ed64-4f38-85dc-11f8ca18867a",
         "2008-06-01T00:00:00Z"
        ],
        [
         71898,
         112931,
         1,
         952,
         "12.1440",
         "0.0000",
         "12.144000",
         "a1f83341-9d19-4fe6-bc71-f7f717f92d2b",
         "2008-06-01T00:00:00Z"
        ],
        [
         71898,
         112932,
         5,
         965,
         "445.4100",
         "0.0000",
         "2227.050000",
         "3c97f6bd-91ec-4c84-9636-e088b415ee51",
         "2008-06-01T00:00:00Z"
        ],
        [
         71898,
         112933,
         2,
         961,
         "445.4100",
         "0.0000",
         "890.820000",
         "e11cf974-4dcc-4a5c-98c3-2de92dd2a15d",
         "2008-06-01T00:00:00Z"
        ],
        [
         71899,
         112934,
         2,
         881,
         "32.3940",
         "0.0000",
         "64.788000",
         "f36b652a-e1da-4cc2-accc-25ade6f5b44c",
         "2008-06-01T00:00:00Z"
        ],
        [
         71899,
         112935,
         1,
         988,
         "112.9980",
         "0.4000",
         "67.798800",
         "5093928d-08c4-44ea-bcc2-8e392c652d5c",
         "2008-06-01T00:00:00Z"
        ],
        [
         71899,
         112936,
         1,
         981,
         "461.6940",
         "0.0000",
         "461.694000",
         "95e3c4a3-c37b-48f7-a362-79a42c4c5ab9",
         "2008-06-01T00:00:00Z"
        ],
        [
         71899,
         112937,
         1,
         743,
         "809.7600",
         "0.0000",
         "809.760000",
         "720691a3-f983-4c72-bca1-baabf1d24914",
         "2008-06-01T00:00:00Z"
        ],
        [
         71899,
         112938,
         1,
         808,
         "26.7240",
         "0.0000",
         "26.724000",
         "d88cc408-801c-4e08-b2d2-5bad00178f10",
         "2008-06-01T00:00:00Z"
        ],
        [
         71899,
         112939,
         2,
         714,
         "29.9940",
         "0.0000",
         "59.988000",
         "8ec0cd34-88bf-48cb-adbe-511d82315647",
         "2008-06-01T00:00:00Z"
        ],
        [
         71899,
         112940,
         2,
         944,
         "158.4300",
         "0.0000",
         "316.860000",
         "6779a375-6da6-40b0-b740-31c9a0974c98",
         "2008-06-01T00:00:00Z"
        ],
        [
         71899,
         112941,
         1,
         937,
         "48.5940",
         "0.0000",
         "48.594000",
         "69efdbde-3ed6-4654-b6c8-0ebfe4070b08",
         "2008-06-01T00:00:00Z"
        ],
        [
         71902,
         112953,
         5,
         780,
         "1391.9940",
         "0.0000",
         "6959.970000",
         "d87846f2-7f8a-4873-b957-b0cf08ab7b42",
         "2008-06-01T00:00:00Z"
        ],
        [
         71902,
         112954,
         2,
         981,
         "461.6940",
         "0.0000",
         "923.388000",
         "e166159a-d1c1-448e-a5b1-cdfb19a39c2e",
         "2008-06-01T00:00:00Z"
        ],
        [
         71902,
         112955,
         1,
         904,
         "218.4540",
         "0.0000",
         "218.454000",
         "17a34bcb-5542-4f94-b709-3a20e6e2d811",
         "2008-06-01T00:00:00Z"
        ],
        [
         71902,
         112956,
         1,
         987,
         "112.9980",
         "0.4000",
         "67.798800",
         "0fee9397-5db3-46aa-ae1b-4ab85321f56a",
         "2008-06-01T00:00:00Z"
        ],
        [
         71902,
         112957,
         7,
         783,
         "1376.9940",
         "0.0000",
         "9638.958000",
         "bfde6ff0-e6fd-488a-aa78-c06c85686878",
         "2008-06-01T00:00:00Z"
        ],
        [
         71902,
         112958,
         5,
         781,
         "1391.9940",
         "0.0000",
         "6959.970000",
         "912c572f-808f-4328-9b19-e9970d4cd78a",
         "2008-06-01T00:00:00Z"
        ],
        [
         71902,
         112959,
         2,
         859,
         "14.6940",
         "0.0000",
         "29.388000",
         "460d0ea3-c6b0-40f4-bc16-88df7913f56f",
         "2008-06-01T00:00:00Z"
        ],
        [
         71902,
         112960,
         7,
         869,
         "41.9940",
         "0.0000",
         "293.958000",
         "9054e260-b941-47a7-8fc9-a59e4e5ce74f",
         "2008-06-01T00:00:00Z"
        ],
        [
         71902,
         112961,
         2,
         908,
         "16.2720",
         "0.0000",
         "32.544000",
         "06f6b747-fd45-4d42-90f5-333489c3189f",
         "2008-06-01T00:00:00Z"
        ],
        [
         71902,
         112962,
         3,
         712,
         "5.3940",
         "0.0000",
         "16.182000",
         "f1f4a541-e3ad-4c02-abb8-a630b1176002",
         "2008-06-01T00:00:00Z"
        ],
        [
         71902,
         112963,
         1,
         925,
         "149.8740",
         "0.0000",
         "149.874000",
         "7e476de8-d4b9-4f25-9107-9629c5d3bc15",
         "2008-06-01T00:00:00Z"
        ],
        [
         71902,
         112964,
         2,
         937,
         "48.5940",
         "0.0000",
         "97.188000",
         "0ab7ddca-db76-4a1e-9aca-4509a63ecfea",
         "2008-06-01T00:00:00Z"
        ],
        [
         71902,
         112965,
         3,
         992,
         "323.9940",
         "0.0000",
         "971.982000",
         "775b1bd0-00b8-45a6-a16b-a26438868755",
         "2008-06-01T00:00:00Z"
        ],
        [
         71902,
         112966,
         3,
         980,
         "461.6940",
         "0.0000",
         "1385.082000",
         "f146012f-1385-4bab-94aa-87c0b98ce494",
         "2008-06-01T00:00:00Z"
        ],
        [
         71902,
         112967,
         3,
         715,
         "29.9940",
         "0.0000",
         "89.982000",
         "47433aff-c5a3-48d5-a7d5-5bf6d4d3010a",
         "2008-06-01T00:00:00Z"
        ],
        [
         71902,
         112968,
         4,
         935,
         "24.2940",
         "0.0000",
         "97.176000",
         "94ece99c-0a6d-4a2e-bddd-4468841e754b",
         "2008-06-01T00:00:00Z"
        ],
        [
         71902,
         112969,
         1,
         989,
         "323.9940",
         "0.0000",
         "323.994000",
         "bd01d5a2-1626-4bd4-9b62-ce1c96603731",
         "2008-06-01T00:00:00Z"
        ],
        [
         71902,
         112970,
         4,
         984,
         "112.9980",
         "0.4000",
         "271.195200",
         "163c96ab-42c9-411c-b8c5-58900e75a3e7",
         "2008-06-01T00:00:00Z"
        ],
        [
         71902,
         112971,
         2,
         982,
         "461.6940",
         "0.0000",
         "923.388000",
         "c5db243b-4b7e-4b4c-9d31-0d0cfd9472db",
         "2008-06-01T00:00:00Z"
        ],
        [
         71902,
         112972,
         8,
         782,
         "1376.9940",
         "0.0000",
         "11015.952000",
         "0a47c60c-01b1-4354-8f74-1449929dd118",
         "2008-06-01T00:00:00Z"
        ],
        [
         71902,
         112973,
         2,
         784,
         "1376.9940",
         "0.0000",
         "2753.988000",
         "6f70d41d-8cbf-4364-833c-77c0b7014246",
         "2008-06-01T00:00:00Z"
        ],
        [
         71902,
         112974,
         1,
         810,
         "72.1620",
         "0.0000",
         "72.162000",
         "79f49a8f-7f7b-459c-b8cb-3331e83803a9",
         "2008-06-01T00:00:00Z"
        ],
        [
         71902,
         112975,
         1,
         926,
         "149.8740",
         "0.0000",
         "149.874000",
         "f2064e41-044a-4a42-9342-fb45be83eb88",
         "2008-06-01T00:00:00Z"
        ],
        [
         71902,
         112976,
         3,
         714,
         "29.9940",
         "0.0000",
         "89.982000",
         "89639f66-7bc7-456d-bdf5-0dbb55bd5a20",
         "2008-06-01T00:00:00Z"
        ],
        [
         71902,
         112977,
         7,
         870,
         "2.9940",
         "0.0000",
         "20.958000",
         "3730d783-97d7-4e3d-8b70-1f0159565d4d",
         "2008-06-01T00:00:00Z"
        ],
        [
         71902,
         112978,
         4,
         876,
         "72.0000",
         "0.0000",
         "288.000000",
         "7c17713b-9924-4aee-8f84-bee799fd4722",
         "2008-06-01T00:00:00Z"
        ],
        [
         71902,
         112979,
         5,
         877,
         "4.7700",
         "0.0000",
         "23.850000",
         "8d6e8186-184b-4db1-81f7-57433979c931",
         "2008-06-01T00:00:00Z"
        ],
        [
         71902,
         112980,
         2,
         707,
         "20.9940",
         "0.0000",
         "41.988000",
         "212b53d0-3779-4fe6-b886-8dda35e8c81a",
         "2008-06-01T00:00:00Z"
        ],
        [
         71902,
         112981,
         1,
         993,
         "323.9940",
         "0.0000",
         "323.994000",
         "252017a4-e2c0-4e3e-a6ad-abdfd8de5108",
         "2008-06-01T00:00:00Z"
        ],
        [
         71902,
         112982,
         6,
         864,
         "38.1000",
         "0.0000",
         "228.600000",
         "5237ea9e-09f6-4b3b-9ed2-dc7d42149a5a",
         "2008-06-01T00:00:00Z"
        ],
        [
         71902,
         112983,
         7,
         867,
         "41.9940",
         "0.0000",
         "293.958000",
         "64242be0-a1c4-473d-b34b-e2b9d8db3a8b",
         "2008-06-01T00:00:00Z"
        ],
        [
         71902,
         112984,
         2,
         809,
         "37.1520",
         "0.0000",
         "74.304000",
         "ef76f770-c6fc-4417-b84b-27f3ebd55265",
         "2008-06-01T00:00:00Z"
        ],
        [
         71902,
         112985,
         3,
         988,
         "112.9980",
         "0.4000",
         "203.396400",
         "09e7a695-3260-483e-91f8-a980441b9dd6",
         "2008-06-01T00:00:00Z"
        ],
        [
         71902,
         112986,
         5,
         880,
         "32.9940",
         "0.0000",
         "164.970000",
         "50d440ae-4e4a-469a-be69-95e238392b28",
         "2008-06-01T00:00:00Z"
        ],
        [
         71902,
         112987,
         1,
         936,
         "37.2540",
         "0.0000",
         "37.254000",
         "f98582c9-3c42-4ad1-8d30-b99fcac7eb20",
         "2008-06-01T00:00:00Z"
        ],
        [
         71902,
         112988,
         4,
         708,
         "20.9940",
         "0.0000",
         "83.976000",
         "d1304741-d1cb-4594-ae1a-9e794699e447",
         "2008-06-01T00:00:00Z"
        ],
        [
         71902,
         112989,
         3,
         779,
         "1391.9940",
         "0.0000",
         "4175.982000",
         "ec3b8e1a-b21e-4c5d-a63f-7a5ed4305fca",
         "2008-06-01T00:00:00Z"
        ],
        [
         71902,
         112990,
         2,
         991,
         "323.9940",
         "0.0000",
         "647.988000",
         "7a5def9c-3416-4403-8a59-459e054d73fc",
         "2008-06-01T00:00:00Z"
        ],
        [
         71902,
         112991,
         5,
         883,
         "32.3940",
         "0.0000",
         "161.970000",
         "5c7825f8-aa47-4c4d-8967-2ce6c0dbf848",
         "2008-06-01T00:00:00Z"
        ],
        [
         71902,
         112992,
         1,
         910,
         "31.5840",
         "0.0000",
         "31.584000",
         "5dcce359-9296-4e50-88ed-0fb20f7c39bb",
         "2008-06-01T00:00:00Z"
        ],
        [
         71902,
         112993,
         2,
         881,
         "32.3940",
         "0.0000",
         "64.788000",
         "7add4116-51d9-4742-8dad-c298e3ecc1ea",
         "2008-06-01T00:00:00Z"
        ],
        [
         71902,
         112994,
         5,
         985,
         "112.9980",
         "0.4000",
         "338.994000",
         "a4bb8550-9d18-4837-9944-92df955382b8",
         "2008-06-01T00:00:00Z"
        ],
        [
         71902,
         112995,
         7,
         711,
         "20.9940",
         "0.0000",
         "146.958000",
         "4b4f24a7-6007-497d-8026-3325412855ff",
         "2008-06-01T00:00:00Z"
        ],
        [
         71902,
         112996,
         1,
         986,
         "112.9980",
         "0.4000",
         "67.798800",
         "a86e4946-b7db-4577-a236-9200fbfdb473",
         "2008-06-01T00:00:00Z"
        ],
        [
         71902,
         112997,
         7,
         748,
         "818.7000",
         "0.0000",
         "5730.900000",
         "f4876c84-dfc4-4405-8d02-9e2645cecd05",
         "2008-06-01T00:00:00Z"
        ],
        [
         71902,
         112998,
         5,
         884,
         "32.3940",
         "0.0000",
         "161.970000",
         "2bc75480-60da-4e31-b776-f7bbef432c16",
         "2008-06-01T00:00:00Z"
        ],
        [
         71902,
         112999,
         2,
         918,
         "158.4300",
         "0.0000",
         "316.860000",
         "a4701e96-2541-4a35-902f-f241f9d79c9d",
         "2008-06-01T00:00:00Z"
        ],
        [
         71902,
         113000,
         3,
         905,
         "218.4540",
         "0.0000",
         "655.362000",
         "3adaf197-93f2-433b-bc8a-35fa25fe4172",
         "2008-06-01T00:00:00Z"
        ],
        [
         71902,
         113001,
         4,
         983,
         "461.6940",
         "0.0000",
         "1846.776000",
         "c58fd8f6-fcbc-4a9a-8919-858db6709ce3",
         "2008-06-01T00:00:00Z"
        ],
        [
         71902,
         113002,
         6,
         865,
         "38.1000",
         "0.0000",
         "228.600000",
         "da8f6556-76de-42ad-8a9a-9664b87b3078",
         "2008-06-01T00:00:00Z"
        ],
        [
         71915,
         113089,
         3,
         836,
         "356.8980",
         "0.0000",
         "1070.694000",
         "aa3c697d-653d-4d79-b824-b92672fe8b9e",
         "2008-06-01T00:00:00Z"
        ],
        [
         71915,
         113090,
         2,
         738,
         "202.3320",
         "0.0000",
         "404.664000",
         "c3888abc-6c37-44f8-95c2-c014f4a8b999",
         "2008-06-01T00:00:00Z"
        ],
        [
         71915,
         113091,
         4,
         938,
         "24.2940",
         "0.0000",
         "97.176000",
         "8176abde-ba97-4615-975b-e8fe6287c1d4",
         "2008-06-01T00:00:00Z"
        ],
        [
         71915,
         113092,
         3,
         939,
         "37.2540",
         "0.0000",
         "111.762000",
         "f36a30a7-8d42-456c-b69f-9886545954d9",
         "2008-06-01T00:00:00Z"
        ],
        [
         71915,
         113093,
         1,
         940,
         "48.5940",
         "0.0000",
         "48.594000",
         "d97c6ced-940a-4a42-a65d-6c6f5397eebf",
         "2008-06-01T00:00:00Z"
        ],
        [
         71917,
         113100,
         7,
         875,
         "5.3940",
         "0.0000",
         "37.758000",
         "4bb98b71-6294-41e4-9413-d9dde375ca5d",
         "2008-06-01T00:00:00Z"
        ],
        [
         71920,
         113139,
         1,
         973,
         "1020.5940",
         "0.0000",
         "1020.594000",
         "ded76307-d4f3-404f-96fe-43087f1deb35",
         "2008-06-01T00:00:00Z"
        ],
        [
         71920,
         113140,
         3,
         938,
         "24.2940",
         "0.0000",
         "72.882000",
         "1da9ef0c-f53b-41b9-bce5-f5b6a379a141",
         "2008-06-01T00:00:00Z"
        ],
        [
         71920,
         113141,
         1,
         976,
         "1020.5940",
         "0.0000",
         "1020.594000",
         "5b5eaf22-87a1-430f-90ba-ee722d285694",
         "2008-06-01T00:00:00Z"
        ],
        [
         71920,
         113142,
         7,
         884,
         "32.3940",
         "0.0000",
         "226.758000",
         "8a1d6fad-637b-4088-81bd-4f8e3e8baf16",
         "2008-06-01T00:00:00Z"
        ],
        [
         71920,
         113143,
         3,
         864,
         "38.1000",
         "0.0000",
         "114.300000",
         "dc08d140-4146-4137-a2fd-950f9e783a1b",
         "2008-06-01T00:00:00Z"
        ],
        [
         71920,
         113144,
         1,
         876,
         "72.0000",
         "0.0000",
         "72.000000",
         "988e64d9-7db3-4613-a379-caba1ef8f752",
         "2008-06-01T00:00:00Z"
        ],
        [
         71923,
         113152,
         1,
         870,
         "2.9940",
         "0.0000",
         "2.994000",
         "ef4f992e-9fd3-4f31-a5a8-e3846de82290",
         "2008-06-01T00:00:00Z"
        ],
        [
         71923,
         113153,
         4,
         874,
         "5.3940",
         "0.0000",
         "21.576000",
         "dbd6974d-a99b-42aa-8ec0-9cdff8657aa7",
         "2008-06-01T00:00:00Z"
        ],
        [
         71923,
         113154,
         14,
         875,
         "5.2142",
         "0.0200",
         "71.538824",
         "c13bedec-b48c-4fc6-ad8e-4c6689eedb48",
         "2008-06-01T00:00:00Z"
        ],
        [
         71935,
         113219,
         3,
         874,
         "5.3940",
         "0.0000",
         "16.182000",
         "040cb9c0-2438-471e-8749-82adad28b256",
         "2008-06-01T00:00:00Z"
        ],
        [
         71935,
         113220,
         1,
         938,
         "24.2940",
         "0.0000",
         "24.294000",
         "4e1898ff-672d-4a55-b3c0-ce524b17364c",
         "2008-06-01T00:00:00Z"
        ],
        [
         71935,
         113221,
         3,
         973,
         "1020.5940",
         "0.0000",
         "3061.782000",
         "feba8a52-dd90-4986-aade-45da31521226",
         "2008-06-01T00:00:00Z"
        ],
        [
         71935,
         113222,
         2,
         976,
         "1020.5940",
         "0.0000",
         "2041.188000",
         "22cdfaf4-d15d-4301-8066-5fa1abfcf987",
         "2008-06-01T00:00:00Z"
        ],
        [
         71935,
         113223,
         1,
         998,
         "323.9940",
         "0.0000",
         "323.994000",
         "a6e8d782-457a-413e-8ed9-ed74f8353cd9",
         "2008-06-01T00:00:00Z"
        ],
        [
         71935,
         113224,
         13,
         875,
         "5.2142",
         "0.0200",
         "66.428908",
         "3c4e9e2d-f15f-4d2a-8155-ab8c21b4f540",
         "2008-06-01T00:00:00Z"
        ],
        [
         71936,
         113225,
         3,
         944,
         "158.4300",
         "0.0000",
         "475.290000",
         "4db061b0-ede3-420b-b998-acd51e94646a",
         "2008-06-01T00:00:00Z"
        ],
        [
         71936,
         113226,
         4,
         985,
         "112.9980",
         "0.4000",
         "271.195200",
         "6df0630c-72a7-4313-b23c-7cd5b7b9e2b2",
         "2008-06-01T00:00:00Z"
        ],
        [
         71936,
         113227,
         4,
         996,
         "72.8940",
         "0.0000",
         "291.576000",
         "59cdb581-d059-4e2f-80b2-4fa82fd61bd5",
         "2008-06-01T00:00:00Z"
        ],
        [
         71936,
         113228,
         1,
         707,
         "20.9940",
         "0.0000",
         "20.994000",
         "b1a85c0f-2891-4412-b866-dad7f0b35796",
         "2008-06-01T00:00:00Z"
        ],
        [
         71936,
         113229,
         1,
         926,
         "149.8740",
         "0.0000",
         "149.874000",
         "b9961e3a-66a8-466f-941b-14a6858e1eb3",
         "2008-06-01T00:00:00Z"
        ],
        [
         71936,
         113230,
         4,
         808,
         "26.7240",
         "0.0000",
         "106.896000",
         "67eb5e24-9231-4656-b19d-27998d6d707d",
         "2008-06-01T00:00:00Z"
        ],
        [
         71936,
         113231,
         5,
         992,
         "323.9940",
         "0.0000",
         "1619.970000",
         "b8acc9dc-2442-429c-b523-34ca3453e3b8",
         "2008-06-01T00:00:00Z"
        ],
        [
         71936,
         113232,
         6,
         951,
         "242.9940",
         "0.0000",
         "1457.964000",
         "0b908c0c-dbee-485a-b45b-52e3d0f789f2",
         "2008-06-01T00:00:00Z"
        ],
        [
         71936,
         113233,
         3,
         780,
         "1391.9940",
         "0.0000",
         "4175.982000",
         "afcdc337-6775-486c-bd57-2e2729931857",
         "2008-06-01T00:00:00Z"
        ],
        [
         71936,
         113234,
         2,
         905,
         "218.4540",
         "0.0000",
         "436.908000",
         "49fb0e07-067c-4426-9718-90b4de97bba1",
         "2008-06-01T00:00:00Z"
        ],
        [
         71936,
         113235,
         4,
         747,
         "809.7600",
         "0.0000",
         "3239.040000",
         "c0ae4496-d051-4f21-80ef-141af9cfa5eb",
         "2008-06-01T00:00:00Z"
        ],
        [
         71936,
         113236,
         14,
         867,
         "40.5942",
         "0.0200",
         "556.952424",
         "59bea0ec-82e3-4e0a-b1a6-5b9a3c1a6fde",
         "2008-06-01T00:00:00Z"
        ],
        [
         71936,
         113237,
         3,
         935,
         "24.2940",
         "0.0000",
         "72.882000",
         "88d401b9-71d2-42d0-abd2-0b2e9fd92a05",
         "2008-06-01T00:00:00Z"
        ],
        [
         71936,
         113238,
         5,
         945,
         "54.8940",
         "0.0000",
         "274.470000",
         "3ced642f-ce77-4dce-9f38-3babc74761e1",
         "2008-06-01T00:00:00Z"
        ],
        [
         71936,
         113239,
         5,
         924,
         "149.8740",
         "0.0000",
         "749.370000",
         "d4ee51cf-e27f-435f-ae5b-2cd7b7dd49ae",
         "2008-06-01T00:00:00Z"
        ],
        [
         71936,
         113240,
         10,
         783,
         "1376.9940",
         "0.0000",
         "13769.940000",
         "e30ea1fb-b08d-43bb-9a15-b6986843b5b4",
         "2008-06-01T00:00:00Z"
        ],
        [
         71936,
         113241,
         5,
         784,
         "1376.9940",
         "0.0000",
         "6884.970000",
         "f238261c-b9d4-40e7-9c98-759e95356eb5",
         "2008-06-01T00:00:00Z"
        ],
        [
         71936,
         113242,
         5,
         748,
         "818.7000",
         "0.0000",
         "4093.500000",
         "67605e69-ca8e-4471-a9ef-5d673b823919",
         "2008-06-01T00:00:00Z"
        ],
        [
         71936,
         113243,
         2,
         981,
         "461.6940",
         "0.0000",
         "923.388000",
         "8dcc225d-27e8-4bf1-9a51-af1a25c6eb7c",
         "2008-06-01T00:00:00Z"
        ],
        [
         71936,
         113244,
         5,
         894,
         "72.8760",
         "0.0000",
         "364.380000",
         "174a0011-0cd4-44ce-952b-cea83042a4c9",
         "2008-06-01T00:00:00Z"
        ],
        [
         71936,
         113245,
         4,
         779,
         "1391.9940",
         "0.0000",
         "5567.976000",
         "4ac5ad5e-e0f0-4a70-ae6b-ce200178e737",
         "2008-06-01T00:00:00Z"
        ],
        [
         71936,
         113246,
         8,
         782,
         "1376.9940",
         "0.0000",
         "11015.952000",
         "f8d766df-bf52-4035-9471-a530c2b56417",
         "2008-06-01T00:00:00Z"
        ],
        [
         71936,
         113247,
         8,
         869,
         "41.9940",
         "0.0000",
         "335.952000",
         "7c317b19-9d14-4b2f-99d5-21870e899106",
         "2008-06-01T00:00:00Z"
        ],
        [
         71936,
         113248,
         3,
         952,
         "12.1440",
         "0.0000",
         "36.432000",
         "12e5ac5b-c887-46e6-8b09-e09203100879",
         "2008-06-01T00:00:00Z"
        ],
        [
         71936,
         113249,
         3,
         949,
         "105.2940",
         "0.0000",
         "315.882000",
         "07e3f54b-ae6b-4384-8f47-dbe2c153bdc0",
         "2008-06-01T00:00:00Z"
        ],
        [
         71936,
         113250,
         5,
         937,
         "48.5940",
         "0.0000",
         "242.970000",
         "3fda5638-56ea-411a-a131-01cf7ac0d771",
         "2008-06-01T00:00:00Z"
        ],
        [
         71936,
         113251,
         3,
         910,
         "31.5840",
         "0.0000",
         "94.752000",
         "b5ed275f-49ed-4f4b-b3a7-48b9cf8dd9be",
         "2008-06-01T00:00:00Z"
        ],
        [
         71936,
         113252,
         2,
         917,
         "158.4300",
         "0.0000",
         "316.860000",
         "8b718b1f-ae37-4d80-b1fb-afefa0fff6e1",
         "2008-06-01T00:00:00Z"
        ],
        [
         71936,
         113253,
         3,
         994,
         "32.3940",
         "0.0000",
         "97.182000",
         "9a169c16-6718-472b-9b8e-f08287ade9b1",
         "2008-06-01T00:00:00Z"
        ],
        [
         71936,
         113254,
         1,
         984,
         "112.9980",
         "0.4000",
         "67.798800",
         "7d17325c-f7f4-4c3b-af45-3759e79be956",
         "2008-06-01T00:00:00Z"
        ],
        [
         71936,
         113255,
         6,
         860,
         "14.6940",
         "0.0000",
         "88.164000",
         "104e28ad-a3bc-4dac-ae92-b5a5dd122cf9",
         "2008-06-01T00:00:00Z"
        ],
        [
         71936,
         113256,
         4,
         948,
         "63.9000",
         "0.0000",
         "255.600000",
         "409bc176-624a-4b03-b400-6a781a689213",
         "2008-06-01T00:00:00Z"
        ],
        [
         71936,
         113257,
         6,
         925,
         "149.8740",
         "0.0000",
         "899.244000",
         "f186ec8c-c220-45f5-b2f1-a71f776de245",
         "2008-06-01T00:00:00Z"
        ],
        [
         71936,
         113258,
         3,
         908,
         "16.2720",
         "0.0000",
         "48.816000",
         "1e23a432-f5bb-43a0-ac92-2b1e7c950a72",
         "2008-06-01T00:00:00Z"
        ],
        [
         71936,
         113259,
         1,
         918,
         "158.4300",
         "0.0000",
         "158.430000",
         "d974fa30-9e36-45f9-9985-1a1105ca87cd",
         "2008-06-01T00:00:00Z"
        ],
        [
         71936,
         113260,
         4,
         743,
         "809.7600",
         "0.0000",
         "3239.040000",
         "60c0ecc9-3f6c-4c08-8dc5-c45a07ddb50f",
         "2008-06-01T00:00:00Z"
        ],
        [
         71936,
         113261,
         5,
         739,
         "818.7000",
         "0.0000",
         "4093.500000",
         "e8e72212-63b5-4456-882c-efa2560c655c",
         "2008-06-01T00:00:00Z"
        ],
        [
         71936,
         113262,
         2,
         987,
         "112.9980",
         "0.4000",
         "135.597600",
         "86838275-4711-435c-8ef9-9fe4924b47d9",
         "2008-06-01T00:00:00Z"
        ],
        [
         71936,
         113263,
         5,
         809,
         "37.1520",
         "0.0000",
         "185.760000",
         "35578b52-dddb-44c6-917c-a9ef90bd8a71",
         "2008-06-01T00:00:00Z"
        ],
        [
         71936,
         113264,
         2,
         904,
         "218.4540",
         "0.0000",
         "436.908000",
         "2000d44e-0e7c-4fba-96d9-55d18727db36",
         "2008-06-01T00:00:00Z"
        ],
        [
         71936,
         113265,
         4,
         781,
         "1391.9940",
         "0.0000",
         "5567.976000",
         "0415bef2-9bab-4e5c-9969-c2732d00934a",
         "2008-06-01T00:00:00Z"
        ],
        [
         71936,
         113266,
         4,
         868,
         "41.9940",
         "0.0000",
         "167.976000",
         "e0f7dc39-cc81-4772-ba44-73b5ed6ef339",
         "2008-06-01T00:00:00Z"
        ],
        [
         71936,
         113267,
         5,
         988,
         "112.9980",
         "0.4000",
         "338.994000",
         "fb4c7e71-f938-4724-ab4a-6a35ccdf8cae",
         "2008-06-01T00:00:00Z"
        ],
        [
         71936,
         113268,
         7,
         742,
         "818.7000",
         "0.0000",
         "5730.900000",
         "f0ba94e6-f0b3-4a55-9091-60c797950ff1",
         "2008-06-01T00:00:00Z"
        ],
        [
         71936,
         113269,
         2,
         936,
         "37.2540",
         "0.0000",
         "74.508000",
         "059cdc00-5c89-4d66-b7bb-e20a777da63a",
         "2008-06-01T00:00:00Z"
        ],
        [
         71936,
         113270,
         6,
         909,
         "23.4840",
         "0.0000",
         "140.904000",
         "505672c0-9af6-4b59-a1c1-8f38198306bf",
         "2008-06-01T00:00:00Z"
        ],
        [
         71938,
         113274,
         5,
         973,
         "1020.5940",
         "0.0000",
         "5102.970000",
         "74d8a174-0fba-421b-abe3-b54c728a1a95",
         "2008-06-01T00:00:00Z"
        ],
        [
         71938,
         113275,
         3,
         876,
         "72.0000",
         "0.0000",
         "216.000000",
         "ac17eb2e-c4b8-44ba-9799-6f814c84e400",
         "2008-06-01T00:00:00Z"
        ],
        [
         71938,
         113276,
         2,
         835,
         "356.8980",
         "0.0000",
         "713.796000",
         "7d738f6b-9825-4fd3-9d21-f703cbced4f4",
         "2008-06-01T00:00:00Z"
        ],
        [
         71938,
         113277,
         3,
         974,
         "1020.5940",
         "0.0000",
         "3061.782000",
         "9b9a0c77-1b13-4411-9dd0-26027faeb98c",
         "2008-06-01T00:00:00Z"
        ],
        [
         71938,
         113278,
         3,
         707,
         "20.9940",
         "0.0000",
         "62.982000",
         "e000afd3-ccd5-43e8-a10f-b29ec9caeaed",
         "2008-06-01T00:00:00Z"
        ],
        [
         71938,
         113279,
         1,
         813,
         "72.1620",
         "0.0000",
         "72.162000",
         "9d987e75-e96d-4903-be36-0ce579a6f47b",
         "2008-06-01T00:00:00Z"
        ],
        [
         71938,
         113280,
         5,
         938,
         "24.2940",
         "0.0000",
         "121.470000",
         "5a1caeaf-6394-432d-906f-b0826d629c65",
         "2008-06-01T00:00:00Z"
        ],
        [
         71938,
         113281,
         5,
         884,
         "32.3940",
         "0.0000",
         "161.970000",
         "eadb5fc1-5744-4a62-825c-406b7f8720a3",
         "2008-06-01T00:00:00Z"
        ],
        [
         71938,
         113282,
         3,
         711,
         "20.9940",
         "0.0000",
         "62.982000",
         "c01d83f5-cf9a-42e6-967c-d6ecc3a59b49",
         "2008-06-01T00:00:00Z"
        ],
        [
         71938,
         113283,
         1,
         712,
         "5.3940",
         "0.0000",
         "5.394000",
         "23a06d81-fc31-45f6-a969-a224fce4f713",
         "2008-06-01T00:00:00Z"
        ],
        [
         71938,
         113284,
         5,
         940,
         "48.5940",
         "0.0000",
         "242.970000",
         "d9d2a6ad-347a-4c99-85a0-f6f037a3a683",
         "2008-06-01T00:00:00Z"
        ],
        [
         71938,
         113285,
         3,
         792,
         "1466.0100",
         "0.0000",
         "4398.030000",
         "375a2df5-72c6-44cd-8789-30eebf0e5b86",
         "2008-06-01T00:00:00Z"
        ],
        [
         71938,
         113286,
         5,
         976,
         "1020.5940",
         "0.0000",
         "5102.970000",
         "d8261319-f5ff-4daa-8698-5a68c2141f61",
         "2008-06-01T00:00:00Z"
        ],
        [
         71938,
         113287,
         5,
         798,
         "672.2940",
         "0.0000",
         "3361.470000",
         "e4931d3e-3865-45d5-ad17-1ecc69f8ed52",
         "2008-06-01T00:00:00Z"
        ],
        [
         71938,
         113288,
         4,
         799,
         "672.2940",
         "0.0000",
         "2689.176000",
         "c9fcf326-d1b9-44a4-b29d-2d1888f6b0fd",
         "2008-06-01T00:00:00Z"
        ],
        [
         71938,
         113289,
         4,
         864,
         "38.1000",
         "0.0000",
         "152.400000",
         "11e8e6a3-eb52-45ca-a51c-3f1fc7a2f272",
         "2008-06-01T00:00:00Z"
        ],
        [
         71938,
         113290,
         2,
         714,
         "29.9940",
         "0.0000",
         "59.988000",
         "87a4ec8d-b4f3-4d27-b025-fc416d8cb7d0",
         "2008-06-01T00:00:00Z"
        ],
        [
         71938,
         113291,
         4,
         999,
         "323.9940",
         "0.0000",
         "1295.976000",
         "2947ca98-a4f4-4554-b725-9c2cd3592916",
         "2008-06-01T00:00:00Z"
        ],
        [
         71938,
         113292,
         5,
         998,
         "323.9940",
         "0.0000",
         "1619.970000",
         "2d0316bd-074d-4f2e-88a5-4e56f84562cd",
         "2008-06-01T00:00:00Z"
        ],
        [
         71938,
         113293,
         6,
         877,
         "4.7700",
         "0.0000",
         "28.620000",
         "b3dd9942-1c2e-4b0e-9b30-dea600b36d0d",
         "2008-06-01T00:00:00Z"
        ],
        [
         71938,
         113294,
         3,
         796,
         "1466.0100",
         "0.0000",
         "4398.030000",
         "1618c9dc-78a0-4936-b89a-c2466681c11f",
         "2008-06-01T00:00:00Z"
        ],
        [
         71938,
         113295,
         5,
         708,
         "20.9940",
         "0.0000",
         "104.970000",
         "964b3375-8ee7-46c6-8149-fb72fc2e267b",
         "2008-06-01T00:00:00Z"
        ],
        [
         71938,
         113296,
         5,
         865,
         "38.1000",
         "0.0000",
         "190.500000",
         "97ae3231-5a4d-4988-9ee5-a33971aaf34d",
         "2008-06-01T00:00:00Z"
        ],
        [
         71938,
         113297,
         3,
         738,
         "202.3320",
         "0.0000",
         "606.996000",
         "64ef2a38-a413-406e-a514-6cf142f25ac6",
         "2008-06-01T00:00:00Z"
        ],
        [
         71938,
         113298,
         3,
         883,
         "32.3940",
         "0.0000",
         "97.182000",
         "2ddebb25-330d-4361-a774-ca44d29d1e05",
         "2008-06-01T00:00:00Z"
        ],
        [
         71938,
         113299,
         3,
         997,
         "323.9940",
         "0.0000",
         "971.982000",
         "0acdeade-29a9-465d-923b-41cc21ecf57b",
         "2008-06-01T00:00:00Z"
        ],
        [
         71938,
         113300,
         8,
         870,
         "2.9940",
         "0.0000",
         "23.952000",
         "efbd0f32-cacc-4429-9477-da43f9a04348",
         "2008-06-01T00:00:00Z"
        ],
        [
         71938,
         113301,
         6,
         795,
         "1466.0100",
         "0.0000",
         "8796.060000",
         "05a28311-9869-486b-ba7b-539517a25f97",
         "2008-06-01T00:00:00Z"
        ],
        [
         71938,
         113302,
         4,
         874,
         "5.3940",
         "0.0000",
         "21.576000",
         "dd5e62b4-0457-457f-8307-82f5c1eee470",
         "2008-06-01T00:00:00Z"
        ],
        [
         71938,
         113303,
         2,
         859,
         "14.6940",
         "0.0000",
         "29.388000",
         "e7c11996-8d83-4515-bfbd-7e380cdb6252",
         "2008-06-01T00:00:00Z"
        ],
        [
         71938,
         113304,
         5,
         975,
         "1020.5940",
         "0.0000",
         "5102.970000",
         "3304dca0-a7a4-43b5-99a2-8c810f7a7161",
         "2008-06-01T00:00:00Z"
        ],
        [
         71938,
         113305,
         3,
         793,
         "1466.0100",
         "0.0000",
         "4398.030000",
         "4b32e728-acdd-47f7-a2b0-1e4adc606e7f",
         "2008-06-01T00:00:00Z"
        ],
        [
         71938,
         113306,
         5,
         797,
         "672.2940",
         "0.0000",
         "3361.470000",
         "cf099a40-bb51-40b1-9fe1-f47a0de2a342",
         "2008-06-01T00:00:00Z"
        ],
        [
         71938,
         113307,
         7,
         880,
         "32.9940",
         "0.0000",
         "230.958000",
         "f003aed8-258b-4234-83bc-ef7516e5b90f",
         "2008-06-01T00:00:00Z"
        ],
        [
         71938,
         113308,
         4,
         977,
         "323.9940",
         "0.0000",
         "1295.976000",
         "e295d970-dbb5-4962-aab5-c836a8953276",
         "2008-06-01T00:00:00Z"
        ],
        [
         71938,
         113309,
         5,
         801,
         "672.2940",
         "0.0000",
         "3361.470000",
         "b80c355f-e9a2-4307-8ee0-3ab7f95c8542",
         "2008-06-01T00:00:00Z"
        ],
        [
         71938,
         113310,
         7,
         794,
         "1466.0100",
         "0.0000",
         "10262.070000",
         "4bc1ad3f-f801-49df-b805-6b67d52952ff",
         "2008-06-01T00:00:00Z"
        ],
        [
         71938,
         113311,
         6,
         939,
         "37.2540",
         "0.0000",
         "223.524000",
         "729832fe-0fdc-449d-a720-f2a96e03b392",
         "2008-06-01T00:00:00Z"
        ],
        [
         71938,
         113312,
         3,
         715,
         "29.9940",
         "0.0000",
         "89.982000",
         "64fbaaab-9400-4664-add7-97115b75b27b",
         "2008-06-01T00:00:00Z"
        ],
        [
         71938,
         113313,
         1,
         881,
         "32.3940",
         "0.0000",
         "32.394000",
         "67d4e5d4-9629-49a6-a6e0-9e1c4cdee3de",
         "2008-06-01T00:00:00Z"
        ],
        [
         71938,
         113314,
         2,
         875,
         "5.3940",
         "0.0000",
         "10.788000",
         "352d06e9-8456-4966-9c73-3f227b023962",
         "2008-06-01T00:00:00Z"
        ],
        [
         71938,
         113315,
         3,
         800,
         "672.2940",
         "0.0000",
         "2016.882000",
         "78f73142-e566-453f-a2b9-88a0fcaf4552",
         "2008-06-01T00:00:00Z"
        ],
        [
         71946,
         113406,
         1,
         916,
         "31.5840",
         "0.0000",
         "31.584000",
         "b571cee0-a90a-4e76-9796-379b55352a28",
         "2008-06-01T00:00:00Z"
        ]
       ],
       "datasetInfos": [],
       "dbfsResultPath": null,
       "isJsonSchema": true,
       "metadata": {
        "dataframeName": "_sqldf",
        "executionCount": 7
       },
       "overflow": false,
       "plotOptions": {
        "customPlotOptions": {},
        "displayType": "table",
        "pivotAggregation": null,
        "pivotColumns": null,
        "xColumns": null,
        "yColumns": null
       },
       "removedWidgets": [],
       "schema": [
        {
         "metadata": "{}",
         "name": "SalesOrderID",
         "type": "\"integer\""
        },
        {
         "metadata": "{}",
         "name": "SalesOrderDetailID",
         "type": "\"integer\""
        },
        {
         "metadata": "{}",
         "name": "OrderQty",
         "type": "\"integer\""
        },
        {
         "metadata": "{}",
         "name": "ProductID",
         "type": "\"integer\""
        },
        {
         "metadata": "{}",
         "name": "UnitPrice",
         "type": "\"decimal(19,4)\""
        },
        {
         "metadata": "{}",
         "name": "UnitPriceDiscount",
         "type": "\"decimal(19,4)\""
        },
        {
         "metadata": "{}",
         "name": "LineTotal",
         "type": "\"decimal(38,6)\""
        },
        {
         "metadata": "{}",
         "name": "rowguid",
         "type": "\"string\""
        },
        {
         "metadata": "{}",
         "name": "ModifiedDate",
         "type": "\"timestamp\""
        }
       ],
       "type": "table"
      }
     },
     "output_type": "display_data"
    }
   ],
   "source": [
    "%sql\n",
    "--select from a temporary view to examine the data\n",
    "select * from salesorderdetail"
   ]
  },
  {
   "cell_type": "markdown",
   "metadata": {
    "application/vnd.databricks.v1+cell": {
     "cellMetadata": {
      "byteLimit": 2048000,
      "rowLimit": 10000
     },
     "inputWidgets": {},
     "nuid": "8adf7f4c-0bc6-41a5-a160-43b033d9c2f6",
     "showTitle": false,
     "title": ""
    }
   },
   "source": [
    "###Write the data to a lakehouse database named dw_test"
   ]
  },
  {
   "cell_type": "code",
   "execution_count": null,
   "metadata": {
    "application/vnd.databricks.v1+cell": {
     "cellMetadata": {
      "byteLimit": 2048000,
      "implicitDf": true,
      "rowLimit": 10000
     },
     "inputWidgets": {},
     "nuid": "592a66d4-1152-4e7e-835c-5e29b55fe423",
     "showTitle": false,
     "title": ""
    }
   },
   "outputs": [
    {
     "data": {
      "text/html": [
       "<style scoped>\n",
       "  .table-result-container {\n",
       "    max-height: 300px;\n",
       "    overflow: auto;\n",
       "  }\n",
       "  table, th, td {\n",
       "    border: 1px solid black;\n",
       "    border-collapse: collapse;\n",
       "  }\n",
       "  th, td {\n",
       "    padding: 5px;\n",
       "  }\n",
       "  th {\n",
       "    text-align: left;\n",
       "  }\n",
       "</style><div class='table-result-container'><table class='table-result'><thead style='background-color: white'><tr></tr></thead><tbody></tbody></table></div>"
      ]
     },
     "metadata": {
      "application/vnd.databricks.v1+output": {
       "addedWidgets": {},
       "aggData": [],
       "aggError": "",
       "aggOverflow": false,
       "aggSchema": [],
       "aggSeriesLimitReached": false,
       "aggType": "",
       "arguments": {},
       "columnCustomDisplayInfos": {},
       "data": [],
       "datasetInfos": [],
       "dbfsResultPath": null,
       "isJsonSchema": true,
       "metadata": {
        "dataframeName": null
       },
       "overflow": false,
       "plotOptions": {
        "customPlotOptions": {},
        "displayType": "table",
        "pivotAggregation": null,
        "pivotColumns": null,
        "xColumns": null,
        "yColumns": null
       },
       "removedWidgets": [],
       "schema": [],
       "type": "table"
      }
     },
     "output_type": "display_data"
    }
   ],
   "source": [
    "%sql\n",
    "--create the database and set it to the current db\n",
    "drop database if exists dw_test cascade;\n",
    "create database dw_test;\n",
    "use dw_test;"
   ]
  },
  {
   "cell_type": "code",
   "execution_count": null,
   "metadata": {
    "application/vnd.databricks.v1+cell": {
     "cellMetadata": {
      "byteLimit": 2048000,
      "rowLimit": 10000
     },
     "inputWidgets": {},
     "nuid": "9a5b202c-4bda-4cfa-a705-a94b8cb597c8",
     "showTitle": false,
     "title": ""
    }
   },
   "outputs": [
    {
     "data": {
      "text/plain": [
       "[FileInfo(path='abfss://raw@jdobbinsidoc.dfs.core.windows.net/saleslt/address/', name='address/', size=0, modificationTime=1715808618000),\n",
       " FileInfo(path='abfss://raw@jdobbinsidoc.dfs.core.windows.net/saleslt/customer/', name='customer/', size=0, modificationTime=1715808615000),\n",
       " FileInfo(path='abfss://raw@jdobbinsidoc.dfs.core.windows.net/saleslt/customeraddress/', name='customeraddress/', size=0, modificationTime=1715808618000),\n",
       " FileInfo(path='abfss://raw@jdobbinsidoc.dfs.core.windows.net/saleslt/product/', name='product/', size=0, modificationTime=1715808616000),\n",
       " FileInfo(path='abfss://raw@jdobbinsidoc.dfs.core.windows.net/saleslt/productcategory/', name='productcategory/', size=0, modificationTime=1715808615000),\n",
       " FileInfo(path='abfss://raw@jdobbinsidoc.dfs.core.windows.net/saleslt/productdescription/', name='productdescription/', size=0, modificationTime=1715808617000),\n",
       " FileInfo(path='abfss://raw@jdobbinsidoc.dfs.core.windows.net/saleslt/productmodel/', name='productmodel/', size=0, modificationTime=1715808615000),\n",
       " FileInfo(path='abfss://raw@jdobbinsidoc.dfs.core.windows.net/saleslt/productmodelproductdescription/', name='productmodelproductdescription/', size=0, modificationTime=1715808618000),\n",
       " FileInfo(path='abfss://raw@jdobbinsidoc.dfs.core.windows.net/saleslt/salesorderdetail/', name='salesorderdetail/', size=0, modificationTime=1715808616000),\n",
       " FileInfo(path='abfss://raw@jdobbinsidoc.dfs.core.windows.net/saleslt/salesorderheader/', name='salesorderheader/', size=0, modificationTime=1715808617000)]"
      ]
     },
     "execution_count": 8,
     "metadata": {},
     "output_type": "execute_result"
    }
   ],
   "source": [
    "pfolders"
   ]
  },
  {
   "cell_type": "code",
   "execution_count": null,
   "metadata": {
    "application/vnd.databricks.v1+cell": {
     "cellMetadata": {
      "byteLimit": 2048000,
      "rowLimit": 10000
     },
     "inputWidgets": {},
     "nuid": "5c251c85-753d-476d-aadd-766268d27834",
     "showTitle": false,
     "title": ""
    }
   },
   "outputs": [
    {
     "name": "stdout",
     "output_type": "stream",
     "text": [
      "creating address table...\n",
      "creating customer table...\n",
      "creating customeraddress table...\n",
      "creating product table...\n",
      "creating productcategory table...\n",
      "creating productdescription table...\n",
      "creating productmodel table...\n",
      "creating productmodelproductdescription table...\n",
      "creating salesorderdetail table...\n",
      "creating salesorderheader table...\n",
      " \n",
      "all tables successfully created\n"
     ]
    }
   ],
   "source": [
    "for f in pfolders:\n",
    "  print('creating ' + f.name.replace('/','') + ' table...')\n",
    "  spark.sql(f\"create table if not exists dw_test.{f.name.replace('/','')} as select * from {f.name.replace('/','')}\")\n",
    "print(' ')\n",
    "print('all tables successfully created')"
   ]
  },
  {
   "cell_type": "code",
   "execution_count": null,
   "metadata": {
    "application/vnd.databricks.v1+cell": {
     "cellMetadata": {
      "byteLimit": 2048000,
      "implicitDf": true,
      "rowLimit": 10000
     },
     "inputWidgets": {},
     "nuid": "c914bdd7-09fe-4a0a-a407-327125fcc2d6",
     "showTitle": false,
     "title": ""
    }
   },
   "outputs": [
    {
     "data": {
      "text/html": [
       "<style scoped>\n",
       "  .table-result-container {\n",
       "    max-height: 300px;\n",
       "    overflow: auto;\n",
       "  }\n",
       "  table, th, td {\n",
       "    border: 1px solid black;\n",
       "    border-collapse: collapse;\n",
       "  }\n",
       "  th, td {\n",
       "    padding: 5px;\n",
       "  }\n",
       "  th {\n",
       "    text-align: left;\n",
       "  }\n",
       "</style><div class='table-result-container'><table class='table-result'><thead style='background-color: white'><tr><th>StateProvince</th><th>count(1)</th></tr></thead><tbody><tr><td>California</td><td>78</td></tr><tr><td>Washington</td><td>51</td></tr><tr><td>Texas</td><td>40</td></tr><tr><td>Oregon</td><td>18</td></tr><tr><td>Michigan</td><td>16</td></tr><tr><td>Illinois</td><td>15</td></tr><tr><td>Arizona</td><td>13</td></tr><tr><td>Missouri</td><td>11</td></tr><tr><td>Colorado</td><td>10</td></tr><tr><td>Utah</td><td>9</td></tr><tr><td>Minnesota</td><td>7</td></tr><tr><td>Nevada</td><td>7</td></tr><tr><td>Wyoming</td><td>5</td></tr><tr><td>Wisconsin</td><td>4</td></tr><tr><td>New Mexico</td><td>3</td></tr><tr><td>Montana</td><td>3</td></tr><tr><td>Idaho</td><td>3</td></tr><tr><td>South Dakota</td><td>2</td></tr></tbody></table></div>"
      ]
     },
     "metadata": {
      "application/vnd.databricks.v1+output": {
       "addedWidgets": {},
       "aggData": [],
       "aggError": "",
       "aggOverflow": false,
       "aggSchema": [],
       "aggSeriesLimitReached": false,
       "aggType": "",
       "arguments": {},
       "columnCustomDisplayInfos": {},
       "data": [
        [
         "California",
         78
        ],
        [
         "Washington",
         51
        ],
        [
         "Texas",
         40
        ],
        [
         "Oregon",
         18
        ],
        [
         "Michigan",
         16
        ],
        [
         "Illinois",
         15
        ],
        [
         "Arizona",
         13
        ],
        [
         "Missouri",
         11
        ],
        [
         "Colorado",
         10
        ],
        [
         "Utah",
         9
        ],
        [
         "Minnesota",
         7
        ],
        [
         "Nevada",
         7
        ],
        [
         "Wyoming",
         5
        ],
        [
         "Wisconsin",
         4
        ],
        [
         "New Mexico",
         3
        ],
        [
         "Montana",
         3
        ],
        [
         "Idaho",
         3
        ],
        [
         "South Dakota",
         2
        ]
       ],
       "datasetInfos": [],
       "dbfsResultPath": null,
       "isJsonSchema": true,
       "metadata": {
        "dataframeName": "_sqldf",
        "executionCount": 10
       },
       "overflow": false,
       "plotOptions": {
        "customPlotOptions": {},
        "displayType": "table",
        "pivotAggregation": null,
        "pivotColumns": null,
        "xColumns": null,
        "yColumns": null
       },
       "removedWidgets": [],
       "schema": [
        {
         "metadata": "{}",
         "name": "StateProvince",
         "type": "\"string\""
        },
        {
         "metadata": "{\"__autoGeneratedAlias\":\"true\"}",
         "name": "count(1)",
         "type": "\"long\""
        }
       ],
       "type": "table"
      }
     },
     "output_type": "display_data"
    },
    {
     "data": {
      "text/plain": [
       "Databricks visualization. Run in Databricks to view."
      ]
     },
     "metadata": {
      "application/vnd.databricks.v1.subcommand+json": {
       "baseErrorDetails": null,
       "bindings": {},
       "collapsed": false,
       "command": "%sql\n--write a sql query to count the number of addresses by state in the United States, display the results as a map visual\nselect StateProvince, count(*) \nfrom address\nwhere CountryRegion = 'United States'\ngroup by StateProvince\norder by 2 desc",
       "commandTitle": "Map Display",
       "commandType": "auto",
       "commandVersion": 0,
       "commentThread": [],
       "commentsVisible": false,
       "contentSha256Hex": null,
       "customPlotOptions": {
        "redashChart": [
         {
          "key": "type",
          "value": "CHOROPLETH"
         },
         {
          "key": "options",
          "value": {
           "clusteringMode": "e",
           "colors": {
            "background": "#ffffff",
            "borders": "#ffffff",
            "max": "#002FB4",
            "min": "#799CFF",
            "noValue": "#dddddd"
           },
           "keyColumn": "StateProvince",
           "legend": {
            "alignText": "right",
            "position": "bottom-left",
            "visible": true
           },
           "mapType": "usa",
           "noValuePlaceholder": "N/A",
           "popup": {
            "enabled": true,
            "template": "Region: <b>{{ @@name }}</b>\n<br>\nValue: <b>{{ @@value }}</b>"
           },
           "steps": 5,
           "targetField": "name",
           "tooltip": {
            "enabled": true,
            "template": "<b>{{ @@name }}</b>: {{ @@value }}"
           },
           "valueColumn": "count(1)",
           "valueFormat": "0,0.00"
          }
         }
        ]
       },
       "datasetPreviewNameToCmdIdMap": {},
       "diffDeletes": [],
       "diffInserts": [],
       "displayType": "redashChart",
       "error": null,
       "errorDetails": null,
       "errorSummary": null,
       "errorTraceType": null,
       "finishTime": 0,
       "globalVars": {},
       "guid": "",
       "height": "auto",
       "hideCommandCode": false,
       "hideCommandResult": false,
       "iPythonMetadata": null,
       "inputWidgets": {},
       "isLockedInExamMode": false,
       "latestUser": "a user",
       "latestUserId": null,
       "listResultMetadata": null,
       "metadata": {
        "byteLimit": 2048000,
        "implicitDf": true,
        "rowLimit": 10000
       },
       "nuid": "4a7d76c6-25b8-45c6-be5d-41ac233b9559",
       "origId": 0,
       "parentHierarchy": [],
       "pivotAggregation": null,
       "pivotColumns": null,
       "position": 2.84375,
       "resultDbfsErrorMessage": null,
       "resultDbfsStatus": "INLINED_IN_TREE",
       "results": null,
       "showCommandTitle": false,
       "startTime": 0,
       "state": "finished",
       "streamStates": {},
       "subcommandOptions": {},
       "submitTime": 0,
       "subtype": "tableResultSubCmd.visualization",
       "tableResultIndex": 0,
       "useConsistentColors": false,
       "version": "CommandV1",
       "width": "auto",
       "workflows": [],
       "xColumns": null,
       "yColumns": null
      }
     },
     "output_type": "display_data"
    }
   ],
   "source": [
    "%sql\n",
    "--write a sql query to count the number of addresses by state in the United States, display the results as a map visual\n",
    "select StateProvince, count(*) \n",
    "from address\n",
    "where CountryRegion = 'United States'\n",
    "group by StateProvince\n",
    "order by 2 desc"
   ]
  },
  {
   "cell_type": "code",
   "execution_count": null,
   "metadata": {
    "application/vnd.databricks.v1+cell": {
     "cellMetadata": {
      "byteLimit": 2048000,
      "rowLimit": 10000
     },
     "inputWidgets": {},
     "nuid": "187c687b-7215-4f5f-9ef9-88c932975fb3",
     "showTitle": false,
     "title": ""
    }
   },
   "outputs": [],
   "source": [
    "# this cell will drop all temporary views in the session (our temporary views share the same name as our tables, so we need to drop the views as we don't have need for them anymore)\n",
    "from pyspark.sql import SparkSession\n",
    "\n",
    "spark = SparkSession.builder.getOrCreate()\n",
    "\n",
    "for v in spark.catalog.listTables():\n",
    "    if v.isTemporary:\n",
    "        spark.catalog.dropTempView(v.name)"
   ]
  },
  {
   "cell_type": "markdown",
   "metadata": {
    "application/vnd.databricks.v1+cell": {
     "cellMetadata": {
      "byteLimit": 2048000,
      "rowLimit": 10000
     },
     "inputWidgets": {},
     "nuid": "ac63e70b-5212-4569-aa48-ad41e2a8e66f",
     "showTitle": false,
     "title": ""
    }
   },
   "source": [
    "###Write some SQL statements to update and delete records from a table you choose"
   ]
  },
  {
   "cell_type": "code",
   "execution_count": null,
   "metadata": {
    "application/vnd.databricks.v1+cell": {
     "cellMetadata": {
      "byteLimit": 2048000,
      "implicitDf": true,
      "rowLimit": 10000
     },
     "inputWidgets": {},
     "nuid": "274d43f7-2678-4bff-b53e-6417e3dc9e0f",
     "showTitle": false,
     "title": ""
    }
   },
   "outputs": [
    {
     "data": {
      "text/html": [
       "<style scoped>\n",
       "  .table-result-container {\n",
       "    max-height: 300px;\n",
       "    overflow: auto;\n",
       "  }\n",
       "  table, th, td {\n",
       "    border: 1px solid black;\n",
       "    border-collapse: collapse;\n",
       "  }\n",
       "  th, td {\n",
       "    padding: 5px;\n",
       "  }\n",
       "  th {\n",
       "    text-align: left;\n",
       "  }\n",
       "</style><div class='table-result-container'><table class='table-result'><thead style='background-color: white'><tr><th>num_affected_rows</th></tr></thead><tbody><tr><td>4</td></tr></tbody></table></div>"
      ]
     },
     "metadata": {
      "application/vnd.databricks.v1+output": {
       "addedWidgets": {},
       "aggData": [],
       "aggError": "",
       "aggOverflow": false,
       "aggSchema": [],
       "aggSeriesLimitReached": false,
       "aggType": "",
       "arguments": {},
       "columnCustomDisplayInfos": {},
       "data": [
        [
         4
        ]
       ],
       "datasetInfos": [],
       "dbfsResultPath": null,
       "isJsonSchema": true,
       "metadata": {
        "dataframeName": "_sqldf",
        "executionCount": 12
       },
       "overflow": false,
       "plotOptions": {
        "customPlotOptions": {},
        "displayType": "table",
        "pivotAggregation": null,
        "pivotColumns": null,
        "xColumns": null,
        "yColumns": null
       },
       "removedWidgets": [],
       "schema": [
        {
         "metadata": "{}",
         "name": "num_affected_rows",
         "type": "\"long\""
        }
       ],
       "type": "table"
      }
     },
     "output_type": "display_data"
    }
   ],
   "source": [
    "%sql\n",
    "--write an update statement\n",
    "update customer set CompanyName = 'Some New Company' where CompanyName = 'Friendly Bike Shop'"
   ]
  },
  {
   "cell_type": "code",
   "execution_count": null,
   "metadata": {
    "application/vnd.databricks.v1+cell": {
     "cellMetadata": {
      "byteLimit": 2048000,
      "implicitDf": true,
      "rowLimit": 10000
     },
     "inputWidgets": {},
     "nuid": "0cb58326-e1bc-4cb0-a7a8-2c109c11855d",
     "showTitle": false,
     "title": ""
    }
   },
   "outputs": [
    {
     "data": {
      "text/html": [
       "<style scoped>\n",
       "  .table-result-container {\n",
       "    max-height: 300px;\n",
       "    overflow: auto;\n",
       "  }\n",
       "  table, th, td {\n",
       "    border: 1px solid black;\n",
       "    border-collapse: collapse;\n",
       "  }\n",
       "  th, td {\n",
       "    padding: 5px;\n",
       "  }\n",
       "  th {\n",
       "    text-align: left;\n",
       "  }\n",
       "</style><div class='table-result-container'><table class='table-result'><thead style='background-color: white'><tr><th>num_affected_rows</th></tr></thead><tbody><tr><td>6</td></tr></tbody></table></div>"
      ]
     },
     "metadata": {
      "application/vnd.databricks.v1+output": {
       "addedWidgets": {},
       "aggData": [],
       "aggError": "",
       "aggOverflow": false,
       "aggSchema": [],
       "aggSeriesLimitReached": false,
       "aggType": "",
       "arguments": {},
       "columnCustomDisplayInfos": {},
       "data": [
        [
         6
        ]
       ],
       "datasetInfos": [],
       "dbfsResultPath": null,
       "isJsonSchema": true,
       "metadata": {
        "dataframeName": "_sqldf",
        "executionCount": 13
       },
       "overflow": false,
       "plotOptions": {
        "customPlotOptions": {},
        "displayType": "table",
        "pivotAggregation": null,
        "pivotColumns": null,
        "xColumns": null,
        "yColumns": null
       },
       "removedWidgets": [],
       "schema": [
        {
         "metadata": "{}",
         "name": "num_affected_rows",
         "type": "\"long\""
        }
       ],
       "type": "table"
      }
     },
     "output_type": "display_data"
    }
   ],
   "source": [
    "%sql\n",
    "-- delete some companies that no longer are our customers\n",
    "delete from customer where CompanyName in ('Roving Sports','General Industries','Mail-Order Outlet');"
   ]
  },
  {
   "cell_type": "code",
   "execution_count": null,
   "metadata": {
    "application/vnd.databricks.v1+cell": {
     "cellMetadata": {
      "byteLimit": 2048000,
      "implicitDf": true,
      "rowLimit": 10000
     },
     "inputWidgets": {},
     "nuid": "1420e72f-fd5e-48cb-b72e-3c6a54a6de04",
     "showTitle": false,
     "title": ""
    }
   },
   "outputs": [
    {
     "data": {
      "text/html": [
       "<style scoped>\n",
       "  .table-result-container {\n",
       "    max-height: 300px;\n",
       "    overflow: auto;\n",
       "  }\n",
       "  table, th, td {\n",
       "    border: 1px solid black;\n",
       "    border-collapse: collapse;\n",
       "  }\n",
       "  th, td {\n",
       "    padding: 5px;\n",
       "  }\n",
       "  th {\n",
       "    text-align: left;\n",
       "  }\n",
       "</style><div class='table-result-container'><table class='table-result'><thead style='background-color: white'><tr><th>num_affected_rows</th><th>num_inserted_rows</th></tr></thead><tbody><tr><td>1</td><td>1</td></tr></tbody></table></div>"
      ]
     },
     "metadata": {
      "application/vnd.databricks.v1+output": {
       "addedWidgets": {},
       "aggData": [],
       "aggError": "",
       "aggOverflow": false,
       "aggSchema": [],
       "aggSeriesLimitReached": false,
       "aggType": "",
       "arguments": {},
       "columnCustomDisplayInfos": {},
       "data": [
        [
         1,
         1
        ]
       ],
       "datasetInfos": [],
       "dbfsResultPath": null,
       "isJsonSchema": true,
       "metadata": {
        "dataframeName": "_sqldf",
        "executionCount": 14
       },
       "overflow": false,
       "plotOptions": {
        "customPlotOptions": {},
        "displayType": "table",
        "pivotAggregation": null,
        "pivotColumns": null,
        "xColumns": null,
        "yColumns": null
       },
       "removedWidgets": [],
       "schema": [
        {
         "metadata": "{}",
         "name": "num_affected_rows",
         "type": "\"long\""
        },
        {
         "metadata": "{}",
         "name": "num_inserted_rows",
         "type": "\"long\""
        }
       ],
       "type": "table"
      }
     },
     "output_type": "display_data"
    }
   ],
   "source": [
    "%sql\n",
    "\n",
    "--insert a new record\n",
    "insert into customer\n",
    "select * from customer where CustomerID = 1\n"
   ]
  },
  {
   "cell_type": "code",
   "execution_count": null,
   "metadata": {
    "application/vnd.databricks.v1+cell": {
     "cellMetadata": {
      "byteLimit": 2048000,
      "implicitDf": true,
      "rowLimit": 10000
     },
     "inputWidgets": {},
     "nuid": "8726d590-33e7-410e-a53a-19b0c81fff83",
     "showTitle": false,
     "title": ""
    }
   },
   "outputs": [
    {
     "data": {
      "text/html": [
       "<style scoped>\n",
       "  .table-result-container {\n",
       "    max-height: 300px;\n",
       "    overflow: auto;\n",
       "  }\n",
       "  table, th, td {\n",
       "    border: 1px solid black;\n",
       "    border-collapse: collapse;\n",
       "  }\n",
       "  th, td {\n",
       "    padding: 5px;\n",
       "  }\n",
       "  th {\n",
       "    text-align: left;\n",
       "  }\n",
       "</style><div class='table-result-container'><table class='table-result'><thead style='background-color: white'><tr><th>version</th><th>timestamp</th><th>userId</th><th>userName</th><th>operation</th><th>operationParameters</th><th>job</th><th>notebook</th><th>clusterId</th><th>readVersion</th><th>isolationLevel</th><th>isBlindAppend</th><th>operationMetrics</th><th>userMetadata</th><th>engineInfo</th></tr></thead><tbody><tr><td>3</td><td>2024-05-18T22:07:57Z</td><td>1182361662310501</td><td>vt-dbx-practice@outlook.com</td><td>WRITE</td><td>Map(mode -> Append, statsOnLoad -> false, partitionBy -> [])</td><td>null</td><td>List(531434962335228)</td><td>0515-181843-d5ocglup</td><td>2</td><td>WriteSerializable</td><td>false</td><td>Map(numFiles -> 1, numOutputRows -> 1, numOutputBytes -> 5000)</td><td>null</td><td>Databricks-Runtime/13.3.x-scala2.12</td></tr><tr><td>2</td><td>2024-05-18T22:07:54Z</td><td>1182361662310501</td><td>vt-dbx-practice@outlook.com</td><td>DELETE</td><td>Map(predicate -> [\"CompanyName#7880 IN (Roving Sports,General Industries,Mail-Order Outlet)\"])</td><td>null</td><td>List(531434962335228)</td><td>0515-181843-d5ocglup</td><td>1</td><td>WriteSerializable</td><td>false</td><td>Map(numRemovedFiles -> 1, numRemovedBytes -> 90616, numCopiedRows -> 841, numDeletionVectorsAdded -> 0, numDeletionVectorsRemoved -> 0, numAddedChangeFiles -> 1, executionTimeMs -> 1667, numDeletedRows -> 6, scanTimeMs -> 856, numAddedFiles -> 1, numAddedBytes -> 90107, rewriteTimeMs -> 811)</td><td>null</td><td>Databricks-Runtime/13.3.x-scala2.12</td></tr><tr><td>1</td><td>2024-05-18T22:07:50Z</td><td>1182361662310501</td><td>vt-dbx-practice@outlook.com</td><td>UPDATE</td><td>Map(predicate -> [\"(CompanyName#6899 = Friendly Bike Shop)\"])</td><td>null</td><td>List(531434962335228)</td><td>0515-181843-d5ocglup</td><td>0</td><td>WriteSerializable</td><td>false</td><td>Map(numRemovedFiles -> 1, numRemovedBytes -> 90387, numCopiedRows -> 843, numDeletionVectorsAdded -> 0, numDeletionVectorsRemoved -> 0, numAddedChangeFiles -> 1, executionTimeMs -> 2796, scanTimeMs -> 1344, numAddedFiles -> 1, numUpdatedRows -> 4, numAddedBytes -> 90616, rewriteTimeMs -> 1430)</td><td>null</td><td>Databricks-Runtime/13.3.x-scala2.12</td></tr><tr><td>0</td><td>2024-05-18T22:07:11Z</td><td>1182361662310501</td><td>vt-dbx-practice@outlook.com</td><td>CREATE TABLE AS SELECT</td><td>Map(partitionBy -> [], description -> null, isManaged -> true, properties -> {\"delta.enableChangeDataFeed\":\"true\"}, statsOnLoad -> false)</td><td>null</td><td>List(531434962335228)</td><td>0515-181843-d5ocglup</td><td>null</td><td>WriteSerializable</td><td>true</td><td>Map(numFiles -> 1, numOutputRows -> 847, numOutputBytes -> 90387)</td><td>null</td><td>Databricks-Runtime/13.3.x-scala2.12</td></tr></tbody></table></div>"
      ]
     },
     "metadata": {
      "application/vnd.databricks.v1+output": {
       "addedWidgets": {},
       "aggData": [],
       "aggError": "",
       "aggOverflow": false,
       "aggSchema": [],
       "aggSeriesLimitReached": false,
       "aggType": "",
       "arguments": {},
       "columnCustomDisplayInfos": {},
       "data": [
        [
         3,
         "2024-05-18T22:07:57Z",
         "1182361662310501",
         "vt-dbx-practice@outlook.com",
         "WRITE",
         {
          "mode": "Append",
          "partitionBy": "[]",
          "statsOnLoad": "false"
         },
         null,
         [
          "531434962335228"
         ],
         "0515-181843-d5ocglup",
         2,
         "WriteSerializable",
         false,
         {
          "numFiles": "1",
          "numOutputBytes": "5000",
          "numOutputRows": "1"
         },
         null,
         "Databricks-Runtime/13.3.x-scala2.12"
        ],
        [
         2,
         "2024-05-18T22:07:54Z",
         "1182361662310501",
         "vt-dbx-practice@outlook.com",
         "DELETE",
         {
          "predicate": "[\"CompanyName#7880 IN (Roving Sports,General Industries,Mail-Order Outlet)\"]"
         },
         null,
         [
          "531434962335228"
         ],
         "0515-181843-d5ocglup",
         1,
         "WriteSerializable",
         false,
         {
          "executionTimeMs": "1667",
          "numAddedBytes": "90107",
          "numAddedChangeFiles": "1",
          "numAddedFiles": "1",
          "numCopiedRows": "841",
          "numDeletedRows": "6",
          "numDeletionVectorsAdded": "0",
          "numDeletionVectorsRemoved": "0",
          "numRemovedBytes": "90616",
          "numRemovedFiles": "1",
          "rewriteTimeMs": "811",
          "scanTimeMs": "856"
         },
         null,
         "Databricks-Runtime/13.3.x-scala2.12"
        ],
        [
         1,
         "2024-05-18T22:07:50Z",
         "1182361662310501",
         "vt-dbx-practice@outlook.com",
         "UPDATE",
         {
          "predicate": "[\"(CompanyName#6899 = Friendly Bike Shop)\"]"
         },
         null,
         [
          "531434962335228"
         ],
         "0515-181843-d5ocglup",
         0,
         "WriteSerializable",
         false,
         {
          "executionTimeMs": "2796",
          "numAddedBytes": "90616",
          "numAddedChangeFiles": "1",
          "numAddedFiles": "1",
          "numCopiedRows": "843",
          "numDeletionVectorsAdded": "0",
          "numDeletionVectorsRemoved": "0",
          "numRemovedBytes": "90387",
          "numRemovedFiles": "1",
          "numUpdatedRows": "4",
          "rewriteTimeMs": "1430",
          "scanTimeMs": "1344"
         },
         null,
         "Databricks-Runtime/13.3.x-scala2.12"
        ],
        [
         0,
         "2024-05-18T22:07:11Z",
         "1182361662310501",
         "vt-dbx-practice@outlook.com",
         "CREATE TABLE AS SELECT",
         {
          "description": null,
          "isManaged": "true",
          "partitionBy": "[]",
          "properties": "{\"delta.enableChangeDataFeed\":\"true\"}",
          "statsOnLoad": "false"
         },
         null,
         [
          "531434962335228"
         ],
         "0515-181843-d5ocglup",
         null,
         "WriteSerializable",
         true,
         {
          "numFiles": "1",
          "numOutputBytes": "90387",
          "numOutputRows": "847"
         },
         null,
         "Databricks-Runtime/13.3.x-scala2.12"
        ]
       ],
       "datasetInfos": [],
       "dbfsResultPath": null,
       "isJsonSchema": true,
       "metadata": {
        "dataframeName": "_sqldf",
        "executionCount": 15
       },
       "overflow": false,
       "plotOptions": {
        "customPlotOptions": {},
        "displayType": "table",
        "pivotAggregation": null,
        "pivotColumns": null,
        "xColumns": null,
        "yColumns": null
       },
       "removedWidgets": [],
       "schema": [
        {
         "metadata": "{}",
         "name": "version",
         "type": "\"long\""
        },
        {
         "metadata": "{}",
         "name": "timestamp",
         "type": "\"timestamp\""
        },
        {
         "metadata": "{}",
         "name": "userId",
         "type": "\"string\""
        },
        {
         "metadata": "{}",
         "name": "userName",
         "type": "\"string\""
        },
        {
         "metadata": "{}",
         "name": "operation",
         "type": "\"string\""
        },
        {
         "metadata": "{}",
         "name": "operationParameters",
         "type": "{\"type\":\"map\",\"keyType\":\"string\",\"valueType\":\"string\",\"valueContainsNull\":true}"
        },
        {
         "metadata": "{}",
         "name": "job",
         "type": "{\"type\":\"struct\",\"fields\":[{\"name\":\"jobId\",\"type\":\"string\",\"nullable\":true,\"metadata\":{}},{\"name\":\"jobName\",\"type\":\"string\",\"nullable\":true,\"metadata\":{}},{\"name\":\"jobRunId\",\"type\":\"string\",\"nullable\":true,\"metadata\":{}},{\"name\":\"runId\",\"type\":\"string\",\"nullable\":true,\"metadata\":{}},{\"name\":\"jobOwnerId\",\"type\":\"string\",\"nullable\":true,\"metadata\":{}},{\"name\":\"triggerType\",\"type\":\"string\",\"nullable\":true,\"metadata\":{}}]}"
        },
        {
         "metadata": "{}",
         "name": "notebook",
         "type": "{\"type\":\"struct\",\"fields\":[{\"name\":\"notebookId\",\"type\":\"string\",\"nullable\":true,\"metadata\":{}}]}"
        },
        {
         "metadata": "{}",
         "name": "clusterId",
         "type": "\"string\""
        },
        {
         "metadata": "{}",
         "name": "readVersion",
         "type": "\"long\""
        },
        {
         "metadata": "{}",
         "name": "isolationLevel",
         "type": "\"string\""
        },
        {
         "metadata": "{}",
         "name": "isBlindAppend",
         "type": "\"boolean\""
        },
        {
         "metadata": "{}",
         "name": "operationMetrics",
         "type": "{\"type\":\"map\",\"keyType\":\"string\",\"valueType\":\"string\",\"valueContainsNull\":true}"
        },
        {
         "metadata": "{}",
         "name": "userMetadata",
         "type": "\"string\""
        },
        {
         "metadata": "{}",
         "name": "engineInfo",
         "type": "\"string\""
        }
       ],
       "type": "table"
      }
     },
     "output_type": "display_data"
    }
   ],
   "source": [
    "%sql\n",
    "-- view the history of the customer table\n",
    "describe history dw_test.customer"
   ]
  },
  {
   "cell_type": "code",
   "execution_count": null,
   "metadata": {
    "application/vnd.databricks.v1+cell": {
     "cellMetadata": {
      "byteLimit": 2048000,
      "implicitDf": true,
      "rowLimit": 10000
     },
     "inputWidgets": {},
     "nuid": "0d288f6c-5c18-422d-bd5d-556799f57558",
     "showTitle": false,
     "title": ""
    }
   },
   "outputs": [
    {
     "data": {
      "text/html": [
       "<style scoped>\n",
       "  .table-result-container {\n",
       "    max-height: 300px;\n",
       "    overflow: auto;\n",
       "  }\n",
       "  table, th, td {\n",
       "    border: 1px solid black;\n",
       "    border-collapse: collapse;\n",
       "  }\n",
       "  th, td {\n",
       "    padding: 5px;\n",
       "  }\n",
       "  th {\n",
       "    text-align: left;\n",
       "  }\n",
       "</style><div class='table-result-container'><table class='table-result'><thead style='background-color: white'><tr><th>count(1)</th><th>versionnum</th></tr></thead><tbody><tr><td>847</td><td>0</td></tr><tr><td>842</td><td>3</td></tr></tbody></table></div>"
      ]
     },
     "metadata": {
      "application/vnd.databricks.v1+output": {
       "addedWidgets": {},
       "aggData": [],
       "aggError": "",
       "aggOverflow": false,
       "aggSchema": [],
       "aggSeriesLimitReached": false,
       "aggType": "",
       "arguments": {},
       "columnCustomDisplayInfos": {},
       "data": [
        [
         847,
         0
        ],
        [
         842,
         3
        ]
       ],
       "datasetInfos": [],
       "dbfsResultPath": null,
       "isJsonSchema": true,
       "metadata": {
        "dataframeName": "_sqldf",
        "executionCount": 16
       },
       "overflow": false,
       "plotOptions": {
        "customPlotOptions": {},
        "displayType": "table",
        "pivotAggregation": null,
        "pivotColumns": null,
        "xColumns": null,
        "yColumns": null
       },
       "removedWidgets": [],
       "schema": [
        {
         "metadata": "{\"__autoGeneratedAlias\":\"true\"}",
         "name": "count(1)",
         "type": "\"long\""
        },
        {
         "metadata": "{}",
         "name": "versionnum",
         "type": "\"integer\""
        }
       ],
       "type": "table"
      }
     },
     "output_type": "display_data"
    }
   ],
   "source": [
    "%sql\n",
    "-- see how many records are in each version of customer\n",
    "select count(*), 0 as versionnum from customer version as of 0\n",
    "union all\n",
    "select count(*), 3 as versionnum from customer version as of 3"
   ]
  },
  {
   "cell_type": "code",
   "execution_count": null,
   "metadata": {
    "application/vnd.databricks.v1+cell": {
     "cellMetadata": {
      "byteLimit": 2048000,
      "implicitDf": true,
      "rowLimit": 10000
     },
     "inputWidgets": {},
     "nuid": "b3b1e48e-d99d-42d7-a0d7-bca81e3b02a1",
     "showTitle": false,
     "title": ""
    }
   },
   "outputs": [
    {
     "data": {
      "text/html": [
       "<style scoped>\n",
       "  .ansiout {\n",
       "    display: block;\n",
       "    unicode-bidi: embed;\n",
       "    white-space: pre-wrap;\n",
       "    word-wrap: break-word;\n",
       "    word-break: break-all;\n",
       "    font-family: \"Menlo\", \"Monaco\", \"Consolas\", \"Ubuntu Mono\", \"Source Code Pro\", monospace;\n",
       "    font-size: 13px;\n",
       "    color: #555;\n",
       "    margin-left: 4px;\n",
       "    line-height: 19px;\n",
       "  }\n",
       "</style>\n",
       "com.databricks.backend.common.rpc.SparkDriverExceptions$SQLExecutionException: com.databricks.sql.transaction.tahoe.DeltaErrorsBase$TimestampEarlierThanCommitRetentionException: The provided timestamp (2024-05-16 21:49:36.0) is before the earliest version available to this\n",
       "table (2024-05-18 22:07:11.0). Please use a timestamp after 2024-05-18 22:07:11.\n",
       "         \n",
       "\tat com.databricks.sql.transaction.tahoe.DeltaHistoryManager.getActiveCommitAtTime(DeltaHistoryManager.scala:181)\n",
       "\tat com.databricks.sql.transaction.tahoe.DeltaTableUtils$.resolveTimeTravelVersion(DeltaTable.scala:594)\n",
       "\tat com.databricks.sql.transaction.tahoe.catalog.DeltaTableV2.$anonfun$snapshot$1(DeltaTableV2.scala:142)\n",
       "\tat scala.Option.map(Option.scala:230)\n",
       "\tat com.databricks.sql.transaction.tahoe.catalog.DeltaTableV2.snapshot$lzycompute(DeltaTableV2.scala:141)\n",
       "\tat com.databricks.sql.transaction.tahoe.catalog.DeltaTableV2.snapshot(DeltaTableV2.scala:140)\n",
       "\tat com.databricks.sql.transaction.tahoe.catalog.DeltaTableV2.toBaseRelation(DeltaTableV2.scala:297)\n",
       "\tat com.databricks.sql.transaction.tahoe.DeltaAnalysis$$anonfun$apply$1.applyOrElse(DeltaAnalysis.scala:848)\n",
       "\tat com.databricks.sql.transaction.tahoe.DeltaAnalysis$$anonfun$apply$1.applyOrElse(DeltaAnalysis.scala:106)\n",
       "\tat org.apache.spark.sql.catalyst.plans.logical.AnalysisHelper.$anonfun$resolveOperatorsDownWithPruning$2(AnalysisHelper.scala:219)\n",
       "\tat org.apache.spark.sql.catalyst.trees.CurrentOrigin$.withOrigin(origin.scala:69)\n",
       "\tat org.apache.spark.sql.catalyst.plans.logical.AnalysisHelper.$anonfun$resolveOperatorsDownWithPruning$1(AnalysisHelper.scala:219)\n",
       "\tat org.apache.spark.sql.catalyst.plans.logical.AnalysisHelper$.allowInvokingTransformsInAnalyzer(AnalysisHelper.scala:395)\n",
       "\tat org.apache.spark.sql.catalyst.plans.logical.AnalysisHelper.resolveOperatorsDownWithPruning(AnalysisHelper.scala:217)\n",
       "\tat org.apache.spark.sql.catalyst.plans.logical.AnalysisHelper.resolveOperatorsDownWithPruning$(AnalysisHelper.scala:213)\n",
       "\tat org.apache.spark.sql.catalyst.plans.logical.LogicalPlan.resolveOperatorsDownWithPruning(LogicalPlan.scala:39)\n",
       "\tat org.apache.spark.sql.catalyst.plans.logical.AnalysisHelper.$anonfun$resolveOperatorsDownWithPruning$4(AnalysisHelper.scala:224)\n",
       "\tat org.apache.spark.sql.catalyst.trees.UnaryLike.mapChildren(TreeNode.scala:1267)\n",
       "\tat org.apache.spark.sql.catalyst.trees.UnaryLike.mapChildren$(TreeNode.scala:1266)\n",
       "\tat org.apache.spark.sql.catalyst.plans.logical.Project.mapChildren(basicLogicalOperators.scala:83)\n",
       "\tat org.apache.spark.sql.catalyst.plans.logical.AnalysisHelper.$anonfun$resolveOperatorsDownWithPruning$1(AnalysisHelper.scala:224)\n",
       "\tat org.apache.spark.sql.catalyst.plans.logical.AnalysisHelper$.allowInvokingTransformsInAnalyzer(AnalysisHelper.scala:395)\n",
       "\tat org.apache.spark.sql.catalyst.plans.logical.AnalysisHelper.resolveOperatorsDownWithPruning(AnalysisHelper.scala:217)\n",
       "\tat org.apache.spark.sql.catalyst.plans.logical.AnalysisHelper.resolveOperatorsDownWithPruning$(AnalysisHelper.scala:213)\n",
       "\tat org.apache.spark.sql.catalyst.plans.logical.LogicalPlan.resolveOperatorsDownWithPruning(LogicalPlan.scala:39)\n",
       "\tat org.apache.spark.sql.catalyst.plans.logical.AnalysisHelper.resolveOperatorsDown(AnalysisHelper.scala:209)\n",
       "\tat org.apache.spark.sql.catalyst.plans.logical.AnalysisHelper.resolveOperatorsDown$(AnalysisHelper.scala:208)\n",
       "\tat org.apache.spark.sql.catalyst.plans.logical.LogicalPlan.resolveOperatorsDown(LogicalPlan.scala:39)\n",
       "\tat com.databricks.sql.transaction.tahoe.DeltaAnalysis.apply(DeltaAnalysis.scala:106)\n",
       "\tat com.databricks.sql.transaction.tahoe.DeltaAnalysis.apply(DeltaAnalysis.scala:100)\n",
       "\tat org.apache.spark.sql.catalyst.rules.RuleExecutor.$anonfun$execute$4(RuleExecutor.scala:286)\n",
       "\tat com.databricks.spark.util.FrameProfiler$.record(FrameProfiler.scala:94)\n",
       "\tat org.apache.spark.sql.catalyst.rules.RuleExecutor.$anonfun$execute$3(RuleExecutor.scala:286)\n",
       "\tat scala.collection.LinearSeqOptimized.foldLeft(LinearSeqOptimized.scala:126)\n",
       "\tat scala.collection.LinearSeqOptimized.foldLeft$(LinearSeqOptimized.scala:122)\n",
       "\tat scala.collection.immutable.List.foldLeft(List.scala:91)\n",
       "\tat org.apache.spark.sql.catalyst.rules.RuleExecutor.$anonfun$execute$2(RuleExecutor.scala:283)\n",
       "\tat scala.runtime.java8.JFunction0$mcV$sp.apply(JFunction0$mcV$sp.java:23)\n",
       "\tat com.databricks.spark.util.FrameProfiler$.record(FrameProfiler.scala:94)\n",
       "\tat org.apache.spark.sql.catalyst.rules.RuleExecutor.executeBatch$1(RuleExecutor.scala:266)\n",
       "\tat org.apache.spark.sql.catalyst.rules.RuleExecutor.$anonfun$execute$8(RuleExecutor.scala:353)\n",
       "\tat org.apache.spark.sql.catalyst.rules.RuleExecutor.$anonfun$execute$8$adapted(RuleExecutor.scala:353)\n",
       "\tat scala.collection.immutable.List.foreach(List.scala:431)\n",
       "\tat org.apache.spark.sql.catalyst.rules.RuleExecutor.$anonfun$execute$1(RuleExecutor.scala:353)\n",
       "\tat com.databricks.spark.util.FrameProfiler$.record(FrameProfiler.scala:94)\n",
       "\tat org.apache.spark.sql.catalyst.rules.RuleExecutor.execute(RuleExecutor.scala:233)\n",
       "\tat org.apache.spark.sql.catalyst.analysis.Analyzer.executeSameContext(Analyzer.scala:410)\n",
       "\tat org.apache.spark.sql.catalyst.analysis.Analyzer.$anonfun$execute$1(Analyzer.scala:403)\n",
       "\tat org.apache.spark.sql.catalyst.analysis.AnalysisContext$.withNewAnalysisContext(Analyzer.scala:310)\n",
       "\tat org.apache.spark.sql.catalyst.analysis.Analyzer.execute(Analyzer.scala:403)\n",
       "\tat org.apache.spark.sql.catalyst.analysis.Analyzer.execute(Analyzer.scala:329)\n",
       "\tat org.apache.spark.sql.catalyst.rules.RuleExecutor.$anonfun$executeAndTrack$1(RuleExecutor.scala:225)\n",
       "\tat org.apache.spark.sql.catalyst.QueryPlanningTracker$.withTracker(QueryPlanningTracker.scala:166)\n",
       "\tat org.apache.spark.sql.catalyst.rules.RuleExecutor.executeAndTrack(RuleExecutor.scala:225)\n",
       "\tat org.apache.spark.sql.catalyst.analysis.Analyzer.$anonfun$executeAndCheck$1(Analyzer.scala:381)\n",
       "\tat org.apache.spark.sql.catalyst.plans.logical.AnalysisHelper$.markInAnalyzer(AnalysisHelper.scala:402)\n",
       "\tat org.apache.spark.sql.catalyst.analysis.Analyzer.executeAndCheck(Analyzer.scala:380)\n",
       "\tat org.apache.spark.sql.execution.QueryExecution.$anonfun$analyzed$1(QueryExecution.scala:193)\n",
       "\tat com.databricks.spark.util.FrameProfiler$.record(FrameProfiler.scala:94)\n",
       "\tat org.apache.spark.sql.catalyst.QueryPlanningTracker.measurePhase(QueryPlanningTracker.scala:383)\n",
       "\tat org.apache.spark.sql.execution.QueryExecution.$anonfun$executePhase$4(QueryExecution.scala:445)\n",
       "\tat org.apache.spark.sql.execution.QueryExecution$.withInternalError(QueryExecution.scala:959)\n",
       "\tat org.apache.spark.sql.execution.QueryExecution.$anonfun$executePhase$2(QueryExecution.scala:445)\n",
       "\tat com.databricks.util.LexicalThreadLocal$Handle.runWith(LexicalThreadLocal.scala:63)\n",
       "\tat org.apache.spark.sql.execution.QueryExecution.$anonfun$executePhase$1(QueryExecution.scala:441)\n",
       "\tat org.apache.spark.sql.SparkSession.withActive(SparkSession.scala:1148)\n",
       "\tat org.apache.spark.sql.execution.QueryExecution.executePhase(QueryExecution.scala:441)\n",
       "\tat org.apache.spark.sql.execution.QueryExecution.analyzed$lzycompute(QueryExecution.scala:187)\n",
       "\tat org.apache.spark.sql.execution.QueryExecution.analyzed(QueryExecution.scala:186)\n",
       "\tat org.apache.spark.sql.execution.QueryExecution.assertAnalyzed(QueryExecution.scala:176)\n",
       "\tat org.apache.spark.sql.Dataset$.$anonfun$ofRows$2(Dataset.scala:114)\n",
       "\tat org.apache.spark.sql.SparkSession.withActive(SparkSession.scala:1148)\n",
       "\tat org.apache.spark.sql.SparkSession.$anonfun$withActiveAndFrameProfiler$1(SparkSession.scala:1155)\n",
       "\tat com.databricks.spark.util.FrameProfiler$.record(FrameProfiler.scala:94)\n",
       "\tat org.apache.spark.sql.SparkSession.withActiveAndFrameProfiler(SparkSession.scala:1155)\n",
       "\tat org.apache.spark.sql.Dataset$.ofRows(Dataset.scala:112)\n",
       "\tat org.apache.spark.sql.SparkSession.$anonfun$sql$5(SparkSession.scala:928)\n",
       "\tat org.apache.spark.sql.SparkSession.withActive(SparkSession.scala:1148)\n",
       "\tat org.apache.spark.sql.SparkSession.sql(SparkSession.scala:917)\n",
       "\tat org.apache.spark.sql.SparkSession.$anonfun$sql$9(SparkSession.scala:951)\n",
       "\tat org.apache.spark.sql.SparkSession.withActive(SparkSession.scala:1148)\n",
       "\tat org.apache.spark.sql.SparkSession.sql(SparkSession.scala:951)\n",
       "\tat org.apache.spark.sql.SparkSession.sql(SparkSession.scala:984)\n",
       "\tat org.apache.spark.sql.SQLContext.sql(SQLContext.scala:695)\n",
       "\tat com.databricks.backend.daemon.driver.DriverLocal$DbClassicStrategy.executeSQLQuery(DriverLocal.scala:240)\n",
       "\tat com.databricks.backend.daemon.driver.DriverLocal.executeSQLSubCommand(DriverLocal.scala:322)\n",
       "\tat com.databricks.backend.daemon.driver.DriverLocal.$anonfun$executeSql$1(DriverLocal.scala:341)\n",
       "\tat scala.collection.immutable.List.map(List.scala:293)\n",
       "\tat com.databricks.backend.daemon.driver.DriverLocal.executeSql(DriverLocal.scala:336)\n",
       "\tat com.databricks.backend.daemon.driver.JupyterDriverLocal.repl(JupyterDriverLocal.scala:709)\n",
       "\tat com.databricks.backend.daemon.driver.DriverLocal.$anonfun$execute$34(DriverLocal.scala:1015)\n",
       "\tat com.databricks.unity.UCSEphemeralState$Handle.runWith(UCSEphemeralState.scala:45)\n",
       "\tat com.databricks.unity.HandleImpl.runWith(UCSHandle.scala:103)\n",
       "\tat com.databricks.backend.daemon.driver.DriverLocal.$anonfun$execute$23(DriverLocal.scala:1006)\n",
       "\tat com.databricks.logging.UsageLogging.$anonfun$withAttributionContext$1(UsageLogging.scala:426)\n",
       "\tat scala.util.DynamicVariable.withValue(DynamicVariable.scala:62)\n",
       "\tat com.databricks.logging.AttributionContext$.withValue(AttributionContext.scala:196)\n",
       "\tat com.databricks.logging.UsageLogging.withAttributionContext(UsageLogging.scala:424)\n",
       "\tat com.databricks.logging.UsageLogging.withAttributionContext$(UsageLogging.scala:418)\n",
       "\tat com.databricks.backend.daemon.driver.DriverLocal.withAttributionContext(DriverLocal.scala:72)\n",
       "\tat com.databricks.logging.UsageLogging.withAttributionTags(UsageLogging.scala:470)\n",
       "\tat com.databricks.logging.UsageLogging.withAttributionTags$(UsageLogging.scala:455)\n",
       "\tat com.databricks.backend.daemon.driver.DriverLocal.withAttributionTags(DriverLocal.scala:72)\n",
       "\tat com.databricks.backend.daemon.driver.DriverLocal.execute(DriverLocal.scala:961)\n",
       "\tat com.databricks.backend.daemon.driver.DriverWrapper.$anonfun$tryExecutingCommand$2(DriverWrapper.scala:859)\n",
       "\tat scala.util.Try$.apply(Try.scala:213)\n",
       "\tat com.databricks.backend.daemon.driver.DriverWrapper.$anonfun$tryExecutingCommand$1(DriverWrapper.scala:851)\n",
       "\tat com.databricks.backend.daemon.driver.DriverWrapper.$anonfun$tryExecutingCommand$3(DriverWrapper.scala:891)\n",
       "\tat com.databricks.logging.UsageLogging.executeThunkAndCaptureResultTags$1(UsageLogging.scala:667)\n",
       "\tat com.databricks.logging.UsageLogging.$anonfun$recordOperationWithResultTags$4(UsageLogging.scala:685)\n",
       "\tat com.databricks.logging.UsageLogging.$anonfun$withAttributionContext$1(UsageLogging.scala:426)\n",
       "\tat scala.util.DynamicVariable.withValue(DynamicVariable.scala:62)\n",
       "\tat com.databricks.logging.AttributionContext$.withValue(AttributionContext.scala:196)\n",
       "\tat com.databricks.logging.UsageLogging.withAttributionContext(UsageLogging.scala:424)\n",
       "\tat com.databricks.logging.UsageLogging.withAttributionContext$(UsageLogging.scala:418)\n",
       "\tat com.databricks.backend.daemon.driver.DriverWrapper.withAttributionContext(DriverWrapper.scala:76)\n",
       "\tat com.databricks.logging.UsageLogging.withAttributionTags(UsageLogging.scala:470)\n",
       "\tat com.databricks.logging.UsageLogging.withAttributionTags$(UsageLogging.scala:455)\n",
       "\tat com.databricks.backend.daemon.driver.DriverWrapper.withAttributionTags(DriverWrapper.scala:76)\n",
       "\tat com.databricks.logging.UsageLogging.recordOperationWithResultTags(UsageLogging.scala:662)\n",
       "\tat com.databricks.logging.UsageLogging.recordOperationWithResultTags$(UsageLogging.scala:580)\n",
       "\tat com.databricks.backend.daemon.driver.DriverWrapper.recordOperationWithResultTags(DriverWrapper.scala:76)\n",
       "\tat com.databricks.backend.daemon.driver.DriverWrapper.tryExecutingCommand(DriverWrapper.scala:891)\n",
       "\tat com.databricks.backend.daemon.driver.DriverWrapper.executeCommandAndGetError(DriverWrapper.scala:702)\n",
       "\tat com.databricks.backend.daemon.driver.DriverWrapper.executeCommand(DriverWrapper.scala:803)\n",
       "\tat com.databricks.backend.daemon.driver.DriverWrapper.$anonfun$runInnerLoop$1(DriverWrapper.scala:577)\n",
       "\tat scala.runtime.java8.JFunction0$mcV$sp.apply(JFunction0$mcV$sp.java:23)\n",
       "\tat com.databricks.logging.UsageLogging.$anonfun$withAttributionContext$1(UsageLogging.scala:426)\n",
       "\tat scala.util.DynamicVariable.withValue(DynamicVariable.scala:62)\n",
       "\tat com.databricks.logging.AttributionContext$.withValue(AttributionContext.scala:196)\n",
       "\tat com.databricks.logging.UsageLogging.withAttributionContext(UsageLogging.scala:424)\n",
       "\tat com.databricks.logging.UsageLogging.withAttributionContext$(UsageLogging.scala:418)\n",
       "\tat com.databricks.backend.daemon.driver.DriverWrapper.withAttributionContext(DriverWrapper.scala:76)\n",
       "\tat com.databricks.backend.daemon.driver.DriverWrapper.runInnerLoop(DriverWrapper.scala:577)\n",
       "\tat com.databricks.backend.daemon.driver.DriverWrapper.runInner(DriverWrapper.scala:487)\n",
       "\tat com.databricks.backend.daemon.driver.DriverWrapper.run(DriverWrapper.scala:296)\n",
       "\tat java.lang.Thread.run(Thread.java:750)\n",
       "\n",
       "\tat com.databricks.backend.daemon.driver.DriverLocal.executeSql(DriverLocal.scala:379)\n",
       "\tat com.databricks.backend.daemon.driver.JupyterDriverLocal.repl(JupyterDriverLocal.scala:709)\n",
       "\tat com.databricks.backend.daemon.driver.DriverLocal.$anonfun$execute$34(DriverLocal.scala:1015)\n",
       "\tat com.databricks.unity.UCSEphemeralState$Handle.runWith(UCSEphemeralState.scala:45)\n",
       "\tat com.databricks.unity.HandleImpl.runWith(UCSHandle.scala:103)\n",
       "\tat com.databricks.backend.daemon.driver.DriverLocal.$anonfun$execute$23(DriverLocal.scala:1006)\n",
       "\tat com.databricks.logging.UsageLogging.$anonfun$withAttributionContext$1(UsageLogging.scala:426)\n",
       "\tat scala.util.DynamicVariable.withValue(DynamicVariable.scala:62)\n",
       "\tat com.databricks.logging.AttributionContext$.withValue(AttributionContext.scala:196)\n",
       "\tat com.databricks.logging.UsageLogging.withAttributionContext(UsageLogging.scala:424)\n",
       "\tat com.databricks.logging.UsageLogging.withAttributionContext$(UsageLogging.scala:418)\n",
       "\tat com.databricks.backend.daemon.driver.DriverLocal.withAttributionContext(DriverLocal.scala:72)\n",
       "\tat com.databricks.logging.UsageLogging.withAttributionTags(UsageLogging.scala:470)\n",
       "\tat com.databricks.logging.UsageLogging.withAttributionTags$(UsageLogging.scala:455)\n",
       "\tat com.databricks.backend.daemon.driver.DriverLocal.withAttributionTags(DriverLocal.scala:72)\n",
       "\tat com.databricks.backend.daemon.driver.DriverLocal.execute(DriverLocal.scala:961)\n",
       "\tat com.databricks.backend.daemon.driver.DriverWrapper.$anonfun$tryExecutingCommand$2(DriverWrapper.scala:859)\n",
       "\tat scala.util.Try$.apply(Try.scala:213)\n",
       "\tat com.databricks.backend.daemon.driver.DriverWrapper.$anonfun$tryExecutingCommand$1(DriverWrapper.scala:851)\n",
       "\tat com.databricks.backend.daemon.driver.DriverWrapper.$anonfun$tryExecutingCommand$3(DriverWrapper.scala:891)\n",
       "\tat com.databricks.logging.UsageLogging.executeThunkAndCaptureResultTags$1(UsageLogging.scala:667)\n",
       "\tat com.databricks.logging.UsageLogging.$anonfun$recordOperationWithResultTags$4(UsageLogging.scala:685)\n",
       "\tat com.databricks.logging.UsageLogging.$anonfun$withAttributionContext$1(UsageLogging.scala:426)\n",
       "\tat scala.util.DynamicVariable.withValue(DynamicVariable.scala:62)\n",
       "\tat com.databricks.logging.AttributionContext$.withValue(AttributionContext.scala:196)\n",
       "\tat com.databricks.logging.UsageLogging.withAttributionContext(UsageLogging.scala:424)\n",
       "\tat com.databricks.logging.UsageLogging.withAttributionContext$(UsageLogging.scala:418)\n",
       "\tat com.databricks.backend.daemon.driver.DriverWrapper.withAttributionContext(DriverWrapper.scala:76)\n",
       "\tat com.databricks.logging.UsageLogging.withAttributionTags(UsageLogging.scala:470)\n",
       "\tat com.databricks.logging.UsageLogging.withAttributionTags$(UsageLogging.scala:455)\n",
       "\tat com.databricks.backend.daemon.driver.DriverWrapper.withAttributionTags(DriverWrapper.scala:76)\n",
       "\tat com.databricks.logging.UsageLogging.recordOperationWithResultTags(UsageLogging.scala:662)\n",
       "\tat com.databricks.logging.UsageLogging.recordOperationWithResultTags$(UsageLogging.scala:580)\n",
       "\tat com.databricks.backend.daemon.driver.DriverWrapper.recordOperationWithResultTags(DriverWrapper.scala:76)\n",
       "\tat com.databricks.backend.daemon.driver.DriverWrapper.tryExecutingCommand(DriverWrapper.scala:891)\n",
       "\tat com.databricks.backend.daemon.driver.DriverWrapper.executeCommandAndGetError(DriverWrapper.scala:702)\n",
       "\tat com.databricks.backend.daemon.driver.DriverWrapper.executeCommand(DriverWrapper.scala:803)\n",
       "\tat com.databricks.backend.daemon.driver.DriverWrapper.$anonfun$runInnerLoop$1(DriverWrapper.scala:577)\n",
       "\tat scala.runtime.java8.JFunction0$mcV$sp.apply(JFunction0$mcV$sp.java:23)\n",
       "\tat com.databricks.logging.UsageLogging.$anonfun$withAttributionContext$1(UsageLogging.scala:426)\n",
       "\tat scala.util.DynamicVariable.withValue(DynamicVariable.scala:62)\n",
       "\tat com.databricks.logging.AttributionContext$.withValue(AttributionContext.scala:196)\n",
       "\tat com.databricks.logging.UsageLogging.withAttributionContext(UsageLogging.scala:424)\n",
       "\tat com.databricks.logging.UsageLogging.withAttributionContext$(UsageLogging.scala:418)\n",
       "\tat com.databricks.backend.daemon.driver.DriverWrapper.withAttributionContext(DriverWrapper.scala:76)\n",
       "\tat com.databricks.backend.daemon.driver.DriverWrapper.runInnerLoop(DriverWrapper.scala:577)\n",
       "\tat com.databricks.backend.daemon.driver.DriverWrapper.runInner(DriverWrapper.scala:487)\n",
       "\tat com.databricks.backend.daemon.driver.DriverWrapper.run(DriverWrapper.scala:296)\n",
       "\tat java.lang.Thread.run(Thread.java:750)"
      ]
     },
     "metadata": {
      "application/vnd.databricks.v1+output": {
       "arguments": {},
       "data": "com.databricks.backend.common.rpc.SparkDriverExceptions$SQLExecutionException: com.databricks.sql.transaction.tahoe.DeltaErrorsBase$TimestampEarlierThanCommitRetentionException: The provided timestamp (2024-05-16 21:49:36.0) is before the earliest version available to this\ntable (2024-05-18 22:07:11.0). Please use a timestamp after 2024-05-18 22:07:11.\n         \n\tat com.databricks.sql.transaction.tahoe.DeltaHistoryManager.getActiveCommitAtTime(DeltaHistoryManager.scala:181)\n\tat com.databricks.sql.transaction.tahoe.DeltaTableUtils$.resolveTimeTravelVersion(DeltaTable.scala:594)\n\tat com.databricks.sql.transaction.tahoe.catalog.DeltaTableV2.$anonfun$snapshot$1(DeltaTableV2.scala:142)\n\tat scala.Option.map(Option.scala:230)\n\tat com.databricks.sql.transaction.tahoe.catalog.DeltaTableV2.snapshot$lzycompute(DeltaTableV2.scala:141)\n\tat com.databricks.sql.transaction.tahoe.catalog.DeltaTableV2.snapshot(DeltaTableV2.scala:140)\n\tat com.databricks.sql.transaction.tahoe.catalog.DeltaTableV2.toBaseRelation(DeltaTableV2.scala:297)\n\tat com.databricks.sql.transaction.tahoe.DeltaAnalysis$$anonfun$apply$1.applyOrElse(DeltaAnalysis.scala:848)\n\tat com.databricks.sql.transaction.tahoe.DeltaAnalysis$$anonfun$apply$1.applyOrElse(DeltaAnalysis.scala:106)\n\tat org.apache.spark.sql.catalyst.plans.logical.AnalysisHelper.$anonfun$resolveOperatorsDownWithPruning$2(AnalysisHelper.scala:219)\n\tat org.apache.spark.sql.catalyst.trees.CurrentOrigin$.withOrigin(origin.scala:69)\n\tat org.apache.spark.sql.catalyst.plans.logical.AnalysisHelper.$anonfun$resolveOperatorsDownWithPruning$1(AnalysisHelper.scala:219)\n\tat org.apache.spark.sql.catalyst.plans.logical.AnalysisHelper$.allowInvokingTransformsInAnalyzer(AnalysisHelper.scala:395)\n\tat org.apache.spark.sql.catalyst.plans.logical.AnalysisHelper.resolveOperatorsDownWithPruning(AnalysisHelper.scala:217)\n\tat org.apache.spark.sql.catalyst.plans.logical.AnalysisHelper.resolveOperatorsDownWithPruning$(AnalysisHelper.scala:213)\n\tat org.apache.spark.sql.catalyst.plans.logical.LogicalPlan.resolveOperatorsDownWithPruning(LogicalPlan.scala:39)\n\tat org.apache.spark.sql.catalyst.plans.logical.AnalysisHelper.$anonfun$resolveOperatorsDownWithPruning$4(AnalysisHelper.scala:224)\n\tat org.apache.spark.sql.catalyst.trees.UnaryLike.mapChildren(TreeNode.scala:1267)\n\tat org.apache.spark.sql.catalyst.trees.UnaryLike.mapChildren$(TreeNode.scala:1266)\n\tat org.apache.spark.sql.catalyst.plans.logical.Project.mapChildren(basicLogicalOperators.scala:83)\n\tat org.apache.spark.sql.catalyst.plans.logical.AnalysisHelper.$anonfun$resolveOperatorsDownWithPruning$1(AnalysisHelper.scala:224)\n\tat org.apache.spark.sql.catalyst.plans.logical.AnalysisHelper$.allowInvokingTransformsInAnalyzer(AnalysisHelper.scala:395)\n\tat org.apache.spark.sql.catalyst.plans.logical.AnalysisHelper.resolveOperatorsDownWithPruning(AnalysisHelper.scala:217)\n\tat org.apache.spark.sql.catalyst.plans.logical.AnalysisHelper.resolveOperatorsDownWithPruning$(AnalysisHelper.scala:213)\n\tat org.apache.spark.sql.catalyst.plans.logical.LogicalPlan.resolveOperatorsDownWithPruning(LogicalPlan.scala:39)\n\tat org.apache.spark.sql.catalyst.plans.logical.AnalysisHelper.resolveOperatorsDown(AnalysisHelper.scala:209)\n\tat org.apache.spark.sql.catalyst.plans.logical.AnalysisHelper.resolveOperatorsDown$(AnalysisHelper.scala:208)\n\tat org.apache.spark.sql.catalyst.plans.logical.LogicalPlan.resolveOperatorsDown(LogicalPlan.scala:39)\n\tat com.databricks.sql.transaction.tahoe.DeltaAnalysis.apply(DeltaAnalysis.scala:106)\n\tat com.databricks.sql.transaction.tahoe.DeltaAnalysis.apply(DeltaAnalysis.scala:100)\n\tat org.apache.spark.sql.catalyst.rules.RuleExecutor.$anonfun$execute$4(RuleExecutor.scala:286)\n\tat com.databricks.spark.util.FrameProfiler$.record(FrameProfiler.scala:94)\n\tat org.apache.spark.sql.catalyst.rules.RuleExecutor.$anonfun$execute$3(RuleExecutor.scala:286)\n\tat scala.collection.LinearSeqOptimized.foldLeft(LinearSeqOptimized.scala:126)\n\tat scala.collection.LinearSeqOptimized.foldLeft$(LinearSeqOptimized.scala:122)\n\tat scala.collection.immutable.List.foldLeft(List.scala:91)\n\tat org.apache.spark.sql.catalyst.rules.RuleExecutor.$anonfun$execute$2(RuleExecutor.scala:283)\n\tat scala.runtime.java8.JFunction0$mcV$sp.apply(JFunction0$mcV$sp.java:23)\n\tat com.databricks.spark.util.FrameProfiler$.record(FrameProfiler.scala:94)\n\tat org.apache.spark.sql.catalyst.rules.RuleExecutor.executeBatch$1(RuleExecutor.scala:266)\n\tat org.apache.spark.sql.catalyst.rules.RuleExecutor.$anonfun$execute$8(RuleExecutor.scala:353)\n\tat org.apache.spark.sql.catalyst.rules.RuleExecutor.$anonfun$execute$8$adapted(RuleExecutor.scala:353)\n\tat scala.collection.immutable.List.foreach(List.scala:431)\n\tat org.apache.spark.sql.catalyst.rules.RuleExecutor.$anonfun$execute$1(RuleExecutor.scala:353)\n\tat com.databricks.spark.util.FrameProfiler$.record(FrameProfiler.scala:94)\n\tat org.apache.spark.sql.catalyst.rules.RuleExecutor.execute(RuleExecutor.scala:233)\n\tat org.apache.spark.sql.catalyst.analysis.Analyzer.executeSameContext(Analyzer.scala:410)\n\tat org.apache.spark.sql.catalyst.analysis.Analyzer.$anonfun$execute$1(Analyzer.scala:403)\n\tat org.apache.spark.sql.catalyst.analysis.AnalysisContext$.withNewAnalysisContext(Analyzer.scala:310)\n\tat org.apache.spark.sql.catalyst.analysis.Analyzer.execute(Analyzer.scala:403)\n\tat org.apache.spark.sql.catalyst.analysis.Analyzer.execute(Analyzer.scala:329)\n\tat org.apache.spark.sql.catalyst.rules.RuleExecutor.$anonfun$executeAndTrack$1(RuleExecutor.scala:225)\n\tat org.apache.spark.sql.catalyst.QueryPlanningTracker$.withTracker(QueryPlanningTracker.scala:166)\n\tat org.apache.spark.sql.catalyst.rules.RuleExecutor.executeAndTrack(RuleExecutor.scala:225)\n\tat org.apache.spark.sql.catalyst.analysis.Analyzer.$anonfun$executeAndCheck$1(Analyzer.scala:381)\n\tat org.apache.spark.sql.catalyst.plans.logical.AnalysisHelper$.markInAnalyzer(AnalysisHelper.scala:402)\n\tat org.apache.spark.sql.catalyst.analysis.Analyzer.executeAndCheck(Analyzer.scala:380)\n\tat org.apache.spark.sql.execution.QueryExecution.$anonfun$analyzed$1(QueryExecution.scala:193)\n\tat com.databricks.spark.util.FrameProfiler$.record(FrameProfiler.scala:94)\n\tat org.apache.spark.sql.catalyst.QueryPlanningTracker.measurePhase(QueryPlanningTracker.scala:383)\n\tat org.apache.spark.sql.execution.QueryExecution.$anonfun$executePhase$4(QueryExecution.scala:445)\n\tat org.apache.spark.sql.execution.QueryExecution$.withInternalError(QueryExecution.scala:959)\n\tat org.apache.spark.sql.execution.QueryExecution.$anonfun$executePhase$2(QueryExecution.scala:445)\n\tat com.databricks.util.LexicalThreadLocal$Handle.runWith(LexicalThreadLocal.scala:63)\n\tat org.apache.spark.sql.execution.QueryExecution.$anonfun$executePhase$1(QueryExecution.scala:441)\n\tat org.apache.spark.sql.SparkSession.withActive(SparkSession.scala:1148)\n\tat org.apache.spark.sql.execution.QueryExecution.executePhase(QueryExecution.scala:441)\n\tat org.apache.spark.sql.execution.QueryExecution.analyzed$lzycompute(QueryExecution.scala:187)\n\tat org.apache.spark.sql.execution.QueryExecution.analyzed(QueryExecution.scala:186)\n\tat org.apache.spark.sql.execution.QueryExecution.assertAnalyzed(QueryExecution.scala:176)\n\tat org.apache.spark.sql.Dataset$.$anonfun$ofRows$2(Dataset.scala:114)\n\tat org.apache.spark.sql.SparkSession.withActive(SparkSession.scala:1148)\n\tat org.apache.spark.sql.SparkSession.$anonfun$withActiveAndFrameProfiler$1(SparkSession.scala:1155)\n\tat com.databricks.spark.util.FrameProfiler$.record(FrameProfiler.scala:94)\n\tat org.apache.spark.sql.SparkSession.withActiveAndFrameProfiler(SparkSession.scala:1155)\n\tat org.apache.spark.sql.Dataset$.ofRows(Dataset.scala:112)\n\tat org.apache.spark.sql.SparkSession.$anonfun$sql$5(SparkSession.scala:928)\n\tat org.apache.spark.sql.SparkSession.withActive(SparkSession.scala:1148)\n\tat org.apache.spark.sql.SparkSession.sql(SparkSession.scala:917)\n\tat org.apache.spark.sql.SparkSession.$anonfun$sql$9(SparkSession.scala:951)\n\tat org.apache.spark.sql.SparkSession.withActive(SparkSession.scala:1148)\n\tat org.apache.spark.sql.SparkSession.sql(SparkSession.scala:951)\n\tat org.apache.spark.sql.SparkSession.sql(SparkSession.scala:984)\n\tat org.apache.spark.sql.SQLContext.sql(SQLContext.scala:695)\n\tat com.databricks.backend.daemon.driver.DriverLocal$DbClassicStrategy.executeSQLQuery(DriverLocal.scala:240)\n\tat com.databricks.backend.daemon.driver.DriverLocal.executeSQLSubCommand(DriverLocal.scala:322)\n\tat com.databricks.backend.daemon.driver.DriverLocal.$anonfun$executeSql$1(DriverLocal.scala:341)\n\tat scala.collection.immutable.List.map(List.scala:293)\n\tat com.databricks.backend.daemon.driver.DriverLocal.executeSql(DriverLocal.scala:336)\n\tat com.databricks.backend.daemon.driver.JupyterDriverLocal.repl(JupyterDriverLocal.scala:709)\n\tat com.databricks.backend.daemon.driver.DriverLocal.$anonfun$execute$34(DriverLocal.scala:1015)\n\tat com.databricks.unity.UCSEphemeralState$Handle.runWith(UCSEphemeralState.scala:45)\n\tat com.databricks.unity.HandleImpl.runWith(UCSHandle.scala:103)\n\tat com.databricks.backend.daemon.driver.DriverLocal.$anonfun$execute$23(DriverLocal.scala:1006)\n\tat com.databricks.logging.UsageLogging.$anonfun$withAttributionContext$1(UsageLogging.scala:426)\n\tat scala.util.DynamicVariable.withValue(DynamicVariable.scala:62)\n\tat com.databricks.logging.AttributionContext$.withValue(AttributionContext.scala:196)\n\tat com.databricks.logging.UsageLogging.withAttributionContext(UsageLogging.scala:424)\n\tat com.databricks.logging.UsageLogging.withAttributionContext$(UsageLogging.scala:418)\n\tat com.databricks.backend.daemon.driver.DriverLocal.withAttributionContext(DriverLocal.scala:72)\n\tat com.databricks.logging.UsageLogging.withAttributionTags(UsageLogging.scala:470)\n\tat com.databricks.logging.UsageLogging.withAttributionTags$(UsageLogging.scala:455)\n\tat com.databricks.backend.daemon.driver.DriverLocal.withAttributionTags(DriverLocal.scala:72)\n\tat com.databricks.backend.daemon.driver.DriverLocal.execute(DriverLocal.scala:961)\n\tat com.databricks.backend.daemon.driver.DriverWrapper.$anonfun$tryExecutingCommand$2(DriverWrapper.scala:859)\n\tat scala.util.Try$.apply(Try.scala:213)\n\tat com.databricks.backend.daemon.driver.DriverWrapper.$anonfun$tryExecutingCommand$1(DriverWrapper.scala:851)\n\tat com.databricks.backend.daemon.driver.DriverWrapper.$anonfun$tryExecutingCommand$3(DriverWrapper.scala:891)\n\tat com.databricks.logging.UsageLogging.executeThunkAndCaptureResultTags$1(UsageLogging.scala:667)\n\tat com.databricks.logging.UsageLogging.$anonfun$recordOperationWithResultTags$4(UsageLogging.scala:685)\n\tat com.databricks.logging.UsageLogging.$anonfun$withAttributionContext$1(UsageLogging.scala:426)\n\tat scala.util.DynamicVariable.withValue(DynamicVariable.scala:62)\n\tat com.databricks.logging.AttributionContext$.withValue(AttributionContext.scala:196)\n\tat com.databricks.logging.UsageLogging.withAttributionContext(UsageLogging.scala:424)\n\tat com.databricks.logging.UsageLogging.withAttributionContext$(UsageLogging.scala:418)\n\tat com.databricks.backend.daemon.driver.DriverWrapper.withAttributionContext(DriverWrapper.scala:76)\n\tat com.databricks.logging.UsageLogging.withAttributionTags(UsageLogging.scala:470)\n\tat com.databricks.logging.UsageLogging.withAttributionTags$(UsageLogging.scala:455)\n\tat com.databricks.backend.daemon.driver.DriverWrapper.withAttributionTags(DriverWrapper.scala:76)\n\tat com.databricks.logging.UsageLogging.recordOperationWithResultTags(UsageLogging.scala:662)\n\tat com.databricks.logging.UsageLogging.recordOperationWithResultTags$(UsageLogging.scala:580)\n\tat com.databricks.backend.daemon.driver.DriverWrapper.recordOperationWithResultTags(DriverWrapper.scala:76)\n\tat com.databricks.backend.daemon.driver.DriverWrapper.tryExecutingCommand(DriverWrapper.scala:891)\n\tat com.databricks.backend.daemon.driver.DriverWrapper.executeCommandAndGetError(DriverWrapper.scala:702)\n\tat com.databricks.backend.daemon.driver.DriverWrapper.executeCommand(DriverWrapper.scala:803)\n\tat com.databricks.backend.daemon.driver.DriverWrapper.$anonfun$runInnerLoop$1(DriverWrapper.scala:577)\n\tat scala.runtime.java8.JFunction0$mcV$sp.apply(JFunction0$mcV$sp.java:23)\n\tat com.databricks.logging.UsageLogging.$anonfun$withAttributionContext$1(UsageLogging.scala:426)\n\tat scala.util.DynamicVariable.withValue(DynamicVariable.scala:62)\n\tat com.databricks.logging.AttributionContext$.withValue(AttributionContext.scala:196)\n\tat com.databricks.logging.UsageLogging.withAttributionContext(UsageLogging.scala:424)\n\tat com.databricks.logging.UsageLogging.withAttributionContext$(UsageLogging.scala:418)\n\tat com.databricks.backend.daemon.driver.DriverWrapper.withAttributionContext(DriverWrapper.scala:76)\n\tat com.databricks.backend.daemon.driver.DriverWrapper.runInnerLoop(DriverWrapper.scala:577)\n\tat com.databricks.backend.daemon.driver.DriverWrapper.runInner(DriverWrapper.scala:487)\n\tat com.databricks.backend.daemon.driver.DriverWrapper.run(DriverWrapper.scala:296)\n\tat java.lang.Thread.run(Thread.java:750)\n\n\tat com.databricks.backend.daemon.driver.DriverLocal.executeSql(DriverLocal.scala:379)\n\tat com.databricks.backend.daemon.driver.JupyterDriverLocal.repl(JupyterDriverLocal.scala:709)\n\tat com.databricks.backend.daemon.driver.DriverLocal.$anonfun$execute$34(DriverLocal.scala:1015)\n\tat com.databricks.unity.UCSEphemeralState$Handle.runWith(UCSEphemeralState.scala:45)\n\tat com.databricks.unity.HandleImpl.runWith(UCSHandle.scala:103)\n\tat com.databricks.backend.daemon.driver.DriverLocal.$anonfun$execute$23(DriverLocal.scala:1006)\n\tat com.databricks.logging.UsageLogging.$anonfun$withAttributionContext$1(UsageLogging.scala:426)\n\tat scala.util.DynamicVariable.withValue(DynamicVariable.scala:62)\n\tat com.databricks.logging.AttributionContext$.withValue(AttributionContext.scala:196)\n\tat com.databricks.logging.UsageLogging.withAttributionContext(UsageLogging.scala:424)\n\tat com.databricks.logging.UsageLogging.withAttributionContext$(UsageLogging.scala:418)\n\tat com.databricks.backend.daemon.driver.DriverLocal.withAttributionContext(DriverLocal.scala:72)\n\tat com.databricks.logging.UsageLogging.withAttributionTags(UsageLogging.scala:470)\n\tat com.databricks.logging.UsageLogging.withAttributionTags$(UsageLogging.scala:455)\n\tat com.databricks.backend.daemon.driver.DriverLocal.withAttributionTags(DriverLocal.scala:72)\n\tat com.databricks.backend.daemon.driver.DriverLocal.execute(DriverLocal.scala:961)\n\tat com.databricks.backend.daemon.driver.DriverWrapper.$anonfun$tryExecutingCommand$2(DriverWrapper.scala:859)\n\tat scala.util.Try$.apply(Try.scala:213)\n\tat com.databricks.backend.daemon.driver.DriverWrapper.$anonfun$tryExecutingCommand$1(DriverWrapper.scala:851)\n\tat com.databricks.backend.daemon.driver.DriverWrapper.$anonfun$tryExecutingCommand$3(DriverWrapper.scala:891)\n\tat com.databricks.logging.UsageLogging.executeThunkAndCaptureResultTags$1(UsageLogging.scala:667)\n\tat com.databricks.logging.UsageLogging.$anonfun$recordOperationWithResultTags$4(UsageLogging.scala:685)\n\tat com.databricks.logging.UsageLogging.$anonfun$withAttributionContext$1(UsageLogging.scala:426)\n\tat scala.util.DynamicVariable.withValue(DynamicVariable.scala:62)\n\tat com.databricks.logging.AttributionContext$.withValue(AttributionContext.scala:196)\n\tat com.databricks.logging.UsageLogging.withAttributionContext(UsageLogging.scala:424)\n\tat com.databricks.logging.UsageLogging.withAttributionContext$(UsageLogging.scala:418)\n\tat com.databricks.backend.daemon.driver.DriverWrapper.withAttributionContext(DriverWrapper.scala:76)\n\tat com.databricks.logging.UsageLogging.withAttributionTags(UsageLogging.scala:470)\n\tat com.databricks.logging.UsageLogging.withAttributionTags$(UsageLogging.scala:455)\n\tat com.databricks.backend.daemon.driver.DriverWrapper.withAttributionTags(DriverWrapper.scala:76)\n\tat com.databricks.logging.UsageLogging.recordOperationWithResultTags(UsageLogging.scala:662)\n\tat com.databricks.logging.UsageLogging.recordOperationWithResultTags$(UsageLogging.scala:580)\n\tat com.databricks.backend.daemon.driver.DriverWrapper.recordOperationWithResultTags(DriverWrapper.scala:76)\n\tat com.databricks.backend.daemon.driver.DriverWrapper.tryExecutingCommand(DriverWrapper.scala:891)\n\tat com.databricks.backend.daemon.driver.DriverWrapper.executeCommandAndGetError(DriverWrapper.scala:702)\n\tat com.databricks.backend.daemon.driver.DriverWrapper.executeCommand(DriverWrapper.scala:803)\n\tat com.databricks.backend.daemon.driver.DriverWrapper.$anonfun$runInnerLoop$1(DriverWrapper.scala:577)\n\tat scala.runtime.java8.JFunction0$mcV$sp.apply(JFunction0$mcV$sp.java:23)\n\tat com.databricks.logging.UsageLogging.$anonfun$withAttributionContext$1(UsageLogging.scala:426)\n\tat scala.util.DynamicVariable.withValue(DynamicVariable.scala:62)\n\tat com.databricks.logging.AttributionContext$.withValue(AttributionContext.scala:196)\n\tat com.databricks.logging.UsageLogging.withAttributionContext(UsageLogging.scala:424)\n\tat com.databricks.logging.UsageLogging.withAttributionContext$(UsageLogging.scala:418)\n\tat com.databricks.backend.daemon.driver.DriverWrapper.withAttributionContext(DriverWrapper.scala:76)\n\tat com.databricks.backend.daemon.driver.DriverWrapper.runInnerLoop(DriverWrapper.scala:577)\n\tat com.databricks.backend.daemon.driver.DriverWrapper.runInner(DriverWrapper.scala:487)\n\tat com.databricks.backend.daemon.driver.DriverWrapper.run(DriverWrapper.scala:296)\n\tat java.lang.Thread.run(Thread.java:750)\n",
       "errorSummary": "DeltaErrorsBase.TimestampEarlierThanCommitRetentionException: The provided timestamp (2024-05-16 21:49:36.0) is before the earliest version available to this\ntable (2024-05-18 22:07:11.0). Please use a timestamp after 2024-05-18 22:07:11.\n         ",
       "errorTraceType": "html",
       "metadata": {},
       "type": "ipynbError"
      }
     },
     "output_type": "display_data"
    }
   ],
   "source": [
    "%sql\n",
    "-- use timestamp as of to time travel back to version 2 (the timestamp below will need to change, use it from the describe history cell)\n",
    "select * from customer timestamp as of '2024-05-16T21:49:36.000+00:00'"
   ]
  },
  {
   "cell_type": "code",
   "execution_count": null,
   "metadata": {
    "application/vnd.databricks.v1+cell": {
     "cellMetadata": {
      "byteLimit": 2048000,
      "implicitDf": true,
      "rowLimit": 10000
     },
     "inputWidgets": {},
     "nuid": "712ba8b6-2eaa-4549-87e5-05de90d36ccb",
     "showTitle": false,
     "title": ""
    }
   },
   "outputs": [
    {
     "data": {
      "text/html": [
       "<style scoped>\n",
       "  .ansiout {\n",
       "    display: block;\n",
       "    unicode-bidi: embed;\n",
       "    white-space: pre-wrap;\n",
       "    word-wrap: break-word;\n",
       "    word-break: break-all;\n",
       "    font-family: \"Menlo\", \"Monaco\", \"Consolas\", \"Ubuntu Mono\", \"Source Code Pro\", monospace;\n",
       "    font-size: 13px;\n",
       "    color: #555;\n",
       "    margin-left: 4px;\n",
       "    line-height: 19px;\n",
       "  }\n",
       "</style>"
      ]
     },
     "metadata": {
      "application/vnd.databricks.v1+output": {
       "arguments": {},
       "data": "",
       "errorSummary": "Command skipped",
       "errorTraceType": "html",
       "metadata": {},
       "type": "ipynbError"
      }
     },
     "output_type": "display_data"
    }
   ],
   "source": [
    "%sql\n",
    "--view changes between versions 1 and 2...pay special attention to the _change_type column (scroll to the right)\n",
    "-- this column stores the type of change (delete, write, pre-update and post-update values)\n",
    "select * from table_changes('customer', 1, 2)"
   ]
  },
  {
   "cell_type": "code",
   "execution_count": null,
   "metadata": {
    "application/vnd.databricks.v1+cell": {
     "cellMetadata": {
      "byteLimit": 2048000,
      "implicitDf": true,
      "rowLimit": 10000
     },
     "inputWidgets": {},
     "nuid": "3e345b37-654d-45f0-beb2-65235ab17646",
     "showTitle": false,
     "title": ""
    }
   },
   "outputs": [
    {
     "data": {
      "text/html": [
       "<style scoped>\n",
       "  .ansiout {\n",
       "    display: block;\n",
       "    unicode-bidi: embed;\n",
       "    white-space: pre-wrap;\n",
       "    word-wrap: break-word;\n",
       "    word-break: break-all;\n",
       "    font-family: \"Menlo\", \"Monaco\", \"Consolas\", \"Ubuntu Mono\", \"Source Code Pro\", monospace;\n",
       "    font-size: 13px;\n",
       "    color: #555;\n",
       "    margin-left: 4px;\n",
       "    line-height: 19px;\n",
       "  }\n",
       "</style>"
      ]
     },
     "metadata": {
      "application/vnd.databricks.v1+output": {
       "arguments": {},
       "data": "",
       "errorSummary": "Command skipped",
       "errorTraceType": "html",
       "metadata": {},
       "type": "ipynbError"
      }
     },
     "output_type": "display_data"
    }
   ],
   "source": [
    "%sql\n",
    "-- now we will restore the table to its original version\n",
    "RESTORE TABLE dw_test.customer TO VERSION AS OF 0"
   ]
  },
  {
   "cell_type": "code",
   "execution_count": null,
   "metadata": {
    "application/vnd.databricks.v1+cell": {
     "cellMetadata": {
      "byteLimit": 2048000,
      "implicitDf": true,
      "rowLimit": 10000
     },
     "inputWidgets": {},
     "nuid": "94da5911-3ec1-4869-9fb2-20dd77aee71f",
     "showTitle": false,
     "title": ""
    }
   },
   "outputs": [
    {
     "data": {
      "text/html": [
       "<style scoped>\n",
       "  .ansiout {\n",
       "    display: block;\n",
       "    unicode-bidi: embed;\n",
       "    white-space: pre-wrap;\n",
       "    word-wrap: break-word;\n",
       "    word-break: break-all;\n",
       "    font-family: \"Menlo\", \"Monaco\", \"Consolas\", \"Ubuntu Mono\", \"Source Code Pro\", monospace;\n",
       "    font-size: 13px;\n",
       "    color: #555;\n",
       "    margin-left: 4px;\n",
       "    line-height: 19px;\n",
       "  }\n",
       "</style>"
      ]
     },
     "metadata": {
      "application/vnd.databricks.v1+output": {
       "arguments": {},
       "data": "",
       "errorSummary": "Command skipped",
       "errorTraceType": "html",
       "metadata": {},
       "type": "ipynbError"
      }
     },
     "output_type": "display_data"
    }
   ],
   "source": [
    "%sql\n",
    "-- view the versions, are they still there?\n",
    "describe history customer"
   ]
  },
  {
   "cell_type": "code",
   "execution_count": null,
   "metadata": {
    "application/vnd.databricks.v1+cell": {
     "cellMetadata": {
      "byteLimit": 2048000,
      "implicitDf": true,
      "rowLimit": 10000
     },
     "inputWidgets": {},
     "nuid": "888bf0c2-7a15-4bc8-866a-5c91dd7e5487",
     "showTitle": false,
     "title": ""
    }
   },
   "outputs": [
    {
     "data": {
      "text/html": [
       "<style scoped>\n",
       "  .ansiout {\n",
       "    display: block;\n",
       "    unicode-bidi: embed;\n",
       "    white-space: pre-wrap;\n",
       "    word-wrap: break-word;\n",
       "    word-break: break-all;\n",
       "    font-family: \"Menlo\", \"Monaco\", \"Consolas\", \"Ubuntu Mono\", \"Source Code Pro\", monospace;\n",
       "    font-size: 13px;\n",
       "    color: #555;\n",
       "    margin-left: 4px;\n",
       "    line-height: 19px;\n",
       "  }\n",
       "</style>"
      ]
     },
     "metadata": {
      "application/vnd.databricks.v1+output": {
       "arguments": {},
       "data": "",
       "errorSummary": "Command skipped",
       "errorTraceType": "html",
       "metadata": {},
       "type": "ipynbError"
      }
     },
     "output_type": "display_data"
    }
   ],
   "source": [
    "%sql\n",
    "\n",
    "--see what the row counts are for each version, does this make sense knowing what table operations were performed?\n",
    "select count(*), 4 as versionnum from customer version as of 4\n",
    "union all\n",
    "select count(*), 3 as versionnum from customer version as of 3\n",
    "union all\n",
    "select count(*), 2 as versionnum from customer version as of 2\n",
    "union all\n",
    "select count(*), 1 as versionnum from customer version as of 1\n",
    "union all \n",
    "select count(*), 0 as versionnum from customer version as of 0"
   ]
  }
 ],
 "metadata": {
  "application/vnd.databricks.v1+notebook": {
   "dashboards": [],
   "environmentMetadata": null,
   "language": "python",
   "notebookMetadata": {
    "mostRecentlyExecutedCommandWithImplicitDF": {
     "commandId": 1552322792316291,
     "dataframes": [
      "_sqldf"
     ]
    },
    "pythonIndentUnit": 2
   },
   "notebookName": "How to read ADLS storage from Databricks",
   "widgets": {
    "container_name": {
     "currentValue": "raw",
     "nuid": "964249b0-b23f-44e8-b1cd-e1ef2a88cdd6",
     "typedWidgetInfo": null,
     "widgetInfo": {
      "defaultValue": "",
      "label": "",
      "name": "container_name",
      "options": {
       "autoCreated": false,
       "validationRegex": null,
       "widgetType": "text"
      },
      "widgetType": "text"
     }
    },
    "folder_name": {
     "currentValue": "saleslt",
     "nuid": "b11dcf28-44e6-4ead-8fb6-916d7ec51302",
     "typedWidgetInfo": null,
     "widgetInfo": {
      "defaultValue": "",
      "label": "",
      "name": "folder_name",
      "options": {
       "autoCreated": false,
       "validationRegex": null,
       "widgetType": "text"
      },
      "widgetType": "text"
     }
    },
    "storage_account_name": {
     "currentValue": "jdobbinsidoc",
     "nuid": "2688929a-6ec0-47a6-9aab-b019d77853e4",
     "typedWidgetInfo": null,
     "widgetInfo": {
      "defaultValue": "",
      "label": "",
      "name": "storage_account_name",
      "options": {
       "autoCreated": false,
       "validationRegex": null,
       "widgetType": "text"
      },
      "widgetType": "text"
     }
    }
   }
  },
  "language_info": {
   "name": "python"
  }
 },
 "nbformat": 4,
 "nbformat_minor": 0
}
